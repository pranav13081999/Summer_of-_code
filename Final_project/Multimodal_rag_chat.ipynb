{
  "cells": [
    {
      "cell_type": "markdown",
      "metadata": {
        "id": "AUeScs9rB6Nk"
      },
      "source": [
        "# Realtime multimodal Usecase | Extract Image,Table,Text from Document | MultiModal Summrizer| RAG App"
      ]
    },
    {
      "cell_type": "code",
      "execution_count": null,
      "metadata": {
        "colab": {
          "base_uri": "https://localhost:8080/"
        },
        "collapsed": true,
        "id": "M7BsV2KiVRm2",
        "outputId": "8bc7e7b9-052d-4d10-a3db-f0cb6d4dbce7"
      },
      "outputs": [
        {
          "name": "stdout",
          "output_type": "stream",
          "text": [
            "Requirement already satisfied: pillow in /usr/local/lib/python3.10/dist-packages (10.4.0)\n",
            "Requirement already satisfied: pydantic in /usr/local/lib/python3.10/dist-packages (2.8.2)\n",
            "Requirement already satisfied: lxml in /usr/local/lib/python3.10/dist-packages (4.9.4)\n",
            "Requirement already satisfied: matplotlib in /usr/local/lib/python3.10/dist-packages (3.7.1)\n",
            "Requirement already satisfied: unstructured[all-docs] in /usr/local/lib/python3.10/dist-packages (0.15.0)\n",
            "Requirement already satisfied: chardet in /usr/local/lib/python3.10/dist-packages (from unstructured[all-docs]) (5.2.0)\n",
            "Requirement already satisfied: filetype in /usr/local/lib/python3.10/dist-packages (from unstructured[all-docs]) (1.2.0)\n",
            "Requirement already satisfied: python-magic in /usr/local/lib/python3.10/dist-packages (from unstructured[all-docs]) (0.4.27)\n",
            "Requirement already satisfied: nltk in /usr/local/lib/python3.10/dist-packages (from unstructured[all-docs]) (3.8.1)\n",
            "Requirement already satisfied: tabulate in /usr/local/lib/python3.10/dist-packages (from unstructured[all-docs]) (0.9.0)\n",
            "Requirement already satisfied: requests in /usr/local/lib/python3.10/dist-packages (from unstructured[all-docs]) (2.31.0)\n",
            "Requirement already satisfied: beautifulsoup4 in /usr/local/lib/python3.10/dist-packages (from unstructured[all-docs]) (4.12.3)\n",
            "Requirement already satisfied: emoji in /usr/local/lib/python3.10/dist-packages (from unstructured[all-docs]) (2.12.1)\n",
            "Requirement already satisfied: dataclasses-json in /usr/local/lib/python3.10/dist-packages (from unstructured[all-docs]) (0.6.7)\n",
            "Requirement already satisfied: python-iso639 in /usr/local/lib/python3.10/dist-packages (from unstructured[all-docs]) (2024.4.27)\n",
            "Requirement already satisfied: langdetect in /usr/local/lib/python3.10/dist-packages (from unstructured[all-docs]) (1.0.9)\n",
            "Requirement already satisfied: numpy<2 in /usr/local/lib/python3.10/dist-packages (from unstructured[all-docs]) (1.25.2)\n",
            "Requirement already satisfied: rapidfuzz in /usr/local/lib/python3.10/dist-packages (from unstructured[all-docs]) (3.9.4)\n",
            "Requirement already satisfied: backoff in /usr/local/lib/python3.10/dist-packages (from unstructured[all-docs]) (2.2.1)\n",
            "Requirement already satisfied: typing-extensions in /usr/local/lib/python3.10/dist-packages (from unstructured[all-docs]) (4.12.2)\n",
            "Requirement already satisfied: unstructured-client in /usr/local/lib/python3.10/dist-packages (from unstructured[all-docs]) (0.24.1)\n",
            "Requirement already satisfied: wrapt in /usr/local/lib/python3.10/dist-packages (from unstructured[all-docs]) (1.14.1)\n",
            "Requirement already satisfied: tqdm in /usr/local/lib/python3.10/dist-packages (from unstructured[all-docs]) (4.66.4)\n",
            "Requirement already satisfied: psutil in /usr/local/lib/python3.10/dist-packages (from unstructured[all-docs]) (5.9.5)\n",
            "Requirement already satisfied: pillow-heif in /usr/local/lib/python3.10/dist-packages (from unstructured[all-docs]) (0.17.0)\n",
            "Requirement already satisfied: openpyxl in /usr/local/lib/python3.10/dist-packages (from unstructured[all-docs]) (3.1.5)\n",
            "Requirement already satisfied: google-cloud-vision in /usr/local/lib/python3.10/dist-packages (from unstructured[all-docs]) (3.7.3)\n",
            "Requirement already satisfied: unstructured-inference==0.7.36 in /usr/local/lib/python3.10/dist-packages (from unstructured[all-docs]) (0.7.36)\n",
            "Requirement already satisfied: python-docx>=1.1.2 in /usr/local/lib/python3.10/dist-packages (from unstructured[all-docs]) (1.1.2)\n",
            "Requirement already satisfied: pikepdf in /usr/local/lib/python3.10/dist-packages (from unstructured[all-docs]) (9.1.0)\n",
            "Requirement already satisfied: xlrd in /usr/local/lib/python3.10/dist-packages (from unstructured[all-docs]) (2.0.1)\n",
            "Requirement already satisfied: python-pptx<=0.6.23 in /usr/local/lib/python3.10/dist-packages (from unstructured[all-docs]) (0.6.23)\n",
            "Requirement already satisfied: effdet in /usr/local/lib/python3.10/dist-packages (from unstructured[all-docs]) (0.4.1)\n",
            "Requirement already satisfied: pypandoc in /usr/local/lib/python3.10/dist-packages (from unstructured[all-docs]) (1.13)\n",
            "Requirement already satisfied: pypdf in /usr/local/lib/python3.10/dist-packages (from unstructured[all-docs]) (4.3.1)\n",
            "Requirement already satisfied: pytesseract in /usr/local/lib/python3.10/dist-packages (from unstructured[all-docs]) (0.3.10)\n",
            "Requirement already satisfied: onnx in /usr/local/lib/python3.10/dist-packages (from unstructured[all-docs]) (1.16.1)\n",
            "Requirement already satisfied: python-oxmsg in /usr/local/lib/python3.10/dist-packages (from unstructured[all-docs]) (0.0.1)\n",
            "Requirement already satisfied: networkx in /usr/local/lib/python3.10/dist-packages (from unstructured[all-docs]) (3.3)\n",
            "Requirement already satisfied: markdown in /usr/local/lib/python3.10/dist-packages (from unstructured[all-docs]) (3.6)\n",
            "Requirement already satisfied: pdf2image in /usr/local/lib/python3.10/dist-packages (from unstructured[all-docs]) (1.17.0)\n",
            "Requirement already satisfied: unstructured.pytesseract>=0.3.12 in /usr/local/lib/python3.10/dist-packages (from unstructured[all-docs]) (0.3.12)\n",
            "Requirement already satisfied: pandas in /usr/local/lib/python3.10/dist-packages (from unstructured[all-docs]) (2.0.3)\n",
            "Requirement already satisfied: pdfminer.six in /usr/local/lib/python3.10/dist-packages (from unstructured[all-docs]) (20231228)\n",
            "Requirement already satisfied: layoutparser in /usr/local/lib/python3.10/dist-packages (from unstructured-inference==0.7.36->unstructured[all-docs]) (0.3.4)\n",
            "Requirement already satisfied: python-multipart in /usr/local/lib/python3.10/dist-packages (from unstructured-inference==0.7.36->unstructured[all-docs]) (0.0.9)\n",
            "Requirement already satisfied: huggingface-hub in /usr/local/lib/python3.10/dist-packages (from unstructured-inference==0.7.36->unstructured[all-docs]) (0.23.5)\n",
            "Requirement already satisfied: opencv-python!=4.7.0.68 in /usr/local/lib/python3.10/dist-packages (from unstructured-inference==0.7.36->unstructured[all-docs]) (4.8.0.76)\n",
            "Requirement already satisfied: onnxruntime>=1.17.0 in /usr/local/lib/python3.10/dist-packages (from unstructured-inference==0.7.36->unstructured[all-docs]) (1.18.1)\n",
            "Requirement already satisfied: torch in /usr/local/lib/python3.10/dist-packages (from unstructured-inference==0.7.36->unstructured[all-docs]) (2.3.1+cu121)\n",
            "Requirement already satisfied: timm in /usr/local/lib/python3.10/dist-packages (from unstructured-inference==0.7.36->unstructured[all-docs]) (1.0.7)\n",
            "Requirement already satisfied: transformers>=4.25.1 in /usr/local/lib/python3.10/dist-packages (from unstructured-inference==0.7.36->unstructured[all-docs]) (4.42.4)\n",
            "Requirement already satisfied: annotated-types>=0.4.0 in /usr/local/lib/python3.10/dist-packages (from pydantic) (0.7.0)\n",
            "Requirement already satisfied: pydantic-core==2.20.1 in /usr/local/lib/python3.10/dist-packages (from pydantic) (2.20.1)\n",
            "Requirement already satisfied: contourpy>=1.0.1 in /usr/local/lib/python3.10/dist-packages (from matplotlib) (1.2.1)\n",
            "Requirement already satisfied: cycler>=0.10 in /usr/local/lib/python3.10/dist-packages (from matplotlib) (0.12.1)\n",
            "Requirement already satisfied: fonttools>=4.22.0 in /usr/local/lib/python3.10/dist-packages (from matplotlib) (4.53.1)\n",
            "Requirement already satisfied: kiwisolver>=1.0.1 in /usr/local/lib/python3.10/dist-packages (from matplotlib) (1.4.5)\n",
            "Requirement already satisfied: packaging>=20.0 in /usr/local/lib/python3.10/dist-packages (from matplotlib) (24.1)\n",
            "Requirement already satisfied: pyparsing>=2.3.1 in /usr/local/lib/python3.10/dist-packages (from matplotlib) (3.1.2)\n",
            "Requirement already satisfied: python-dateutil>=2.7 in /usr/local/lib/python3.10/dist-packages (from matplotlib) (2.8.2)\n",
            "Requirement already satisfied: six>=1.5 in /usr/local/lib/python3.10/dist-packages (from python-dateutil>=2.7->matplotlib) (1.16.0)\n",
            "Requirement already satisfied: XlsxWriter>=0.5.7 in /usr/local/lib/python3.10/dist-packages (from python-pptx<=0.6.23->unstructured[all-docs]) (3.2.0)\n",
            "Requirement already satisfied: soupsieve>1.2 in /usr/local/lib/python3.10/dist-packages (from beautifulsoup4->unstructured[all-docs]) (2.5)\n",
            "Requirement already satisfied: marshmallow<4.0.0,>=3.18.0 in /usr/local/lib/python3.10/dist-packages (from dataclasses-json->unstructured[all-docs]) (3.21.3)\n",
            "Requirement already satisfied: typing-inspect<1,>=0.4.0 in /usr/local/lib/python3.10/dist-packages (from dataclasses-json->unstructured[all-docs]) (0.9.0)\n",
            "Requirement already satisfied: torchvision in /usr/local/lib/python3.10/dist-packages (from effdet->unstructured[all-docs]) (0.18.1+cu121)\n",
            "Requirement already satisfied: pycocotools>=2.0.2 in /usr/local/lib/python3.10/dist-packages (from effdet->unstructured[all-docs]) (2.0.8)\n",
            "Requirement already satisfied: omegaconf>=2.0 in /usr/local/lib/python3.10/dist-packages (from effdet->unstructured[all-docs]) (2.3.0)\n",
            "Requirement already satisfied: google-api-core!=2.0.*,!=2.1.*,!=2.10.*,!=2.2.*,!=2.3.*,!=2.4.*,!=2.5.*,!=2.6.*,!=2.7.*,!=2.8.*,!=2.9.*,<3.0.0dev,>=1.34.1 in /usr/local/lib/python3.10/dist-packages (from google-api-core[grpc]!=2.0.*,!=2.1.*,!=2.10.*,!=2.2.*,!=2.3.*,!=2.4.*,!=2.5.*,!=2.6.*,!=2.7.*,!=2.8.*,!=2.9.*,<3.0.0dev,>=1.34.1->google-cloud-vision->unstructured[all-docs]) (2.19.1)\n",
            "Requirement already satisfied: google-auth!=2.24.0,!=2.25.0,<3.0.0dev,>=2.14.1 in /usr/local/lib/python3.10/dist-packages (from google-cloud-vision->unstructured[all-docs]) (2.27.0)\n",
            "Requirement already satisfied: proto-plus<2.0.0dev,>=1.22.3 in /usr/local/lib/python3.10/dist-packages (from google-cloud-vision->unstructured[all-docs]) (1.24.0)\n",
            "Requirement already satisfied: protobuf!=4.21.0,!=4.21.1,!=4.21.2,!=4.21.3,!=4.21.4,!=4.21.5,<6.0.0dev,>=3.20.2 in /usr/local/lib/python3.10/dist-packages (from google-cloud-vision->unstructured[all-docs]) (3.20.3)\n",
            "Requirement already satisfied: click in /usr/local/lib/python3.10/dist-packages (from nltk->unstructured[all-docs]) (8.1.7)\n",
            "Requirement already satisfied: joblib in /usr/local/lib/python3.10/dist-packages (from nltk->unstructured[all-docs]) (1.4.2)\n",
            "Requirement already satisfied: regex>=2021.8.3 in /usr/local/lib/python3.10/dist-packages (from nltk->unstructured[all-docs]) (2024.5.15)\n",
            "Requirement already satisfied: et-xmlfile in /usr/local/lib/python3.10/dist-packages (from openpyxl->unstructured[all-docs]) (1.1.0)\n",
            "Requirement already satisfied: pytz>=2020.1 in /usr/local/lib/python3.10/dist-packages (from pandas->unstructured[all-docs]) (2023.4)\n",
            "Requirement already satisfied: tzdata>=2022.1 in /usr/local/lib/python3.10/dist-packages (from pandas->unstructured[all-docs]) (2024.1)\n",
            "Requirement already satisfied: charset-normalizer>=2.0.0 in /usr/local/lib/python3.10/dist-packages (from pdfminer.six->unstructured[all-docs]) (3.3.2)\n",
            "Requirement already satisfied: cryptography>=36.0.0 in /usr/local/lib/python3.10/dist-packages (from pdfminer.six->unstructured[all-docs]) (43.0.0)\n",
            "Requirement already satisfied: Deprecated in /usr/local/lib/python3.10/dist-packages (from pikepdf->unstructured[all-docs]) (1.2.14)\n",
            "Requirement already satisfied: olefile in /usr/local/lib/python3.10/dist-packages (from python-oxmsg->unstructured[all-docs]) (0.47)\n",
            "Requirement already satisfied: idna<4,>=2.5 in /usr/local/lib/python3.10/dist-packages (from requests->unstructured[all-docs]) (3.7)\n",
            "Requirement already satisfied: urllib3<3,>=1.21.1 in /usr/local/lib/python3.10/dist-packages (from requests->unstructured[all-docs]) (2.0.7)\n",
            "Requirement already satisfied: certifi>=2017.4.17 in /usr/local/lib/python3.10/dist-packages (from requests->unstructured[all-docs]) (2024.7.4)\n",
            "Requirement already satisfied: deepdiff>=6.0 in /usr/local/lib/python3.10/dist-packages (from unstructured-client->unstructured[all-docs]) (7.0.1)\n",
            "Requirement already satisfied: httpx>=0.27.0 in /usr/local/lib/python3.10/dist-packages (from unstructured-client->unstructured[all-docs]) (0.27.0)\n",
            "Requirement already satisfied: jsonpath-python>=1.0.6 in /usr/local/lib/python3.10/dist-packages (from unstructured-client->unstructured[all-docs]) (1.0.6)\n",
            "Requirement already satisfied: mypy-extensions>=1.0.0 in /usr/local/lib/python3.10/dist-packages (from unstructured-client->unstructured[all-docs]) (1.0.0)\n",
            "Requirement already satisfied: nest-asyncio>=1.6.0 in /usr/local/lib/python3.10/dist-packages (from unstructured-client->unstructured[all-docs]) (1.6.0)\n",
            "Requirement already satisfied: requests-toolbelt>=1.0.0 in /usr/local/lib/python3.10/dist-packages (from unstructured-client->unstructured[all-docs]) (1.0.0)\n",
            "Requirement already satisfied: cffi>=1.12 in /usr/local/lib/python3.10/dist-packages (from cryptography>=36.0.0->pdfminer.six->unstructured[all-docs]) (1.16.0)\n",
            "Requirement already satisfied: ordered-set<4.2.0,>=4.1.0 in /usr/local/lib/python3.10/dist-packages (from deepdiff>=6.0->unstructured-client->unstructured[all-docs]) (4.1.0)\n",
            "Requirement already satisfied: googleapis-common-protos<2.0.dev0,>=1.56.2 in /usr/local/lib/python3.10/dist-packages (from google-api-core!=2.0.*,!=2.1.*,!=2.10.*,!=2.2.*,!=2.3.*,!=2.4.*,!=2.5.*,!=2.6.*,!=2.7.*,!=2.8.*,!=2.9.*,<3.0.0dev,>=1.34.1->google-api-core[grpc]!=2.0.*,!=2.1.*,!=2.10.*,!=2.2.*,!=2.3.*,!=2.4.*,!=2.5.*,!=2.6.*,!=2.7.*,!=2.8.*,!=2.9.*,<3.0.0dev,>=1.34.1->google-cloud-vision->unstructured[all-docs]) (1.63.2)\n",
            "Requirement already satisfied: grpcio<2.0dev,>=1.33.2 in /usr/local/lib/python3.10/dist-packages (from google-api-core[grpc]!=2.0.*,!=2.1.*,!=2.10.*,!=2.2.*,!=2.3.*,!=2.4.*,!=2.5.*,!=2.6.*,!=2.7.*,!=2.8.*,!=2.9.*,<3.0.0dev,>=1.34.1->google-cloud-vision->unstructured[all-docs]) (1.64.1)\n",
            "Requirement already satisfied: grpcio-status<2.0.dev0,>=1.33.2 in /usr/local/lib/python3.10/dist-packages (from google-api-core[grpc]!=2.0.*,!=2.1.*,!=2.10.*,!=2.2.*,!=2.3.*,!=2.4.*,!=2.5.*,!=2.6.*,!=2.7.*,!=2.8.*,!=2.9.*,<3.0.0dev,>=1.34.1->google-cloud-vision->unstructured[all-docs]) (1.48.2)\n",
            "Requirement already satisfied: cachetools<6.0,>=2.0.0 in /usr/local/lib/python3.10/dist-packages (from google-auth!=2.24.0,!=2.25.0,<3.0.0dev,>=2.14.1->google-cloud-vision->unstructured[all-docs]) (5.4.0)\n",
            "Requirement already satisfied: pyasn1-modules>=0.2.1 in /usr/local/lib/python3.10/dist-packages (from google-auth!=2.24.0,!=2.25.0,<3.0.0dev,>=2.14.1->google-cloud-vision->unstructured[all-docs]) (0.4.0)\n",
            "Requirement already satisfied: rsa<5,>=3.1.4 in /usr/local/lib/python3.10/dist-packages (from google-auth!=2.24.0,!=2.25.0,<3.0.0dev,>=2.14.1->google-cloud-vision->unstructured[all-docs]) (4.9)\n",
            "Requirement already satisfied: anyio in /usr/local/lib/python3.10/dist-packages (from httpx>=0.27.0->unstructured-client->unstructured[all-docs]) (3.7.1)\n",
            "Requirement already satisfied: httpcore==1.* in /usr/local/lib/python3.10/dist-packages (from httpx>=0.27.0->unstructured-client->unstructured[all-docs]) (1.0.5)\n",
            "Requirement already satisfied: sniffio in /usr/local/lib/python3.10/dist-packages (from httpx>=0.27.0->unstructured-client->unstructured[all-docs]) (1.3.1)\n",
            "Requirement already satisfied: h11<0.15,>=0.13 in /usr/local/lib/python3.10/dist-packages (from httpcore==1.*->httpx>=0.27.0->unstructured-client->unstructured[all-docs]) (0.14.0)\n",
            "Requirement already satisfied: antlr4-python3-runtime==4.9.* in /usr/local/lib/python3.10/dist-packages (from omegaconf>=2.0->effdet->unstructured[all-docs]) (4.9.3)\n",
            "Requirement already satisfied: PyYAML>=5.1.0 in /usr/local/lib/python3.10/dist-packages (from omegaconf>=2.0->effdet->unstructured[all-docs]) (6.0.1)\n",
            "Requirement already satisfied: coloredlogs in /usr/local/lib/python3.10/dist-packages (from onnxruntime>=1.17.0->unstructured-inference==0.7.36->unstructured[all-docs]) (15.0.1)\n",
            "Requirement already satisfied: flatbuffers in /usr/local/lib/python3.10/dist-packages (from onnxruntime>=1.17.0->unstructured-inference==0.7.36->unstructured[all-docs]) (24.3.25)\n",
            "Requirement already satisfied: sympy in /usr/local/lib/python3.10/dist-packages (from onnxruntime>=1.17.0->unstructured-inference==0.7.36->unstructured[all-docs]) (1.13.1)\n",
            "Requirement already satisfied: safetensors in /usr/local/lib/python3.10/dist-packages (from timm->unstructured-inference==0.7.36->unstructured[all-docs]) (0.4.3)\n",
            "Requirement already satisfied: filelock in /usr/local/lib/python3.10/dist-packages (from torch->unstructured-inference==0.7.36->unstructured[all-docs]) (3.15.4)\n",
            "Requirement already satisfied: jinja2 in /usr/local/lib/python3.10/dist-packages (from torch->unstructured-inference==0.7.36->unstructured[all-docs]) (3.1.4)\n",
            "Requirement already satisfied: fsspec in /usr/local/lib/python3.10/dist-packages (from torch->unstructured-inference==0.7.36->unstructured[all-docs]) (2023.6.0)\n",
            "Requirement already satisfied: nvidia-cuda-nvrtc-cu12==12.1.105 in /usr/local/lib/python3.10/dist-packages (from torch->unstructured-inference==0.7.36->unstructured[all-docs]) (12.1.105)\n",
            "Requirement already satisfied: nvidia-cuda-runtime-cu12==12.1.105 in /usr/local/lib/python3.10/dist-packages (from torch->unstructured-inference==0.7.36->unstructured[all-docs]) (12.1.105)\n",
            "Requirement already satisfied: nvidia-cuda-cupti-cu12==12.1.105 in /usr/local/lib/python3.10/dist-packages (from torch->unstructured-inference==0.7.36->unstructured[all-docs]) (12.1.105)\n",
            "Requirement already satisfied: nvidia-cudnn-cu12==8.9.2.26 in /usr/local/lib/python3.10/dist-packages (from torch->unstructured-inference==0.7.36->unstructured[all-docs]) (8.9.2.26)\n",
            "Requirement already satisfied: nvidia-cublas-cu12==12.1.3.1 in /usr/local/lib/python3.10/dist-packages (from torch->unstructured-inference==0.7.36->unstructured[all-docs]) (12.1.3.1)\n",
            "Requirement already satisfied: nvidia-cufft-cu12==11.0.2.54 in /usr/local/lib/python3.10/dist-packages (from torch->unstructured-inference==0.7.36->unstructured[all-docs]) (11.0.2.54)\n",
            "Requirement already satisfied: nvidia-curand-cu12==10.3.2.106 in /usr/local/lib/python3.10/dist-packages (from torch->unstructured-inference==0.7.36->unstructured[all-docs]) (10.3.2.106)\n",
            "Requirement already satisfied: nvidia-cusolver-cu12==11.4.5.107 in /usr/local/lib/python3.10/dist-packages (from torch->unstructured-inference==0.7.36->unstructured[all-docs]) (11.4.5.107)\n",
            "Requirement already satisfied: nvidia-cusparse-cu12==12.1.0.106 in /usr/local/lib/python3.10/dist-packages (from torch->unstructured-inference==0.7.36->unstructured[all-docs]) (12.1.0.106)\n",
            "Requirement already satisfied: nvidia-nccl-cu12==2.20.5 in /usr/local/lib/python3.10/dist-packages (from torch->unstructured-inference==0.7.36->unstructured[all-docs]) (2.20.5)\n",
            "Requirement already satisfied: nvidia-nvtx-cu12==12.1.105 in /usr/local/lib/python3.10/dist-packages (from torch->unstructured-inference==0.7.36->unstructured[all-docs]) (12.1.105)\n",
            "Requirement already satisfied: triton==2.3.1 in /usr/local/lib/python3.10/dist-packages (from torch->unstructured-inference==0.7.36->unstructured[all-docs]) (2.3.1)\n",
            "Requirement already satisfied: nvidia-nvjitlink-cu12 in /usr/local/lib/python3.10/dist-packages (from nvidia-cusolver-cu12==11.4.5.107->torch->unstructured-inference==0.7.36->unstructured[all-docs]) (12.5.82)\n",
            "Requirement already satisfied: tokenizers<0.20,>=0.19 in /usr/local/lib/python3.10/dist-packages (from transformers>=4.25.1->unstructured-inference==0.7.36->unstructured[all-docs]) (0.19.1)\n",
            "Requirement already satisfied: scipy in /usr/local/lib/python3.10/dist-packages (from layoutparser->unstructured-inference==0.7.36->unstructured[all-docs]) (1.11.4)\n",
            "Requirement already satisfied: iopath in /usr/local/lib/python3.10/dist-packages (from layoutparser->unstructured-inference==0.7.36->unstructured[all-docs]) (0.1.10)\n",
            "Requirement already satisfied: pdfplumber in /usr/local/lib/python3.10/dist-packages (from layoutparser->unstructured-inference==0.7.36->unstructured[all-docs]) (0.11.2)\n",
            "Requirement already satisfied: pycparser in /usr/local/lib/python3.10/dist-packages (from cffi>=1.12->cryptography>=36.0.0->pdfminer.six->unstructured[all-docs]) (2.22)\n",
            "Requirement already satisfied: pyasn1<0.7.0,>=0.4.6 in /usr/local/lib/python3.10/dist-packages (from pyasn1-modules>=0.2.1->google-auth!=2.24.0,!=2.25.0,<3.0.0dev,>=2.14.1->google-cloud-vision->unstructured[all-docs]) (0.6.0)\n",
            "Requirement already satisfied: exceptiongroup in /usr/local/lib/python3.10/dist-packages (from anyio->httpx>=0.27.0->unstructured-client->unstructured[all-docs]) (1.2.2)\n",
            "Requirement already satisfied: humanfriendly>=9.1 in /usr/local/lib/python3.10/dist-packages (from coloredlogs->onnxruntime>=1.17.0->unstructured-inference==0.7.36->unstructured[all-docs]) (10.0)\n",
            "Requirement already satisfied: portalocker in /usr/local/lib/python3.10/dist-packages (from iopath->layoutparser->unstructured-inference==0.7.36->unstructured[all-docs]) (2.10.1)\n",
            "Requirement already satisfied: MarkupSafe>=2.0 in /usr/local/lib/python3.10/dist-packages (from jinja2->torch->unstructured-inference==0.7.36->unstructured[all-docs]) (2.1.5)\n",
            "Requirement already satisfied: pypdfium2>=4.18.0 in /usr/local/lib/python3.10/dist-packages (from pdfplumber->layoutparser->unstructured-inference==0.7.36->unstructured[all-docs]) (4.30.0)\n",
            "Requirement already satisfied: mpmath<1.4,>=1.1.0 in /usr/local/lib/python3.10/dist-packages (from sympy->onnxruntime>=1.17.0->unstructured-inference==0.7.36->unstructured[all-docs]) (1.3.0)\n"
          ]
        }
      ],
      "source": [
        "! pip install \"unstructured[all-docs]\" pillow pydantic lxml matplotlib"
      ]
    },
    {
      "cell_type": "code",
      "execution_count": null,
      "metadata": {
        "colab": {
          "base_uri": "https://localhost:8080/"
        },
        "collapsed": true,
        "id": "9ERiIOhfeWeJ",
        "outputId": "3fdfd87f-c608-484b-c4c6-c48f3d7c2185"
      },
      "outputs": [
        {
          "name": "stdout",
          "output_type": "stream",
          "text": [
            "\r0% [Working]\r            \rHit:1 http://security.ubuntu.com/ubuntu jammy-security InRelease\n",
            "\r0% [Connecting to archive.ubuntu.com (91.189.91.81)] [Connected to cloud.r-proj\r                                                                               \rHit:2 http://archive.ubuntu.com/ubuntu jammy InRelease\n",
            "\r                                                                               \rHit:3 http://archive.ubuntu.com/ubuntu jammy-updates InRelease\n",
            "\r0% [Waiting for headers] [Connected to cloud.r-project.org (108.138.128.126)] [\r                                                                               \rHit:4 http://archive.ubuntu.com/ubuntu jammy-backports InRelease\n",
            "\r0% [Connected to cloud.r-project.org (108.138.128.126)] [Connected to r2u.stat.\r                                                                               \rHit:5 https://cloud.r-project.org/bin/linux/ubuntu jammy-cran40/ InRelease\n",
            "\r0% [Waiting for headers] [Waiting for headers] [Connected to ppa.launchpadconte\r                                                                               \rHit:6 https://developer.download.nvidia.com/compute/cuda/repos/ubuntu2204/x86_64  InRelease\n",
            "\r0% [Waiting for headers] [Connected to ppa.launchpadcontent.net (185.125.190.80\r                                                                               \rIgn:7 https://r2u.stat.illinois.edu/ubuntu jammy InRelease\n",
            "Hit:8 https://r2u.stat.illinois.edu/ubuntu jammy Release\n",
            "Hit:9 https://ppa.launchpadcontent.net/deadsnakes/ppa/ubuntu jammy InRelease\n",
            "Hit:10 https://ppa.launchpadcontent.net/graphics-drivers/ppa/ubuntu jammy InRelease\n",
            "Hit:11 https://ppa.launchpadcontent.net/ubuntugis/ppa/ubuntu jammy InRelease\n",
            "Reading package lists... Done\n",
            "W: Skipping acquire of configured file 'main/source/Sources' as repository 'https://r2u.stat.illinois.edu/ubuntu jammy InRelease' does not seem to provide it (sources.list entry misspelt?)\n"
          ]
        }
      ],
      "source": [
        "!sudo apt-get update"
      ]
    },
    {
      "cell_type": "code",
      "execution_count": null,
      "metadata": {
        "colab": {
          "base_uri": "https://localhost:8080/"
        },
        "collapsed": true,
        "id": "Mu97I46AefNj",
        "outputId": "5b37e18f-b5c5-47b0-bdf2-0a4df7b94c20"
      },
      "outputs": [
        {
          "name": "stdout",
          "output_type": "stream",
          "text": [
            "Reading package lists... Done\n",
            "Building dependency tree... Done\n",
            "Reading state information... Done\n",
            "poppler-utils is already the newest version (22.02.0-2ubuntu0.5).\n",
            "0 upgraded, 0 newly installed, 0 to remove and 46 not upgraded.\n"
          ]
        }
      ],
      "source": [
        "!sudo apt-get install poppler-utils"
      ]
    },
    {
      "cell_type": "code",
      "execution_count": null,
      "metadata": {
        "colab": {
          "base_uri": "https://localhost:8080/"
        },
        "collapsed": true,
        "id": "BmntZhzTejwH",
        "outputId": "409568a1-3298-4523-a09a-2e7c78552abe"
      },
      "outputs": [
        {
          "name": "stdout",
          "output_type": "stream",
          "text": [
            "Reading package lists... Done\n",
            "Building dependency tree... Done\n",
            "Reading state information... Done\n",
            "libleptonica-dev is already the newest version (1.82.0-3build1).\n",
            "libtesseract-dev is already the newest version (4.1.1-2.1build1).\n",
            "tesseract-ocr is already the newest version (4.1.1-2.1build1).\n",
            "tesseract-ocr-eng is already the newest version (1:4.00~git30-7274cfa-1.1).\n",
            "tesseract-ocr-script-latn is already the newest version (1:4.00~git30-7274cfa-1.1).\n",
            "python3-pil is already the newest version (9.0.1-1ubuntu0.3).\n",
            "0 upgraded, 0 newly installed, 0 to remove and 46 not upgraded.\n"
          ]
        }
      ],
      "source": [
        "!sudo apt-get install libleptonica-dev tesseract-ocr libtesseract-dev python3-pil tesseract-ocr-eng tesseract-ocr-script-latn"
      ]
    },
    {
      "cell_type": "code",
      "execution_count": null,
      "metadata": {
        "colab": {
          "base_uri": "https://localhost:8080/"
        },
        "collapsed": true,
        "id": "u7Rrt88Nex_u",
        "outputId": "6eeff569-b49c-43f1-8a5b-ef3665b3d42f"
      },
      "outputs": [
        {
          "name": "stdout",
          "output_type": "stream",
          "text": [
            "Requirement already satisfied: unstructured-pytesseract in /usr/local/lib/python3.10/dist-packages (0.3.12)\n",
            "Requirement already satisfied: packaging>=21.3 in /usr/local/lib/python3.10/dist-packages (from unstructured-pytesseract) (24.1)\n",
            "Requirement already satisfied: Pillow>=8.0.0 in /usr/local/lib/python3.10/dist-packages (from unstructured-pytesseract) (10.4.0)\n",
            "Requirement already satisfied: tesseract-ocr in /usr/local/lib/python3.10/dist-packages (0.0.1)\n",
            "Requirement already satisfied: cython in /usr/local/lib/python3.10/dist-packages (from tesseract-ocr) (3.0.10)\n"
          ]
        }
      ],
      "source": [
        "!pip install unstructured-pytesseract\n",
        "!pip install tesseract-ocr"
      ]
    },
    {
      "cell_type": "code",
      "execution_count": null,
      "metadata": {
        "id": "GiVgnFmee7M7"
      },
      "outputs": [],
      "source": [
        "from unstructured.partition.pdf import partition_pdf"
      ]
    },
    {
      "cell_type": "code",
      "execution_count": null,
      "metadata": {
        "colab": {
          "base_uri": "https://localhost:8080/",
          "height": 49,
          "referenced_widgets": [
            "7953eb7ed5144a9496488c4456c45042",
            "23b7fa4c2b2544f0b3b17815a26f6091",
            "46a3f8f4f79d4da997eb05df4cbf3296",
            "f3f8713c725144289c2a9877513e2b60",
            "8148c526acbc45a1811ea5503f6a1962",
            "58816af8cf284fe88030d40d284279df",
            "7d570138ba5545cfaca6540b6304c9bf",
            "98a578bd4b8c4a7a932470c8d5f7ebc5",
            "b99f48d23b4e4a90a99a36d9216ffe44",
            "1b8575c46b9f4f6095f71d52224940c4",
            "d386c001f21c48d1b5f4603b407138e0"
          ]
        },
        "id": "j9uoVggzfWRI",
        "outputId": "edf29bec-66eb-4e48-d73d-da3c5e03c651"
      },
      "outputs": [
        {
          "data": {
            "application/vnd.jupyter.widget-view+json": {
              "model_id": "7953eb7ed5144a9496488c4456c45042",
              "version_major": 2,
              "version_minor": 0
            },
            "text/plain": [
              "yolox_l0.05.onnx:   0%|          | 0.00/217M [00:00<?, ?B/s]"
            ]
          },
          "metadata": {},
          "output_type": "display_data"
        }
      ],
      "source": [
        "raw_pdf_elements=partition_pdf(\n",
        "    filename=\"D:\\SUMMER_OF_CODE\\Final_project\\Candlestick_Patterns_Multimodal_Data_SOC166.pdf\",\n",
        "    strategy=\"hi_res\",\n",
        "    extract_images_in_pdf=True,\n",
        "    extract_image_block_types=[\"Image\", \"Table\"],\n",
        "    extract_image_block_to_payload=False,\n",
        "    extract_image_block_output_dir=\"extracted_data\"\n",
        "  )"
      ]
    },
    {
      "cell_type": "code",
      "execution_count": null,
      "metadata": {
        "id": "0udLgeRzkWzo"
      },
      "outputs": [],
      "source": [
        "Header=[]\n",
        "Footer=[]\n",
        "Title=[]\n",
        "NarrativeText=[]\n",
        "Text=[]\n",
        "ListItem=[]\n",
        "\n",
        "\n",
        "for element in raw_pdf_elements:\n",
        "  if \"unstructured.documents.elements.Header\" in str(type(element)):\n",
        "            Header.append(str(element))\n",
        "  elif \"unstructured.documents.elements.Footer\" in str(type(element)):\n",
        "            Footer.append(str(element))\n",
        "  elif \"unstructured.documents.elements.Title\" in str(type(element)):\n",
        "            Title.append(str(element))\n",
        "  elif \"unstructured.documents.elements.NarrativeText\" in str(type(element)):\n",
        "            NarrativeText.append(str(element))\n",
        "  elif \"unstructured.documents.elements.Text\" in str(type(element)):\n",
        "            Text.append(str(element))\n",
        "  elif \"unstructured.documents.elements.ListItem\" in str(type(element)):\n",
        "            ListItem.append(str(element))\n",
        "\n"
      ]
    },
    {
      "cell_type": "code",
      "execution_count": null,
      "metadata": {
        "colab": {
          "base_uri": "https://localhost:8080/"
        },
        "collapsed": true,
        "id": "U3Qjtbxfkslh",
        "outputId": "8f2142ba-2243-492c-8f15-48af4023b56d"
      },
      "outputs": [
        {
          "data": {
            "text/plain": [
              "['Put simply, candlesticks are a way of communicating information about how price is moving. Candlestick charts are available on ThinkForex trading platforms for all assets individuals can trade on the platforms. Below is a sample of a candlestick chart derived from the ThinkForex web trading platform:',\n",
              " 'This chart shows price on the right (vertical) axis, and time on the bottom (horizontal) axis. Moreover, the chart is made of bars that have little lines stemming from the top and the bottom; these are known as candles. The candle conveys four pieces of information:',\n",
              " 'Candles refer to that information for a specific unit of time. For instance, the chart above is a daily chart; each chart represents one day. And thus, each candle constitutes, the open, close, high, and low price for that given day. The horizontal axis at the bottom of the chart can be used to understand which day corresponds to which candle. Below is an image that illustrates how those four pieces of information the open, low, high, and close for a given period of time are visualized in the context of a candle:',\n",
              " 'The wicks, or shadows, are the thin lines that go outside the rectangular body of the candle. They represent the high and the low price during that time period.',\n",
              " 'The color of the candle is also significant in understanding whether the open price was higher or lower than the close price. If the candle is red, or denoted as bearish in some other manner, this means that the open price is lower than the close; and the opposite is true if the candle is green, or denoted as bearish.',\n",
              " 'Price action traders rely on candlesticks because they convey a great deal of information about each trading period in a visual format that is easy to interpret, allowing traders to compare the behavior of price in different time periods with a quick glance at a price action chart. Each candlestick can be “read” as a meaningful part of the developing narrative of price. They communicate the “market sentiment”: whether (and to what extent) bears or bulls were in control, and how far traders managed to push price in both directions. For example, a long candle’s body with no wicks indicates a definitive shift in this struggle for',\n",
              " 'power, whereas a candle with a long upper wick beyond its body indicates a more contentious period with an effort by bulls to push price higher that was pushed back by pressure from bears before the close of the candle. Certain re-occurring candlestick patterns have become popular among traders as reliable signals of future market behavior. This guide is intended as an introduction to some of these patterns, which helptraders make sense of market conditions and recognize advantageous times to enter trades.',\n",
              " 'The ability to read candlesticks allows the price action trader to become a meta-strategist, taking into account the behaviors of other traders and large-scale market-movers. In other words, candlestick patterns help traders.',\n",
              " 'Calibrate their own trading with the fluctuations and reversals of larger, more influential participants in market, often referred to as “Smart Money”, so that traders can identify and participate in significant price moves.',\n",
              " 'The chart below demonstrates some of the innumerable patterns formed by candlesticks in the context of a daily price action chart. These patterns will be discussed and elaborated upon in the remainder of this guide.',\n",
              " 'This candle has zero or almost zero range between its open and close. Rather than implying potential reversal or the clear dominance of either bears or bulls, these candles suggest indecision or balance between the two forces. Neither buyers nor sellers are fully in control. A doji that occurs in the context of a strong trend implies the weakening of the dominant force that resulted in that trend. A “long-legged doji” has long wicks in both directions, implying strong, balanced pressure from both buyers and sellers.',\n",
              " 'The “dragonfly” and “gravestone” doji imply, respectively, that sellers and buyers controlled the market for most of the trading period, but then the opposite group managed to push price back to the open before the close. While tradition and long-legged dojis are reflective of indecision and stalling, gravestone and dragonfly are generally clearer, stronger indicators that a force is stepping in to push the market in the direction of the wick and away from the body. In this respect, gravestone and dragonfly dojis are similar to hammer and hanging man patterns, which are discussed later in this guide.',\n",
              " 'A “hammer” is a candlestick with a small body (a small range from open to close), a long wick protruding below the body, and little to no wick above. In this respect it is very similar to a dragonfly doji; the primary difference is that a dragonfly doji will have essentially no body, meaning the open and close prices are equal.',\n",
              " 'When a hammer appears at the bottom of a downtrend, its long wick implies',\n",
              " 'an unsuccessful effort by bears to push price down, and a corresponding',\n",
              " 'effort by bulls to step in and push price back up quickly before the period closed. As such, a hammer candlestick in the context of a downtrend suggests the potential exhaustion of the downtrend and the onset of a bullish reversal. The “neckline,” often determined by the high of the previous bar, is the level that price must hit on the next candlestick in order to confirm the hammer’s reversal signal.',\n",
              " 'The “hanging man” is the name given to a candle that is identical in shape to the hammer; the difference is that while hammers occur in downtrends, the hanging man pattern occurs in uptrends. In this case, the wick extends down, contrary to the uptrend, and suggests the emergence of bearish demand capable of pushing the price down. It is often the first sign that the uptrend is exhausting, and bears are stepping in to create a reversal.',\n",
              " 'For the reversal signal to be confirmed, the consequent bearish bar should reach the “neckline” established by the open of the bullish bar on the other side of the hanging man.',\n",
              " 'This candlestick is simply the inversion of the hanging man: it has a small body and a long wick protruding above it, with little to no wick below. The “shooting star” occurs at the height of an uptrend; its long wick implies that resistance to further bullish movement has been encountered above the close, and a bearish reversal may be imminent. In this case, a strong black candle or a price at the level of the previous bar’s open can act as confirmation or an entry point. Often, shooting stars are further characterized by a gap between the previous bar’s close and the relatively higher open of the shooting star.',\n",
              " 'Checkmates occur when price becomes locked in a narrow trading range preceding a reversal in direction. In a typical bearish checkmate (right), an uptrend meets a resistance level that is tested and then rejected due to consequent pressure from holding the level. In these cases, the checkmate begins as the first candle in the range reaches a high that the pressure from bulls is unable to surpass. Price remains deadlocked in a tight trading range before the range is broken with a long bearish candlestick, indicating that the reversal has begun. As an entry signal, this pattern requires confirmation from one or two strong bearish bars.',\n",
              " 'In a bullish checkmate (right), the opposite occurs, typically at a support rather than resistance level. The long lower wick of the first pinbar in the red box establishes a low that the bears cannot achieve; price is trapped thereafter in a narrow trading range, the checkmate, until bulls successfully reverse the trend. The tall white bar immediately after the box confirms the bullish reversal.',\n",
              " 'In the patterns that have been presented thus far, a simple concept should be emerging: when a long wick appears in the context of a trend, it often signals a potential reversal of that trend.',\n",
              " 'Page 9 of 18',\n",
              " 'The “evening star” is the small-bodied middle candle of a 3-bar pattern that can provide an early indication of a reversal from a bullish to a bearish trend, typically with an opening price at or a gap above the close of the previous candle (a gap indicates space between the body of the previous candle and the open of the consequent candle). The pattern represents a potential top, and therefore a potential signal to sell. These are the characteristics of the three candles:',\n",
              " '1. A long bullish candle',\n",
              " '2. A small-bodied bullish or bearish candle or a doji that opens at or above the close of the previous candle. 3. A black candle that opens at or below the low point of the previous candle’s body and closes at or below the center of the first candle.',\n",
              " 'In order for the pattern to be valid, the sequence of candles must be as described above. Moreover, the pattern should appear in the context of an uptrend in order to signal a reversal and the start of a downtrend.',\n",
              " 'The “morning star” is the inverse of the evening star, a 3-bar pattern in which the “star” is a small-bodied candle, typically opening at the close of the previous candle or opening a gap below it, indicating that a trend is transitioning from bearish to bullish. The morning star constitutes a potential bottom to the preceding bearish leg, and functions therefore as a buy signal. The three candles are as follows:',\n",
              " '1. A long bearish candle',\n",
              " '2. A small-bodied bullish or bearish candle or a doji that opens at or below the close of the previous candle',\n",
              " 'Page 10 of 18',\n",
              " '3. A white bullish candle that opens at or above the high point of the previous candle and closes at or above the center of the first candle.',\n",
              " 'While an evening star pattern after an uptrend signals a reversal, the opposite a morning star pattern in a downtrend can also signal reversal, and a change in the balance of power between bears and bulls.',\n",
              " '(the range from open to close) is encompassed by the',\n",
              " 'body of a consequent bullish candle. This indicates an',\n",
              " 'bullishness. Like with all the patterns we’ve discussed',\n",
              " 'thus far, this pattern should be viewed in consideration of the trend at the time: if a bullish engulfing pattern appears in a downtrend, it can suggest a shift price trend and the onset of buying demand becoming the prevailing force that will ultimately push price higher in the context of the timeframe being viewed.',\n",
              " 'This pattern is the converse of a bullish engulfing pattern, wherein the body of a bullish candle is encompassed by the body of a consequent bullish candle. This indicates an increase in activity from both bears and bulls, and a shift of market sentiment towards bearishness. As we have observed with other patterns, bearish price move when it appears in the midst of an uptrend.',\n",
              " 'the context of the trend is critical; a bearish engulfing pattern is most indicative of the onset of a',\n",
              " 'Page 11 of 18',\n",
              " 'This pattern is a two-candlestick pattern in which the first candlestick vertically encompasses the one that follows it. This signal is interpreted in two ways:',\n",
              " '1. An indication that an increase in volatility is imminent. This affords traders the opportunity to create trades that speculate not so much on direction, but rather on an increase in volatility on a breakout in any specific direction. 2. In the context of a trend, a harami/inside bar can be indicative of exhaustion and the onset of a reversal. In this manner, it is similar to long wick patterns and evening star/morning star patterns examined earlier in this guide.',\n",
              " 'A kicker signal, also known as a professional gap, occurs when the following conditions are met:',\n",
              " '1. Price is moving in a trend.',\n",
              " '2. Suddenly, a gap appears in the chart. A gap is defined as when the open price of one candle is not equal to the close price of the candle that precedes it; there is a gap in the price movement. The gap is in the opposite direction of the trend. For instance, imagine that price closed at 10 after rallying over a number of days from 2. The next day, price opens at 8. In this instance, we have a gap down, or a bearish kicker. Conversely, if price fell from 10 to 3 and then opened the next day at 5, it would signal a bullish kicker, a bullish sign for traders.',\n",
              " 'A kicker signal can be a very powerful sign that a trend is reversing. It is often interpreted as a sign that professional investors have quickly realized that a trend is over, and are looking to get out immediately. As such, this signal often precipitates a rapid reversal of the prior trend.',\n",
              " 'A bullish signal that occurs in the context of a downtrend when, after a long bearish candle, a bullish candle opens at a new low and then closes at a level at least halfway up the body of the previous bar; this signal is reliable as a two-bar indicator of a trend reversal in proportion to the height of the second bullish bar. As the strength of the reversal signal is related to the size of the second candle, this pattern is similar to the Tweezer pattern, which is discussed later in this guide.',\n",
              " 'This two-candle bearish reversal pattern is the bearish converse of the piercing line, occurring at the top of a bullish trend. The first bullish candle is followed by a bearish candle that opens at a new high and then closes at least halfway down the body of the bar preceding it. The strength of the reversal signal is proportionate to the length of the second candle. This pattern is clearly conceptually and mathematically similar to the Piercing Line and Tweezer patterns.',\n",
              " 'Page 13 of 18',\n",
              " 'This is a 3-candle bullish pattern that implies a reversal at the bottom of a bearish trend. The three soldiers are bullish candlesticks that open within the body of the previous candlestick and close near the high of the day. This applies to all three candles; they should all be strong bullish candles, with small wicks and a close near the top. These high closes imply a strong reversal from bearish to bullish market sentiment.',\n",
              " 'This 3-candle pattern is the opposite of “Three White Soldiers;” it signals the reversal away from bullish control at the top of an uptrend. It consists of three successive bearish bars that open within the preceding bar’s body and close below its close.',\n",
              " 'Page 14 of 18',\n",
              " 'These two-candlestick reversal patterns appear as either the tops or bottoms of trends in which two consecutive candlesticks share either a high or low, but represent movements in opposite market directions. In the case of a tweezer top, the first bullish candlestick occurs in an uptrend and closes near the same level as its high, which then becomes the high of the second candlestick, which moves bearishly downwards throughout the day. A tweezer bottom is the opposite, wherein an initial bearish candlestick continues a downtrend, closing at or near a new low, which then becomes the low price of a consequent bullish candlestick. Tweezers indicate that once price reached a significant level (the top or bottom shared by the two bars), there was a transfer of dominance between bears and bulls. As noted previously, it is similar to the Piercing Line and Dark Cloud Cover patterns.',\n",
              " 'In technical analysis, there is no such thing as a “sure bet.” The nature of trading securities is that the possibility of profit comes hand in hand with the possibility of risk. With this uncertainty in mind, the successful application of technical analysis depends on entering the market at the moment when there are as many indicators of an advantageous outcome as possible. This is the concept of “confluence,” the idea that the best market moves are those that are supported by multiple converging factors or indicators that all testify to the advantageous conditions of the trade.',\n",
              " 'Accordingly, consider the examples below. They show instances in which candlesticks and other signs – often support and resistance levels -- have converged to show the same sign. While the images below illustrate profitable trades, it is worth re-iterating that candlestick patterns, like virtually all textbook techniques, are not guarantees; they communicate probabilities rather than certainties. As such, a probabilistic mentality and risk management perspective must be maintained.']"
            ]
          },
          "execution_count": 9,
          "metadata": {},
          "output_type": "execute_result"
        }
      ],
      "source": [
        "NarrativeText"
      ]
    },
    {
      "cell_type": "code",
      "execution_count": null,
      "metadata": {
        "colab": {
          "base_uri": "https://localhost:8080/"
        },
        "collapsed": true,
        "id": "AYgiePVTbMFD",
        "outputId": "e05e4a64-329f-4e50-d11a-510094b02257"
      },
      "outputs": [
        {
          "data": {
            "text/plain": [
              "['CANDLESTICKS TECHNICAL ANALYSIS',\n",
              " 'What are Candlesticks?',\n",
              " '©OThinkMarkets’',\n",
              " 'CANDLESTICKS TECHNICAL ANALYSIS',\n",
              " '©OThinkMarkets’',\n",
              " 'CANDLESTICKS TECHNICAL ANALYSIS',\n",
              " 'Why do Candlesticks Work?',\n",
              " 'Page 5 of 18',\n",
              " '©OThinkMarkets’',\n",
              " 'CANDLESTICKS TECHNICAL ANALYSIS',\n",
              " 'What are Candlesticks?',\n",
              " 'Doji',\n",
              " 'Page 6 of 18',\n",
              " '©OThinkMarkets’',\n",
              " 'CANDLESTICKS TECHNICAL ANALYSIS',\n",
              " 'Hammer',\n",
              " 'Page 7 of 18',\n",
              " '©OThinkMarkets’',\n",
              " 'CANDLESTICKS TECHNICAL ANALYSIS',\n",
              " 'Hanging Man',\n",
              " 'Shooting Star',\n",
              " '©OThinkMarkets’',\n",
              " 'CANDLESTICKS TECHNICAL ANALYSIS',\n",
              " 'Checkmate',\n",
              " '©OThinkMarkets’',\n",
              " 'CANDLESTICKS TECHNICAL ANALYSIS',\n",
              " 'Evening Star',\n",
              " 'Morning Star',\n",
              " '©OThinkMarkets’',\n",
              " 'CANDLESTICKS TECHNICAL ANALYSIS',\n",
              " 'Bullish Engulfing',\n",
              " 'In this pattern, the real body of a bearish candle',\n",
              " 'and a shift of overall market sentiment towards',\n",
              " 'Bearish Engulfing',\n",
              " '©OThinkMarkets’',\n",
              " 'CANDLESTICKS TECHNICAL ANALYSIS',\n",
              " 'Harami/Inside Bar',\n",
              " 'Kicker',\n",
              " '©OThinkMarkets’',\n",
              " 'CANDLESTICKS TECHNICAL ANALYSIS',\n",
              " 'Piercing Line',\n",
              " 'Dark Cloud Cover',\n",
              " '©OThinkMarkets’',\n",
              " 'CANDLESTICKS TECHNICAL ANALYSIS',\n",
              " 'Three White Soldiers',\n",
              " 'Three Black Crows',\n",
              " '©OThinkMarkets’',\n",
              " 'CANDLESTICKS TECHNICAL ANALYSIS',\n",
              " 'Tweezer Pattern',\n",
              " '©OThinkMarkets’',\n",
              " 'CANDLESTICKS TECHNICAL ANALYSIS',\n",
              " 'Confluence',\n",
              " 'Doji at Support',\n",
              " '©ThinkMarkets’',\n",
              " 'Hammer, Dojis, and Bullish Checkmate at 200 Exponential Moving Average']"
            ]
          },
          "execution_count": 10,
          "metadata": {},
          "output_type": "execute_result"
        }
      ],
      "source": [
        "Title"
      ]
    },
    {
      "cell_type": "code",
      "execution_count": null,
      "metadata": {
        "id": "QRsiXMKEkqjl"
      },
      "outputs": [],
      "source": [
        "img=[]\n",
        "for element in raw_pdf_elements:\n",
        "  if \"unstructured.documents.elements.Image\" in str(type(element)):\n",
        "            img.append(str(element))"
      ]
    },
    {
      "cell_type": "code",
      "execution_count": null,
      "metadata": {
        "colab": {
          "base_uri": "https://localhost:8080/",
          "height": 35
        },
        "id": "-idYwDsQlCYy",
        "outputId": "c87cd221-41ca-40e3-cbcd-b48c1ccef500"
      },
      "outputs": [
        {
          "data": {
            "application/vnd.google.colaboratory.intrinsic+json": {
              "type": "string"
            },
            "text/plain": [
              "''"
            ]
          },
          "execution_count": 12,
          "metadata": {},
          "output_type": "execute_result"
        }
      ],
      "source": [
        "img[4]"
      ]
    },
    {
      "cell_type": "code",
      "execution_count": null,
      "metadata": {
        "id": "Qab8IqVNA6St"
      },
      "outputs": [],
      "source": []
    },
    {
      "cell_type": "code",
      "execution_count": null,
      "metadata": {
        "id": "EJXbI-qnmiqh"
      },
      "outputs": [],
      "source": [
        "tab=[]\n",
        "for element in raw_pdf_elements:\n",
        "  if \"unstructured.documents.elements.Table\" in str(type(element)):\n",
        "            tab.append(str(element))"
      ]
    },
    {
      "cell_type": "code",
      "execution_count": null,
      "metadata": {
        "colab": {
          "base_uri": "https://localhost:8080/"
        },
        "collapsed": true,
        "id": "-_OkfkQH3Y2s",
        "outputId": "ee7e6e8f-4e52-489a-f3bf-3ce79e846e5b"
      },
      "outputs": [
        {
          "name": "stdout",
          "output_type": "stream",
          "text": [
            "Collecting langchain_core\n",
            "  Downloading langchain_core-0.2.23-py3-none-any.whl.metadata (6.2 kB)\n",
            "Requirement already satisfied: PyYAML>=5.3 in /usr/local/lib/python3.10/dist-packages (from langchain_core) (6.0.1)\n",
            "Collecting jsonpatch<2.0,>=1.33 (from langchain_core)\n",
            "  Downloading jsonpatch-1.33-py2.py3-none-any.whl.metadata (3.0 kB)\n",
            "Collecting langsmith<0.2.0,>=0.1.75 (from langchain_core)\n",
            "  Downloading langsmith-0.1.93-py3-none-any.whl.metadata (13 kB)\n",
            "Requirement already satisfied: packaging<25,>=23.2 in /usr/local/lib/python3.10/dist-packages (from langchain_core) (24.1)\n",
            "Requirement already satisfied: pydantic<3,>=1 in /usr/local/lib/python3.10/dist-packages (from langchain_core) (2.8.2)\n",
            "Requirement already satisfied: tenacity!=8.4.0,<9.0.0,>=8.1.0 in /usr/local/lib/python3.10/dist-packages (from langchain_core) (8.5.0)\n",
            "Collecting jsonpointer>=1.9 (from jsonpatch<2.0,>=1.33->langchain_core)\n",
            "  Downloading jsonpointer-3.0.0-py2.py3-none-any.whl.metadata (2.3 kB)\n",
            "Collecting orjson<4.0.0,>=3.9.14 (from langsmith<0.2.0,>=0.1.75->langchain_core)\n",
            "  Downloading orjson-3.10.6-cp310-cp310-manylinux_2_17_x86_64.manylinux2014_x86_64.whl.metadata (50 kB)\n",
            "\u001b[2K     \u001b[90m━━━━━━━━━━━━━━━━━━━━━━━━━━━━━━━━━━━━━━━━\u001b[0m \u001b[32m50.4/50.4 kB\u001b[0m \u001b[31m3.4 MB/s\u001b[0m eta \u001b[36m0:00:00\u001b[0m\n",
            "\u001b[?25hRequirement already satisfied: requests<3,>=2 in /usr/local/lib/python3.10/dist-packages (from langsmith<0.2.0,>=0.1.75->langchain_core) (2.31.0)\n",
            "Requirement already satisfied: annotated-types>=0.4.0 in /usr/local/lib/python3.10/dist-packages (from pydantic<3,>=1->langchain_core) (0.7.0)\n",
            "Requirement already satisfied: pydantic-core==2.20.1 in /usr/local/lib/python3.10/dist-packages (from pydantic<3,>=1->langchain_core) (2.20.1)\n",
            "Requirement already satisfied: typing-extensions>=4.6.1 in /usr/local/lib/python3.10/dist-packages (from pydantic<3,>=1->langchain_core) (4.12.2)\n",
            "Requirement already satisfied: charset-normalizer<4,>=2 in /usr/local/lib/python3.10/dist-packages (from requests<3,>=2->langsmith<0.2.0,>=0.1.75->langchain_core) (3.3.2)\n",
            "Requirement already satisfied: idna<4,>=2.5 in /usr/local/lib/python3.10/dist-packages (from requests<3,>=2->langsmith<0.2.0,>=0.1.75->langchain_core) (3.7)\n",
            "Requirement already satisfied: urllib3<3,>=1.21.1 in /usr/local/lib/python3.10/dist-packages (from requests<3,>=2->langsmith<0.2.0,>=0.1.75->langchain_core) (2.0.7)\n",
            "Requirement already satisfied: certifi>=2017.4.17 in /usr/local/lib/python3.10/dist-packages (from requests<3,>=2->langsmith<0.2.0,>=0.1.75->langchain_core) (2024.7.4)\n",
            "Downloading langchain_core-0.2.23-py3-none-any.whl (374 kB)\n",
            "\u001b[2K   \u001b[90m━━━━━━━━━━━━━━━━━━━━━━━━━━━━━━━━━━━━━━━━\u001b[0m \u001b[32m374.2/374.2 kB\u001b[0m \u001b[31m24.8 MB/s\u001b[0m eta \u001b[36m0:00:00\u001b[0m\n",
            "\u001b[?25hDownloading jsonpatch-1.33-py2.py3-none-any.whl (12 kB)\n",
            "Downloading langsmith-0.1.93-py3-none-any.whl (139 kB)\n",
            "\u001b[2K   \u001b[90m━━━━━━━━━━━━━━━━━━━━━━━━━━━━━━━━━━━━━━━━\u001b[0m \u001b[32m139.8/139.8 kB\u001b[0m \u001b[31m11.5 MB/s\u001b[0m eta \u001b[36m0:00:00\u001b[0m\n",
            "\u001b[?25hDownloading jsonpointer-3.0.0-py2.py3-none-any.whl (7.6 kB)\n",
            "Downloading orjson-3.10.6-cp310-cp310-manylinux_2_17_x86_64.manylinux2014_x86_64.whl (141 kB)\n",
            "\u001b[2K   \u001b[90m━━━━━━━━━━━━━━━━━━━━━━━━━━━━━━━━━━━━━━━━\u001b[0m \u001b[32m141.1/141.1 kB\u001b[0m \u001b[31m12.5 MB/s\u001b[0m eta \u001b[36m0:00:00\u001b[0m\n",
            "\u001b[?25hInstalling collected packages: orjson, jsonpointer, jsonpatch, langsmith, langchain_core\n",
            "Successfully installed jsonpatch-1.33 jsonpointer-3.0.0 langchain_core-0.2.23 langsmith-0.1.93 orjson-3.10.6\n",
            "Requirement already satisfied: huggingface_hub in /usr/local/lib/python3.10/dist-packages (0.23.5)\n",
            "Requirement already satisfied: filelock in /usr/local/lib/python3.10/dist-packages (from huggingface_hub) (3.15.4)\n",
            "Requirement already satisfied: fsspec>=2023.5.0 in /usr/local/lib/python3.10/dist-packages (from huggingface_hub) (2023.6.0)\n",
            "Requirement already satisfied: packaging>=20.9 in /usr/local/lib/python3.10/dist-packages (from huggingface_hub) (24.1)\n",
            "Requirement already satisfied: pyyaml>=5.1 in /usr/local/lib/python3.10/dist-packages (from huggingface_hub) (6.0.1)\n",
            "Requirement already satisfied: requests in /usr/local/lib/python3.10/dist-packages (from huggingface_hub) (2.31.0)\n",
            "Requirement already satisfied: tqdm>=4.42.1 in /usr/local/lib/python3.10/dist-packages (from huggingface_hub) (4.66.4)\n",
            "Requirement already satisfied: typing-extensions>=3.7.4.3 in /usr/local/lib/python3.10/dist-packages (from huggingface_hub) (4.12.2)\n",
            "Requirement already satisfied: charset-normalizer<4,>=2 in /usr/local/lib/python3.10/dist-packages (from requests->huggingface_hub) (3.3.2)\n",
            "Requirement already satisfied: idna<4,>=2.5 in /usr/local/lib/python3.10/dist-packages (from requests->huggingface_hub) (3.7)\n",
            "Requirement already satisfied: urllib3<3,>=1.21.1 in /usr/local/lib/python3.10/dist-packages (from requests->huggingface_hub) (2.0.7)\n",
            "Requirement already satisfied: certifi>=2017.4.17 in /usr/local/lib/python3.10/dist-packages (from requests->huggingface_hub) (2024.7.4)\n"
          ]
        }
      ],
      "source": [
        "!pip install langchain_core\n",
        "!pip install huggingface_hub"
      ]
    },
    {
      "cell_type": "code",
      "execution_count": null,
      "metadata": {
        "id": "rbRMkWGOefZm"
      },
      "outputs": [],
      "source": [
        "%pip install --upgrade --quiet  langchain-google-genai pillow"
      ]
    },
    {
      "cell_type": "code",
      "execution_count": null,
      "metadata": {
        "colab": {
          "base_uri": "https://localhost:8080/"
        },
        "id": "CXMVS1PWezj3",
        "outputId": "9915e920-24ac-4cc9-bb38-3299c465af69"
      },
      "outputs": [
        {
          "data": {
            "text/plain": [
              "39"
            ]
          },
          "execution_count": 16,
          "metadata": {},
          "output_type": "execute_result"
        }
      ],
      "source": [
        "len(img)"
      ]
    },
    {
      "cell_type": "code",
      "execution_count": null,
      "metadata": {
        "id": "kpjw423Ye0ju"
      },
      "outputs": [],
      "source": [
        "from langchain_core.output_parsers import StrOutputParser\n",
        "from langchain_core.prompts import ChatPromptTemplate\n",
        "from langchain_google_genai import ChatGoogleGenerativeAI"
      ]
    },
    {
      "cell_type": "code",
      "execution_count": null,
      "metadata": {
        "id": "_bbRvggrfFUG"
      },
      "outputs": [],
      "source": [
        "# Prompt\n",
        "prompt_text = \"\"\"You are an assistant tasked with summarizing tables for retrieval. \\\n",
        "    These summaries will be embedded and used to retrieve the raw table elements. \\\n",
        "    Give a concise summary of the table that is well optimized for retrieval. Table {element} \"\"\""
      ]
    },
    {
      "cell_type": "code",
      "execution_count": null,
      "metadata": {
        "id": "JM-4CppSfJnd"
      },
      "outputs": [],
      "source": [
        "prompt = ChatPromptTemplate.from_template(prompt_text)"
      ]
    },
    {
      "cell_type": "code",
      "execution_count": null,
      "metadata": {
        "id": "hOhStilcnesq"
      },
      "outputs": [],
      "source": [
        "import os\n",
        "from google.colab import userdata\n",
        "userdata.get('GOOGLE_API_KEY')\n",
        "\n",
        "GOOGLE_API_KEY = userdata.get('GOOGLE_API_KEY')"
      ]
    },
    {
      "cell_type": "code",
      "execution_count": null,
      "metadata": {
        "id": "4sa-8JcInsjP"
      },
      "outputs": [],
      "source": []
    },
    {
      "cell_type": "code",
      "execution_count": null,
      "metadata": {
        "id": "hkCjDiaDBWH_"
      },
      "outputs": [],
      "source": [
        "# Text summary chain\n",
        "\n",
        "model = ChatGoogleGenerativeAI(model=\"gemini-1.5-flash\", google_api_key=GOOGLE_API_KEY)\n"
      ]
    },
    {
      "cell_type": "code",
      "execution_count": null,
      "metadata": {
        "id": "1mHzuhFAfdUn"
      },
      "outputs": [],
      "source": []
    },
    {
      "cell_type": "code",
      "execution_count": null,
      "metadata": {
        "id": "F5JCgi_ZoPzA"
      },
      "outputs": [],
      "source": [
        "table_summaries = []"
      ]
    },
    {
      "cell_type": "code",
      "execution_count": null,
      "metadata": {
        "id": "Vi5h9tpPftEu"
      },
      "outputs": [],
      "source": [
        "summarize_chain = {\"element\": lambda x: x} | prompt | model | StrOutputParser()"
      ]
    },
    {
      "cell_type": "code",
      "execution_count": null,
      "metadata": {
        "id": "ybpy889Hf4GI"
      },
      "outputs": [],
      "source": [
        "table_summaries=summarize_chain.batch(tab,{\"max_concurrency\": 5})"
      ]
    },
    {
      "cell_type": "code",
      "execution_count": null,
      "metadata": {
        "colab": {
          "base_uri": "https://localhost:8080/",
          "height": 35
        },
        "id": "t114EKUfgLKF",
        "outputId": "45448e3e-b6fa-4811-c037-729a1e4e84c3"
      },
      "outputs": [
        {
          "data": {
            "application/vnd.google.colaboratory.intrinsic+json": {
              "type": "string"
            },
            "text/plain": [
              "'2. The close price 4. The low price'"
            ]
          },
          "execution_count": 25,
          "metadata": {},
          "output_type": "execute_result"
        }
      ],
      "source": [
        "tab[0]"
      ]
    },
    {
      "cell_type": "code",
      "execution_count": null,
      "metadata": {
        "colab": {
          "base_uri": "https://localhost:8080/",
          "height": 35
        },
        "id": "aAslSPlZgOAu",
        "outputId": "9455f6c3-b12a-4c18-8a22-dcfb6fb91d30"
      },
      "outputs": [
        {
          "data": {
            "application/vnd.google.colaboratory.intrinsic+json": {
              "type": "string"
            },
            "text/plain": [
              "'Please provide the table you would like me to summarize. I need the actual table data to create a concise summary optimized for retrieval. \\n'"
            ]
          },
          "execution_count": 26,
          "metadata": {},
          "output_type": "execute_result"
        }
      ],
      "source": [
        "table_summaries[0]"
      ]
    },
    {
      "cell_type": "code",
      "execution_count": null,
      "metadata": {
        "id": "0q9OnnbDXTSJ"
      },
      "outputs": [],
      "source": [
        "model = ChatGoogleGenerativeAI(model=\"gemini-1.5-flash\", google_api_key=GOOGLE_API_KEY)\n",
        "summarize_chain = {\"element\": lambda x: x} | prompt | model | StrOutputParser()"
      ]
    },
    {
      "cell_type": "code",
      "execution_count": null,
      "metadata": {
        "id": "85RwCzoYXTeb"
      },
      "outputs": [],
      "source": [
        "text_summaries = []\n"
      ]
    },
    {
      "cell_type": "code",
      "execution_count": null,
      "metadata": {
        "id": "jWX692unXTrM"
      },
      "outputs": [],
      "source": [
        "text_summaries = summarize_chain.batch(Text, {\"max_concurrency\": 2})"
      ]
    },
    {
      "cell_type": "code",
      "execution_count": null,
      "metadata": {
        "colab": {
          "base_uri": "https://localhost:8080/"
        },
        "id": "lZV0AENTXlf_",
        "outputId": "69cbfcf2-1d3d-47b2-85e7-a6b654c63227"
      },
      "outputs": [
        {
          "data": {
            "text/plain": [
              "['Please provide the table you would like summarized. I need the actual table data to create a concise and retrieval-optimized summary. \\n']"
            ]
          },
          "execution_count": 31,
          "metadata": {},
          "output_type": "execute_result"
        }
      ],
      "source": [
        "text_summaries"
      ]
    },
    {
      "cell_type": "code",
      "execution_count": null,
      "metadata": {
        "colab": {
          "base_uri": "https://localhost:8080/",
          "height": 35
        },
        "id": "Xdif_KSTgQ9G",
        "outputId": "92a0f2c5-5c8c-41f6-9ffa-55bcafb87a0f"
      },
      "outputs": [
        {
          "data": {
            "application/vnd.google.colaboratory.intrinsic+json": {
              "type": "string"
            },
            "text/plain": [
              "'OThinkMarkets'"
            ]
          },
          "execution_count": 37,
          "metadata": {},
          "output_type": "execute_result"
        }
      ],
      "source": [
        "img[0]"
      ]
    },
    {
      "cell_type": "code",
      "execution_count": null,
      "metadata": {
        "id": "clS9oDdqgcqn"
      },
      "outputs": [],
      "source": [
        "import base64\n",
        "import os\n",
        "from langchain_core.messages import HumanMessage"
      ]
    },
    {
      "cell_type": "code",
      "execution_count": null,
      "metadata": {
        "id": "mKR7JUAEgixP"
      },
      "outputs": [],
      "source": [
        "def encode_image(image_path):\n",
        "    \"\"\"Getting the base64 string\"\"\"\n",
        "    with open(image_path, \"rb\") as image_file:\n",
        "        return base64.b64encode(image_file.read()).decode(\"utf-8\")"
      ]
    },
    {
      "cell_type": "code",
      "execution_count": null,
      "metadata": {
        "id": "nqWb87Hbgn8g"
      },
      "outputs": [],
      "source": [
        "def image_summarize(img_base64, prompt):\n",
        "    \"\"\"Make image summary\"\"\"\n",
        "\n",
        "\n",
        "    chat = ChatOpenAI(model=\"gpt-4-vision-preview\", max_tokens=1024)\n",
        "\n",
        "    msg = chat.invoke(\n",
        "        [\n",
        "            HumanMessage(\n",
        "                content=[\n",
        "                    {\"type\": \"text\", \"text\": prompt},\n",
        "\n",
        "                     {\n",
        "                        \"type\": \"image_url\",\n",
        "                        \"image_url\": {\"url\": f\"data:image/jpeg;base64,{img_base64}\"},\n",
        "                    },\n",
        "                ]\n",
        "            )\n",
        "        ]\n",
        "    )\n",
        "    return msg.content"
      ]
    },
    {
      "cell_type": "code",
      "execution_count": null,
      "metadata": {
        "id": "FVtzMfadB0uQ"
      },
      "outputs": [],
      "source": [
        "def image_summarize(img_base64, prompt):\n",
        "    \"\"\"Make image summary\"\"\"\n",
        "\n",
        "\n",
        "    chat =  ChatGoogleGenerativeAI(model=\"gemini-1.5-flash\", google_api_key=GOOGLE_API_KEY,max_output_tokens=512)\n",
        "\n",
        "    msg = chat.invoke(\n",
        "        [\n",
        "            HumanMessage(\n",
        "                content=[\n",
        "                    {\"type\": \"text\", \"text\": prompt},\n",
        "\n",
        "                     {\n",
        "                        \"type\": \"image_url\",\n",
        "                        \"image_url\": {\"url\": f\"data:image/jpeg;base64,{img_base64}\"},\n",
        "                    },\n",
        "                ]\n",
        "            )\n",
        "        ]\n",
        "    )\n",
        "    return msg.content"
      ]
    },
    {
      "cell_type": "code",
      "execution_count": null,
      "metadata": {
        "id": "M2chds0kg16e"
      },
      "outputs": [],
      "source": [
        "def generate_img_summaries(path):\n",
        "    \"\"\"\n",
        "    Generate summaries and base64 encoded strings for images\n",
        "    path: Path to list of .jpg files extracted by Unstructured\n",
        "    \"\"\"\n",
        "\n",
        "    # Store base64 encoded images\n",
        "    img_base64_list = []\n",
        "\n",
        "    # Store image summaries\n",
        "    image_summaries = []\n",
        "\n",
        "    # Prompt\n",
        "    prompt = \"\"\"You are an assistant tasked with summarizing images for retrieval. \\\n",
        "    These summaries will be embedded and used to retrieve the raw image. \\\n",
        "    Give a concise summary of the image that is well optimized for retrieval.\n",
        "    also give the image output if possible\"\"\"\n",
        "\n",
        "\n",
        "    base64_image = encode_image(path)\n",
        "    img_base64_list.append(base64_image)\n",
        "    image_summaries.append(image_summarize(base64_image, prompt))\n",
        "\n",
        "    return img_base64_list, image_summaries"
      ]
    },
    {
      "cell_type": "code",
      "execution_count": null,
      "metadata": {
        "id": "ebVqRi8fhLM4"
      },
      "outputs": [],
      "source": [
        "fpath=\"/content/extracted_data/figure-13-35.jpg\""
      ]
    },
    {
      "cell_type": "code",
      "execution_count": null,
      "metadata": {
        "id": "zQbpbrRbhRhO"
      },
      "outputs": [],
      "source": [
        "img_base64_list,image_summaries=generate_img_summaries(fpath)"
      ]
    },
    {
      "cell_type": "code",
      "execution_count": null,
      "metadata": {
        "colab": {
          "base_uri": "https://localhost:8080/",
          "height": 53
        },
        "id": "GTtDwQ0chbf-",
        "outputId": "191bbb2b-ab9d-4391-e842-ad709df76c7a"
      },
      "outputs": [
        {
          "data": {
            "application/vnd.google.colaboratory.intrinsic+json": {
              "type": "string"
            },
            "text/plain": [
              "'A diagram of candlestick patterns in finance, showing the \"Tweezer Bottoms\" and \"Tweezer Tops\" patterns.  The top row shows three examples of the \"Tweezer Bottoms\" pattern, which is a bullish reversal pattern. The bottom row shows three examples of the \"Tweezer Tops\" pattern, which is a bearish reversal pattern. \\n'"
            ]
          },
          "execution_count": 45,
          "metadata": {},
          "output_type": "execute_result"
        }
      ],
      "source": [
        "image_summaries[0]"
      ]
    },
    {
      "cell_type": "code",
      "execution_count": null,
      "metadata": {
        "colab": {
          "base_uri": "https://localhost:8080/"
        },
        "id": "c78JNmM4VXDS",
        "outputId": "72295c0c-aa76-401c-9f49-2d9d6fa0da62"
      },
      "outputs": [
        {
          "name": "stdout",
          "output_type": "stream",
          "text": [
            "\u001b[?25l   \u001b[90m━━━━━━━━━━━━━━━━━━━━━━━━━━━━━━━━━━━━━━━━\u001b[0m \u001b[32m0.0/990.3 kB\u001b[0m \u001b[31m?\u001b[0m eta \u001b[36m-:--:--\u001b[0m\r\u001b[2K   \u001b[90m━━━━━━━━━━━━━━━━━━━━━━━━━━━━━━━━━━━━━━━━\u001b[0m \u001b[32m990.3/990.3 kB\u001b[0m \u001b[31m34.0 MB/s\u001b[0m eta \u001b[36m0:00:00\u001b[0m\n",
            "\u001b[?25h\u001b[?25l   \u001b[90m━━━━━━━━━━━━━━━━━━━━━━━━━━━━━━━━━━━━━━━━\u001b[0m \u001b[32m0.0/227.1 kB\u001b[0m \u001b[31m?\u001b[0m eta \u001b[36m-:--:--\u001b[0m\r\u001b[2K   \u001b[90m━━━━━━━━━━━━━━━━━━━━━━━━━━━━━━━━━━━━━━━━\u001b[0m \u001b[32m227.1/227.1 kB\u001b[0m \u001b[31m15.8 MB/s\u001b[0m eta \u001b[36m0:00:00\u001b[0m\n",
            "\u001b[?25h"
          ]
        }
      ],
      "source": [
        "%pip install --upgrade --quiet  langchain sentence_transformers langchain_huggingface"
      ]
    },
    {
      "cell_type": "code",
      "execution_count": null,
      "metadata": {
        "id": "HA5izJnzhgB3"
      },
      "outputs": [],
      "source": [
        "from langchain_huggingface.embeddings import HuggingFaceEmbeddings"
      ]
    },
    {
      "cell_type": "code",
      "execution_count": null,
      "metadata": {
        "colab": {
          "base_uri": "https://localhost:8080/"
        },
        "id": "iNOYfdLvV0mI",
        "outputId": "64c68a36-4897-4f8b-bd7b-fca248063d0e"
      },
      "outputs": [
        {
          "name": "stdout",
          "output_type": "stream",
          "text": [
            "Collecting langchain_community\n",
            "  Downloading langchain_community-0.2.10-py3-none-any.whl.metadata (2.7 kB)\n",
            "Requirement already satisfied: PyYAML>=5.3 in /usr/local/lib/python3.10/dist-packages (from langchain_community) (6.0.1)\n",
            "Requirement already satisfied: SQLAlchemy<3,>=1.4 in /usr/local/lib/python3.10/dist-packages (from langchain_community) (2.0.31)\n",
            "Requirement already satisfied: aiohttp<4.0.0,>=3.8.3 in /usr/local/lib/python3.10/dist-packages (from langchain_community) (3.9.5)\n",
            "Requirement already satisfied: dataclasses-json<0.7,>=0.5.7 in /usr/local/lib/python3.10/dist-packages (from langchain_community) (0.6.7)\n",
            "Requirement already satisfied: langchain<0.3.0,>=0.2.9 in /usr/local/lib/python3.10/dist-packages (from langchain_community) (0.2.11)\n",
            "Requirement already satisfied: langchain-core<0.3.0,>=0.2.23 in /usr/local/lib/python3.10/dist-packages (from langchain_community) (0.2.23)\n",
            "Requirement already satisfied: langsmith<0.2.0,>=0.1.0 in /usr/local/lib/python3.10/dist-packages (from langchain_community) (0.1.93)\n",
            "Requirement already satisfied: numpy<2,>=1 in /usr/local/lib/python3.10/dist-packages (from langchain_community) (1.25.2)\n",
            "Requirement already satisfied: requests<3,>=2 in /usr/local/lib/python3.10/dist-packages (from langchain_community) (2.31.0)\n",
            "Requirement already satisfied: tenacity!=8.4.0,<9.0.0,>=8.1.0 in /usr/local/lib/python3.10/dist-packages (from langchain_community) (8.5.0)\n",
            "Requirement already satisfied: aiosignal>=1.1.2 in /usr/local/lib/python3.10/dist-packages (from aiohttp<4.0.0,>=3.8.3->langchain_community) (1.3.1)\n",
            "Requirement already satisfied: attrs>=17.3.0 in /usr/local/lib/python3.10/dist-packages (from aiohttp<4.0.0,>=3.8.3->langchain_community) (23.2.0)\n",
            "Requirement already satisfied: frozenlist>=1.1.1 in /usr/local/lib/python3.10/dist-packages (from aiohttp<4.0.0,>=3.8.3->langchain_community) (1.4.1)\n",
            "Requirement already satisfied: multidict<7.0,>=4.5 in /usr/local/lib/python3.10/dist-packages (from aiohttp<4.0.0,>=3.8.3->langchain_community) (6.0.5)\n",
            "Requirement already satisfied: yarl<2.0,>=1.0 in /usr/local/lib/python3.10/dist-packages (from aiohttp<4.0.0,>=3.8.3->langchain_community) (1.9.4)\n",
            "Requirement already satisfied: async-timeout<5.0,>=4.0 in /usr/local/lib/python3.10/dist-packages (from aiohttp<4.0.0,>=3.8.3->langchain_community) (4.0.3)\n",
            "Requirement already satisfied: marshmallow<4.0.0,>=3.18.0 in /usr/local/lib/python3.10/dist-packages (from dataclasses-json<0.7,>=0.5.7->langchain_community) (3.21.3)\n",
            "Requirement already satisfied: typing-inspect<1,>=0.4.0 in /usr/local/lib/python3.10/dist-packages (from dataclasses-json<0.7,>=0.5.7->langchain_community) (0.9.0)\n",
            "Requirement already satisfied: langchain-text-splitters<0.3.0,>=0.2.0 in /usr/local/lib/python3.10/dist-packages (from langchain<0.3.0,>=0.2.9->langchain_community) (0.2.2)\n",
            "Requirement already satisfied: pydantic<3,>=1 in /usr/local/lib/python3.10/dist-packages (from langchain<0.3.0,>=0.2.9->langchain_community) (2.8.2)\n",
            "Requirement already satisfied: jsonpatch<2.0,>=1.33 in /usr/local/lib/python3.10/dist-packages (from langchain-core<0.3.0,>=0.2.23->langchain_community) (1.33)\n",
            "Requirement already satisfied: packaging<25,>=23.2 in /usr/local/lib/python3.10/dist-packages (from langchain-core<0.3.0,>=0.2.23->langchain_community) (24.1)\n",
            "Requirement already satisfied: orjson<4.0.0,>=3.9.14 in /usr/local/lib/python3.10/dist-packages (from langsmith<0.2.0,>=0.1.0->langchain_community) (3.10.6)\n",
            "Requirement already satisfied: charset-normalizer<4,>=2 in /usr/local/lib/python3.10/dist-packages (from requests<3,>=2->langchain_community) (3.3.2)\n",
            "Requirement already satisfied: idna<4,>=2.5 in /usr/local/lib/python3.10/dist-packages (from requests<3,>=2->langchain_community) (3.7)\n",
            "Requirement already satisfied: urllib3<3,>=1.21.1 in /usr/local/lib/python3.10/dist-packages (from requests<3,>=2->langchain_community) (2.0.7)\n",
            "Requirement already satisfied: certifi>=2017.4.17 in /usr/local/lib/python3.10/dist-packages (from requests<3,>=2->langchain_community) (2024.7.4)\n",
            "Requirement already satisfied: typing-extensions>=4.6.0 in /usr/local/lib/python3.10/dist-packages (from SQLAlchemy<3,>=1.4->langchain_community) (4.12.2)\n",
            "Requirement already satisfied: greenlet!=0.4.17 in /usr/local/lib/python3.10/dist-packages (from SQLAlchemy<3,>=1.4->langchain_community) (3.0.3)\n",
            "Requirement already satisfied: jsonpointer>=1.9 in /usr/local/lib/python3.10/dist-packages (from jsonpatch<2.0,>=1.33->langchain-core<0.3.0,>=0.2.23->langchain_community) (3.0.0)\n",
            "Requirement already satisfied: annotated-types>=0.4.0 in /usr/local/lib/python3.10/dist-packages (from pydantic<3,>=1->langchain<0.3.0,>=0.2.9->langchain_community) (0.7.0)\n",
            "Requirement already satisfied: pydantic-core==2.20.1 in /usr/local/lib/python3.10/dist-packages (from pydantic<3,>=1->langchain<0.3.0,>=0.2.9->langchain_community) (2.20.1)\n",
            "Requirement already satisfied: mypy-extensions>=0.3.0 in /usr/local/lib/python3.10/dist-packages (from typing-inspect<1,>=0.4.0->dataclasses-json<0.7,>=0.5.7->langchain_community) (1.0.0)\n",
            "Downloading langchain_community-0.2.10-py3-none-any.whl (2.3 MB)\n",
            "\u001b[?25l   \u001b[90m━━━━━━━━━━━━━━━━━━━━━━━━━━━━━━━━━━━━━━━━\u001b[0m \u001b[32m0.0/2.3 MB\u001b[0m \u001b[31m?\u001b[0m eta \u001b[36m-:--:--\u001b[0m\r\u001b[2K   \u001b[91m━━━━━━━━━━━━━━━━━━━━━━━━━━━━━━━━━━━━━━━\u001b[0m\u001b[91m╸\u001b[0m \u001b[32m2.3/2.3 MB\u001b[0m \u001b[31m138.0 MB/s\u001b[0m eta \u001b[36m0:00:01\u001b[0m\r\u001b[2K   \u001b[90m━━━━━━━━━━━━━━━━━━━━━━━━━━━━━━━━━━━━━━━━\u001b[0m \u001b[32m2.3/2.3 MB\u001b[0m \u001b[31m62.8 MB/s\u001b[0m eta \u001b[36m0:00:00\u001b[0m\n",
            "\u001b[?25hInstalling collected packages: langchain_community\n",
            "Successfully installed langchain_community-0.2.10\n"
          ]
        }
      ],
      "source": [
        "!pip install langchain_community"
      ]
    },
    {
      "cell_type": "code",
      "execution_count": null,
      "metadata": {
        "id": "zc0vHw94U7Qe"
      },
      "outputs": [],
      "source": [
        "import uuid\n",
        "\n",
        "from langchain.retrievers.multi_vector import MultiVectorRetriever\n",
        "from langchain.storage import InMemoryStore\n",
        "from langchain_community.vectorstores import Chroma\n",
        "from langchain_core.documents import Document"
      ]
    },
    {
      "cell_type": "code",
      "execution_count": null,
      "metadata": {
        "colab": {
          "base_uri": "https://localhost:8080/",
          "height": 369,
          "referenced_widgets": [
            "c6e3cfabe0264dd3999dbda25d0c2e38",
            "0fc040b13a1d448cac2d20bef9ce1a99",
            "680058ac44f346a3a5bebe3851e176f6",
            "256083674de14d6e95ecbc5ec5b5351c",
            "b9a92668770d4a7182119ec29ce20bb8",
            "c69bd30c89ea4821bf725abe4ccc2b6b",
            "c016b6226fc34107a98194c5102199f2",
            "6de74d005bd54fcb906414efef808a33",
            "510eef9a75cf48ed811d893c18466e14",
            "fcc01ecbd0184b6095a7f4eb81d9c713",
            "308c5af1869840edaa7cf73895a638c9",
            "d1e082888dbb4b18a6227682c7131d65",
            "5e04dd7a3f2f4ad8887674e5419cf8d1",
            "7e98ffb3744944c98f7c0007cef4ccb6",
            "4015041ac29a499f8d6c8eb7d3f5e3a1",
            "73a2633cdb9b4d84b8ca5ebacebdb636",
            "cc9ceafefc6e483791d716733f97d256",
            "2db523ba495b41b8a6a203ac30ea1194",
            "f69731b22b0c4c8fa69c8095f698b875",
            "ffd7db656869457a8e0251865e3824a1",
            "4d18665d71f64a9cbf87ecc855563ecf",
            "61d6354064a94d619419b5f9cdb5ca78",
            "16ee7db247884e2ca7b72efde7ff6dd2",
            "8b23e99eac6746748403a1b5299d11f8",
            "eb4209d737f7468db678cb85a3532df3",
            "3af63b8104334588ae3c34794f1b9332",
            "573f88b7674543ca845f440f90d84906",
            "9b05a6b499844b7c89b88aa456900f79",
            "6f368db130e649808b6a44a3c8815a99",
            "9f408c9cf0324408b282b1a6e8fe8684",
            "061da184f0c24513a257f2a7843b3962",
            "9905e2c58bb74a55b84e6b9759edbeee",
            "ea9ec4c93b1c4cbba9439016ec6775ca",
            "aff24fcd4de943c4bcd44a0f681aea7c",
            "d19dd8b1a44c49c4b6d2d5bf8c179629",
            "963d004fa30141fda681e077aad9638d",
            "87bbc1346e2d4ea991095a24c5e6bc0b",
            "1ab4ae591a974047a2ed5ef1a9c6c565",
            "7c30634c0be94c01b78b47144d40a29a",
            "98650a36be714e3a975a9df6847a373f",
            "23f96467d3f04df1a761a0993ad4081a",
            "4fa56ac2a93546d0b55b36ad8bb3a24d",
            "94a3fc097cba4d15bc2e40e4a94b7002",
            "e22abbcd1df64d31bb764a653bc2bb2c",
            "d0991b1e202f418da4fd144f64763ce4",
            "c51064697c924405a314651c840e05a5",
            "d7572245f9c74c8ca9782a7ac4243d1c",
            "ea3b0d18c9d84c7989461081bf9f5eeb",
            "00921c7c31dc43f6bd21f194b3fa16c9",
            "ebbbd8d7eef441e1851795be63ae5c62",
            "c79cdb44b614452790debf70a43ecf9d",
            "314c71cac18b48edb3402cae96e53f08",
            "b1713354875241288ebf2aa0eec41653",
            "63ce6a6d11fb41deb8cc05a319ce2eea",
            "9fafbdae9bce49b99bab7fb57f8ffec8",
            "04c82df48ca042b3a66851cd7e389987",
            "d09b7c8ef366481e833738c009d8f338",
            "33d42f27887e498db65e51e2837bc973",
            "69cf70e921644a7a906790274f9a0173",
            "013be449fe1046c7b305bcdbc5bb0b4d",
            "7001f2b8ff3b4152a194e10d33379401",
            "5bbe5d275c7e45849ff66a5f05e4977b",
            "212abece866a4fd48994093927c3bccf",
            "fba88004e8a645eb9e674e261ad87aae",
            "ca91b099f2364419873827096087a90f",
            "e003859c8256484d80722d684c08b9ec",
            "f2a3eddb812a40d9aad3d3250571ffba",
            "c8ec429253644737ad73ed644b751738",
            "1cf5bbaf36d149c8acc4d81780b7a25a",
            "59b1c5fd65144827a4ee313598a28a72",
            "a5c9b64973b14e549cff34c7c559a23e",
            "8d46763ed2cc472dbc2cda409c26f01d",
            "fd8b2287b848444aa20cb60efb491589",
            "d73877cd6b6549798920cf8a1d1e4930",
            "fe73f327ad0f40478b259333b2946496",
            "ad1d6809dda04c1b8d4dff7d455b4990",
            "1d1b913821c544b3963dd3c425e6fe38",
            "f671e23e5ad843d19376209874fb4223",
            "2dec8bf736534adf9e47b913176dd098",
            "f3bdbc4553404048a8948eda05ab07ec",
            "c238d3e4447e4b07b4ef4cc50ce83614",
            "634afdb5530a4875b115b4a05ac59465",
            "f14f65317d02475cbd2f63ec8661569c",
            "6bb3a56ad43d4e58963ba8226b7e25bf",
            "b2065c38df2e45b086e31beec572863f",
            "5964c2c98cf945028703bbfe9b8d9423",
            "c2737422c3f744d895b86c465bfe3c9d",
            "d708dd5a5f674ee591ceb6af2776f6fd",
            "e76595e4dbe34ff5a707dfc98fdbeef1",
            "4be60070589f47d4be86f908fdb2c208",
            "0e3ddb0f24914816961b84a409a7241d",
            "145593d25b86445e83d3a0bffc378812",
            "31ec0af439774194b0eab41edfd0e6fe",
            "b1eba74f474f4ac28108341c8375d0e4",
            "b7b462ba00404979a05afc619e19f1aa",
            "a6b1cc82e283471da84ea934eb03265a",
            "33bb508231774c0eb1a4b9ceba7299f4",
            "956e4cb2e1a442d8a12997c7ec6847e7",
            "3c5020b82434470aa4f5e9b3e514f45f",
            "69522ab1808a4997ba6fcc854894917a",
            "2612f7706bdd40ffbdd425bf59b65e36",
            "b26f9a2a4ade41399e92b48d43e35f37",
            "6704c11438ba400a85102eaddad7fc95",
            "579342ed25eb491ca8dfc9ba1578c4af",
            "a561c12e62684634a5c6f0803f237fb1",
            "707f2485143b4750adf07f76b6d70d37",
            "3b93dd3772654d98ad9509b49859920e",
            "8c8c454032d74316b3ef3fda0493f2f8",
            "5bf18aa9681f43dd8cb3ad60c4dd65c0",
            "1c5b086db4054eb382432d26f3556a18",
            "7ae96ad61e89461c8fb58e342e0c135c",
            "8e5f02e7412e45bf982c9e2a96be5d60",
            "88d472e41c7849d2907b778e8b73f2b6",
            "029ad1b0249d463695cd24d104003e0b",
            "69c32839e8954765916e4127555d95ef",
            "10025bd634484cffbe4899e60f991314",
            "8f850680c1204d25860be8614ef5b6d6",
            "136058d177b3473bafe0465d481fa629",
            "bf3cc33327ef4e699b7cd76674e43c4d",
            "8bbdf890119044d1bd5d0357c1fcccf3",
            "6578fa56b3f640abb1ff47f32cd21553"
          ]
        },
        "id": "RkzEEPGWVAXC",
        "outputId": "f8930338-52e7-47ff-f890-23e8099c8ceb"
      },
      "outputs": [
        {
          "data": {
            "application/vnd.jupyter.widget-view+json": {
              "model_id": "c6e3cfabe0264dd3999dbda25d0c2e38",
              "version_major": 2,
              "version_minor": 0
            },
            "text/plain": [
              "modules.json:   0%|          | 0.00/349 [00:00<?, ?B/s]"
            ]
          },
          "metadata": {},
          "output_type": "display_data"
        },
        {
          "data": {
            "application/vnd.jupyter.widget-view+json": {
              "model_id": "d1e082888dbb4b18a6227682c7131d65",
              "version_major": 2,
              "version_minor": 0
            },
            "text/plain": [
              "config_sentence_transformers.json:   0%|          | 0.00/116 [00:00<?, ?B/s]"
            ]
          },
          "metadata": {},
          "output_type": "display_data"
        },
        {
          "data": {
            "application/vnd.jupyter.widget-view+json": {
              "model_id": "16ee7db247884e2ca7b72efde7ff6dd2",
              "version_major": 2,
              "version_minor": 0
            },
            "text/plain": [
              "README.md:   0%|          | 0.00/10.6k [00:00<?, ?B/s]"
            ]
          },
          "metadata": {},
          "output_type": "display_data"
        },
        {
          "data": {
            "application/vnd.jupyter.widget-view+json": {
              "model_id": "aff24fcd4de943c4bcd44a0f681aea7c",
              "version_major": 2,
              "version_minor": 0
            },
            "text/plain": [
              "sentence_bert_config.json:   0%|          | 0.00/53.0 [00:00<?, ?B/s]"
            ]
          },
          "metadata": {},
          "output_type": "display_data"
        },
        {
          "data": {
            "application/vnd.jupyter.widget-view+json": {
              "model_id": "d0991b1e202f418da4fd144f64763ce4",
              "version_major": 2,
              "version_minor": 0
            },
            "text/plain": [
              "config.json:   0%|          | 0.00/571 [00:00<?, ?B/s]"
            ]
          },
          "metadata": {},
          "output_type": "display_data"
        },
        {
          "data": {
            "application/vnd.jupyter.widget-view+json": {
              "model_id": "04c82df48ca042b3a66851cd7e389987",
              "version_major": 2,
              "version_minor": 0
            },
            "text/plain": [
              "model.safetensors:   0%|          | 0.00/438M [00:00<?, ?B/s]"
            ]
          },
          "metadata": {},
          "output_type": "display_data"
        },
        {
          "data": {
            "application/vnd.jupyter.widget-view+json": {
              "model_id": "f2a3eddb812a40d9aad3d3250571ffba",
              "version_major": 2,
              "version_minor": 0
            },
            "text/plain": [
              "tokenizer_config.json:   0%|          | 0.00/363 [00:00<?, ?B/s]"
            ]
          },
          "metadata": {},
          "output_type": "display_data"
        },
        {
          "data": {
            "application/vnd.jupyter.widget-view+json": {
              "model_id": "f671e23e5ad843d19376209874fb4223",
              "version_major": 2,
              "version_minor": 0
            },
            "text/plain": [
              "vocab.txt:   0%|          | 0.00/232k [00:00<?, ?B/s]"
            ]
          },
          "metadata": {},
          "output_type": "display_data"
        },
        {
          "data": {
            "application/vnd.jupyter.widget-view+json": {
              "model_id": "e76595e4dbe34ff5a707dfc98fdbeef1",
              "version_major": 2,
              "version_minor": 0
            },
            "text/plain": [
              "tokenizer.json:   0%|          | 0.00/466k [00:00<?, ?B/s]"
            ]
          },
          "metadata": {},
          "output_type": "display_data"
        },
        {
          "data": {
            "application/vnd.jupyter.widget-view+json": {
              "model_id": "69522ab1808a4997ba6fcc854894917a",
              "version_major": 2,
              "version_minor": 0
            },
            "text/plain": [
              "special_tokens_map.json:   0%|          | 0.00/239 [00:00<?, ?B/s]"
            ]
          },
          "metadata": {},
          "output_type": "display_data"
        },
        {
          "data": {
            "application/vnd.jupyter.widget-view+json": {
              "model_id": "7ae96ad61e89461c8fb58e342e0c135c",
              "version_major": 2,
              "version_minor": 0
            },
            "text/plain": [
              "1_Pooling/config.json:   0%|          | 0.00/190 [00:00<?, ?B/s]"
            ]
          },
          "metadata": {},
          "output_type": "display_data"
        }
      ],
      "source": [
        "embeddings = HuggingFaceEmbeddings()"
      ]
    },
    {
      "cell_type": "code",
      "execution_count": null,
      "metadata": {
        "colab": {
          "base_uri": "https://localhost:8080/"
        },
        "collapsed": true,
        "id": "STNwBdVEWlA9",
        "outputId": "1aa4e569-99af-4b03-9a10-79f03685fb5e"
      },
      "outputs": [
        {
          "name": "stdout",
          "output_type": "stream",
          "text": [
            "Collecting chromadb\n",
            "  Downloading chromadb-0.5.5-py3-none-any.whl.metadata (6.8 kB)\n",
            "Requirement already satisfied: build>=1.0.3 in /usr/local/lib/python3.10/dist-packages (from chromadb) (1.2.1)\n",
            "Requirement already satisfied: pydantic>=1.9 in /usr/local/lib/python3.10/dist-packages (from chromadb) (2.8.2)\n",
            "Collecting chroma-hnswlib==0.7.6 (from chromadb)\n",
            "  Downloading chroma_hnswlib-0.7.6-cp310-cp310-manylinux_2_17_x86_64.manylinux2014_x86_64.whl.metadata (252 bytes)\n",
            "Collecting fastapi>=0.95.2 (from chromadb)\n",
            "  Downloading fastapi-0.111.1-py3-none-any.whl.metadata (26 kB)\n",
            "Collecting uvicorn>=0.18.3 (from uvicorn[standard]>=0.18.3->chromadb)\n",
            "  Downloading uvicorn-0.30.3-py3-none-any.whl.metadata (6.5 kB)\n",
            "Requirement already satisfied: numpy<2.0.0,>=1.22.5 in /usr/local/lib/python3.10/dist-packages (from chromadb) (1.25.2)\n",
            "Collecting posthog>=2.4.0 (from chromadb)\n",
            "  Downloading posthog-3.5.0-py2.py3-none-any.whl.metadata (2.0 kB)\n",
            "Requirement already satisfied: typing-extensions>=4.5.0 in /usr/local/lib/python3.10/dist-packages (from chromadb) (4.12.2)\n",
            "Requirement already satisfied: onnxruntime>=1.14.1 in /usr/local/lib/python3.10/dist-packages (from chromadb) (1.18.1)\n",
            "Collecting opentelemetry-api>=1.2.0 (from chromadb)\n",
            "  Downloading opentelemetry_api-1.26.0-py3-none-any.whl.metadata (1.4 kB)\n",
            "Collecting opentelemetry-exporter-otlp-proto-grpc>=1.2.0 (from chromadb)\n",
            "  Downloading opentelemetry_exporter_otlp_proto_grpc-1.26.0-py3-none-any.whl.metadata (2.3 kB)\n",
            "Collecting opentelemetry-instrumentation-fastapi>=0.41b0 (from chromadb)\n",
            "  Downloading opentelemetry_instrumentation_fastapi-0.47b0-py3-none-any.whl.metadata (2.1 kB)\n",
            "Collecting opentelemetry-sdk>=1.2.0 (from chromadb)\n",
            "  Downloading opentelemetry_sdk-1.26.0-py3-none-any.whl.metadata (1.5 kB)\n",
            "Requirement already satisfied: tokenizers>=0.13.2 in /usr/local/lib/python3.10/dist-packages (from chromadb) (0.19.1)\n",
            "Collecting pypika>=0.48.9 (from chromadb)\n",
            "  Downloading PyPika-0.48.9.tar.gz (67 kB)\n",
            "\u001b[2K     \u001b[90m━━━━━━━━━━━━━━━━━━━━━━━━━━━━━━━━━━━━━━━━\u001b[0m \u001b[32m67.3/67.3 kB\u001b[0m \u001b[31m5.1 MB/s\u001b[0m eta \u001b[36m0:00:00\u001b[0m\n",
            "\u001b[?25h  Installing build dependencies ... \u001b[?25l\u001b[?25hdone\n",
            "  Getting requirements to build wheel ... \u001b[?25l\u001b[?25hdone\n",
            "  Preparing metadata (pyproject.toml) ... \u001b[?25l\u001b[?25hdone\n",
            "Requirement already satisfied: tqdm>=4.65.0 in /usr/local/lib/python3.10/dist-packages (from chromadb) (4.66.4)\n",
            "Collecting overrides>=7.3.1 (from chromadb)\n",
            "  Downloading overrides-7.7.0-py3-none-any.whl.metadata (5.8 kB)\n",
            "Requirement already satisfied: importlib-resources in /usr/local/lib/python3.10/dist-packages (from chromadb) (6.4.0)\n",
            "Requirement already satisfied: grpcio>=1.58.0 in /usr/local/lib/python3.10/dist-packages (from chromadb) (1.64.1)\n",
            "Collecting bcrypt>=4.0.1 (from chromadb)\n",
            "  Downloading bcrypt-4.2.0-cp39-abi3-manylinux_2_28_x86_64.whl.metadata (9.6 kB)\n",
            "Requirement already satisfied: typer>=0.9.0 in /usr/local/lib/python3.10/dist-packages (from chromadb) (0.12.3)\n",
            "Collecting kubernetes>=28.1.0 (from chromadb)\n",
            "  Downloading kubernetes-30.1.0-py2.py3-none-any.whl.metadata (1.5 kB)\n",
            "Requirement already satisfied: tenacity>=8.2.3 in /usr/local/lib/python3.10/dist-packages (from chromadb) (8.5.0)\n",
            "Requirement already satisfied: PyYAML>=6.0.0 in /usr/local/lib/python3.10/dist-packages (from chromadb) (6.0.1)\n",
            "Collecting mmh3>=4.0.1 (from chromadb)\n",
            "  Downloading mmh3-4.1.0-cp310-cp310-manylinux_2_5_x86_64.manylinux1_x86_64.manylinux_2_17_x86_64.manylinux2014_x86_64.whl.metadata (13 kB)\n",
            "Requirement already satisfied: orjson>=3.9.12 in /usr/local/lib/python3.10/dist-packages (from chromadb) (3.10.6)\n",
            "Requirement already satisfied: httpx>=0.27.0 in /usr/local/lib/python3.10/dist-packages (from chromadb) (0.27.0)\n",
            "Requirement already satisfied: packaging>=19.1 in /usr/local/lib/python3.10/dist-packages (from build>=1.0.3->chromadb) (24.1)\n",
            "Requirement already satisfied: pyproject_hooks in /usr/local/lib/python3.10/dist-packages (from build>=1.0.3->chromadb) (1.1.0)\n",
            "Requirement already satisfied: tomli>=1.1.0 in /usr/local/lib/python3.10/dist-packages (from build>=1.0.3->chromadb) (2.0.1)\n",
            "Collecting starlette<0.38.0,>=0.37.2 (from fastapi>=0.95.2->chromadb)\n",
            "  Downloading starlette-0.37.2-py3-none-any.whl.metadata (5.9 kB)\n",
            "Collecting fastapi-cli>=0.0.2 (from fastapi>=0.95.2->chromadb)\n",
            "  Downloading fastapi_cli-0.0.4-py3-none-any.whl.metadata (7.0 kB)\n",
            "Requirement already satisfied: jinja2>=2.11.2 in /usr/local/lib/python3.10/dist-packages (from fastapi>=0.95.2->chromadb) (3.1.4)\n",
            "Requirement already satisfied: python-multipart>=0.0.7 in /usr/local/lib/python3.10/dist-packages (from fastapi>=0.95.2->chromadb) (0.0.9)\n",
            "Collecting email_validator>=2.0.0 (from fastapi>=0.95.2->chromadb)\n",
            "  Downloading email_validator-2.2.0-py3-none-any.whl.metadata (25 kB)\n",
            "Requirement already satisfied: anyio in /usr/local/lib/python3.10/dist-packages (from httpx>=0.27.0->chromadb) (3.7.1)\n",
            "Requirement already satisfied: certifi in /usr/local/lib/python3.10/dist-packages (from httpx>=0.27.0->chromadb) (2024.7.4)\n",
            "Requirement already satisfied: httpcore==1.* in /usr/local/lib/python3.10/dist-packages (from httpx>=0.27.0->chromadb) (1.0.5)\n",
            "Requirement already satisfied: idna in /usr/local/lib/python3.10/dist-packages (from httpx>=0.27.0->chromadb) (3.7)\n",
            "Requirement already satisfied: sniffio in /usr/local/lib/python3.10/dist-packages (from httpx>=0.27.0->chromadb) (1.3.1)\n",
            "Requirement already satisfied: h11<0.15,>=0.13 in /usr/local/lib/python3.10/dist-packages (from httpcore==1.*->httpx>=0.27.0->chromadb) (0.14.0)\n",
            "Requirement already satisfied: six>=1.9.0 in /usr/local/lib/python3.10/dist-packages (from kubernetes>=28.1.0->chromadb) (1.16.0)\n",
            "Requirement already satisfied: python-dateutil>=2.5.3 in /usr/local/lib/python3.10/dist-packages (from kubernetes>=28.1.0->chromadb) (2.8.2)\n",
            "Requirement already satisfied: google-auth>=1.0.1 in /usr/local/lib/python3.10/dist-packages (from kubernetes>=28.1.0->chromadb) (2.27.0)\n",
            "Requirement already satisfied: websocket-client!=0.40.0,!=0.41.*,!=0.42.*,>=0.32.0 in /usr/local/lib/python3.10/dist-packages (from kubernetes>=28.1.0->chromadb) (1.8.0)\n",
            "Requirement already satisfied: requests in /usr/local/lib/python3.10/dist-packages (from kubernetes>=28.1.0->chromadb) (2.31.0)\n",
            "Requirement already satisfied: requests-oauthlib in /usr/local/lib/python3.10/dist-packages (from kubernetes>=28.1.0->chromadb) (1.3.1)\n",
            "Requirement already satisfied: oauthlib>=3.2.2 in /usr/local/lib/python3.10/dist-packages (from kubernetes>=28.1.0->chromadb) (3.2.2)\n",
            "Requirement already satisfied: urllib3>=1.24.2 in /usr/local/lib/python3.10/dist-packages (from kubernetes>=28.1.0->chromadb) (2.0.7)\n",
            "Requirement already satisfied: coloredlogs in /usr/local/lib/python3.10/dist-packages (from onnxruntime>=1.14.1->chromadb) (15.0.1)\n",
            "Requirement already satisfied: flatbuffers in /usr/local/lib/python3.10/dist-packages (from onnxruntime>=1.14.1->chromadb) (24.3.25)\n",
            "Requirement already satisfied: protobuf in /usr/local/lib/python3.10/dist-packages (from onnxruntime>=1.14.1->chromadb) (3.20.3)\n",
            "Requirement already satisfied: sympy in /usr/local/lib/python3.10/dist-packages (from onnxruntime>=1.14.1->chromadb) (1.13.1)\n",
            "Requirement already satisfied: deprecated>=1.2.6 in /usr/local/lib/python3.10/dist-packages (from opentelemetry-api>=1.2.0->chromadb) (1.2.14)\n",
            "Requirement already satisfied: importlib-metadata<=8.0.0,>=6.0 in /usr/local/lib/python3.10/dist-packages (from opentelemetry-api>=1.2.0->chromadb) (8.0.0)\n",
            "Requirement already satisfied: googleapis-common-protos~=1.52 in /usr/local/lib/python3.10/dist-packages (from opentelemetry-exporter-otlp-proto-grpc>=1.2.0->chromadb) (1.63.2)\n",
            "Collecting opentelemetry-exporter-otlp-proto-common==1.26.0 (from opentelemetry-exporter-otlp-proto-grpc>=1.2.0->chromadb)\n",
            "  Downloading opentelemetry_exporter_otlp_proto_common-1.26.0-py3-none-any.whl.metadata (1.8 kB)\n",
            "Collecting opentelemetry-proto==1.26.0 (from opentelemetry-exporter-otlp-proto-grpc>=1.2.0->chromadb)\n",
            "  Downloading opentelemetry_proto-1.26.0-py3-none-any.whl.metadata (2.3 kB)\n",
            "Collecting opentelemetry-instrumentation-asgi==0.47b0 (from opentelemetry-instrumentation-fastapi>=0.41b0->chromadb)\n",
            "  Downloading opentelemetry_instrumentation_asgi-0.47b0-py3-none-any.whl.metadata (2.0 kB)\n",
            "Collecting opentelemetry-instrumentation==0.47b0 (from opentelemetry-instrumentation-fastapi>=0.41b0->chromadb)\n",
            "  Downloading opentelemetry_instrumentation-0.47b0-py3-none-any.whl.metadata (6.1 kB)\n",
            "Collecting opentelemetry-semantic-conventions==0.47b0 (from opentelemetry-instrumentation-fastapi>=0.41b0->chromadb)\n",
            "  Downloading opentelemetry_semantic_conventions-0.47b0-py3-none-any.whl.metadata (2.4 kB)\n",
            "Collecting opentelemetry-util-http==0.47b0 (from opentelemetry-instrumentation-fastapi>=0.41b0->chromadb)\n",
            "  Downloading opentelemetry_util_http-0.47b0-py3-none-any.whl.metadata (2.5 kB)\n",
            "Requirement already satisfied: setuptools>=16.0 in /usr/local/lib/python3.10/dist-packages (from opentelemetry-instrumentation==0.47b0->opentelemetry-instrumentation-fastapi>=0.41b0->chromadb) (71.0.4)\n",
            "Requirement already satisfied: wrapt<2.0.0,>=1.0.0 in /usr/local/lib/python3.10/dist-packages (from opentelemetry-instrumentation==0.47b0->opentelemetry-instrumentation-fastapi>=0.41b0->chromadb) (1.14.1)\n",
            "Collecting asgiref~=3.0 (from opentelemetry-instrumentation-asgi==0.47b0->opentelemetry-instrumentation-fastapi>=0.41b0->chromadb)\n",
            "  Downloading asgiref-3.8.1-py3-none-any.whl.metadata (9.3 kB)\n",
            "Collecting monotonic>=1.5 (from posthog>=2.4.0->chromadb)\n",
            "  Downloading monotonic-1.6-py2.py3-none-any.whl.metadata (1.5 kB)\n",
            "Requirement already satisfied: backoff>=1.10.0 in /usr/local/lib/python3.10/dist-packages (from posthog>=2.4.0->chromadb) (2.2.1)\n",
            "Requirement already satisfied: annotated-types>=0.4.0 in /usr/local/lib/python3.10/dist-packages (from pydantic>=1.9->chromadb) (0.7.0)\n",
            "Requirement already satisfied: pydantic-core==2.20.1 in /usr/local/lib/python3.10/dist-packages (from pydantic>=1.9->chromadb) (2.20.1)\n",
            "Requirement already satisfied: huggingface-hub<1.0,>=0.16.4 in /usr/local/lib/python3.10/dist-packages (from tokenizers>=0.13.2->chromadb) (0.23.5)\n",
            "Requirement already satisfied: click>=8.0.0 in /usr/local/lib/python3.10/dist-packages (from typer>=0.9.0->chromadb) (8.1.7)\n",
            "Requirement already satisfied: shellingham>=1.3.0 in /usr/local/lib/python3.10/dist-packages (from typer>=0.9.0->chromadb) (1.5.4)\n",
            "Requirement already satisfied: rich>=10.11.0 in /usr/local/lib/python3.10/dist-packages (from typer>=0.9.0->chromadb) (13.7.1)\n",
            "Collecting httptools>=0.5.0 (from uvicorn[standard]>=0.18.3->chromadb)\n",
            "  Downloading httptools-0.6.1-cp310-cp310-manylinux_2_5_x86_64.manylinux1_x86_64.manylinux_2_17_x86_64.manylinux2014_x86_64.whl.metadata (3.6 kB)\n",
            "Collecting python-dotenv>=0.13 (from uvicorn[standard]>=0.18.3->chromadb)\n",
            "  Downloading python_dotenv-1.0.1-py3-none-any.whl.metadata (23 kB)\n",
            "Collecting uvloop!=0.15.0,!=0.15.1,>=0.14.0 (from uvicorn[standard]>=0.18.3->chromadb)\n",
            "  Downloading uvloop-0.19.0-cp310-cp310-manylinux_2_17_x86_64.manylinux2014_x86_64.whl.metadata (4.9 kB)\n",
            "Collecting watchfiles>=0.13 (from uvicorn[standard]>=0.18.3->chromadb)\n",
            "  Downloading watchfiles-0.22.0-cp310-cp310-manylinux_2_17_x86_64.manylinux2014_x86_64.whl.metadata (4.9 kB)\n",
            "Collecting websockets>=10.4 (from uvicorn[standard]>=0.18.3->chromadb)\n",
            "  Downloading websockets-12.0-cp310-cp310-manylinux_2_5_x86_64.manylinux1_x86_64.manylinux_2_17_x86_64.manylinux2014_x86_64.whl.metadata (6.6 kB)\n",
            "Collecting dnspython>=2.0.0 (from email_validator>=2.0.0->fastapi>=0.95.2->chromadb)\n",
            "  Downloading dnspython-2.6.1-py3-none-any.whl.metadata (5.8 kB)\n",
            "Requirement already satisfied: cachetools<6.0,>=2.0.0 in /usr/local/lib/python3.10/dist-packages (from google-auth>=1.0.1->kubernetes>=28.1.0->chromadb) (5.4.0)\n",
            "Requirement already satisfied: pyasn1-modules>=0.2.1 in /usr/local/lib/python3.10/dist-packages (from google-auth>=1.0.1->kubernetes>=28.1.0->chromadb) (0.4.0)\n",
            "Requirement already satisfied: rsa<5,>=3.1.4 in /usr/local/lib/python3.10/dist-packages (from google-auth>=1.0.1->kubernetes>=28.1.0->chromadb) (4.9)\n",
            "Requirement already satisfied: filelock in /usr/local/lib/python3.10/dist-packages (from huggingface-hub<1.0,>=0.16.4->tokenizers>=0.13.2->chromadb) (3.15.4)\n",
            "Requirement already satisfied: fsspec>=2023.5.0 in /usr/local/lib/python3.10/dist-packages (from huggingface-hub<1.0,>=0.16.4->tokenizers>=0.13.2->chromadb) (2023.6.0)\n",
            "Requirement already satisfied: zipp>=0.5 in /usr/local/lib/python3.10/dist-packages (from importlib-metadata<=8.0.0,>=6.0->opentelemetry-api>=1.2.0->chromadb) (3.19.2)\n",
            "Requirement already satisfied: MarkupSafe>=2.0 in /usr/local/lib/python3.10/dist-packages (from jinja2>=2.11.2->fastapi>=0.95.2->chromadb) (2.1.5)\n",
            "Requirement already satisfied: charset-normalizer<4,>=2 in /usr/local/lib/python3.10/dist-packages (from requests->kubernetes>=28.1.0->chromadb) (3.3.2)\n",
            "Requirement already satisfied: markdown-it-py>=2.2.0 in /usr/local/lib/python3.10/dist-packages (from rich>=10.11.0->typer>=0.9.0->chromadb) (3.0.0)\n",
            "Requirement already satisfied: pygments<3.0.0,>=2.13.0 in /usr/local/lib/python3.10/dist-packages (from rich>=10.11.0->typer>=0.9.0->chromadb) (2.16.1)\n",
            "Requirement already satisfied: exceptiongroup in /usr/local/lib/python3.10/dist-packages (from anyio->httpx>=0.27.0->chromadb) (1.2.2)\n",
            "Requirement already satisfied: humanfriendly>=9.1 in /usr/local/lib/python3.10/dist-packages (from coloredlogs->onnxruntime>=1.14.1->chromadb) (10.0)\n",
            "Requirement already satisfied: mpmath<1.4,>=1.1.0 in /usr/local/lib/python3.10/dist-packages (from sympy->onnxruntime>=1.14.1->chromadb) (1.3.0)\n",
            "Requirement already satisfied: mdurl~=0.1 in /usr/local/lib/python3.10/dist-packages (from markdown-it-py>=2.2.0->rich>=10.11.0->typer>=0.9.0->chromadb) (0.1.2)\n",
            "Requirement already satisfied: pyasn1<0.7.0,>=0.4.6 in /usr/local/lib/python3.10/dist-packages (from pyasn1-modules>=0.2.1->google-auth>=1.0.1->kubernetes>=28.1.0->chromadb) (0.6.0)\n",
            "Downloading chromadb-0.5.5-py3-none-any.whl (584 kB)\n",
            "\u001b[2K   \u001b[90m━━━━━━━━━━━━━━━━━━━━━━━━━━━━━━━━━━━━━━━━\u001b[0m \u001b[32m584.3/584.3 kB\u001b[0m \u001b[31m37.2 MB/s\u001b[0m eta \u001b[36m0:00:00\u001b[0m\n",
            "\u001b[?25hDownloading chroma_hnswlib-0.7.6-cp310-cp310-manylinux_2_17_x86_64.manylinux2014_x86_64.whl (2.4 MB)\n",
            "\u001b[2K   \u001b[90m━━━━━━━━━━━━━━━━━━━━━━━━━━━━━━━━━━━━━━━━\u001b[0m \u001b[32m2.4/2.4 MB\u001b[0m \u001b[31m77.3 MB/s\u001b[0m eta \u001b[36m0:00:00\u001b[0m\n",
            "\u001b[?25hDownloading bcrypt-4.2.0-cp39-abi3-manylinux_2_28_x86_64.whl (273 kB)\n",
            "\u001b[2K   \u001b[90m━━━━━━━━━━━━━━━━━━━━━━━━━━━━━━━━━━━━━━━━\u001b[0m \u001b[32m273.8/273.8 kB\u001b[0m \u001b[31m22.2 MB/s\u001b[0m eta \u001b[36m0:00:00\u001b[0m\n",
            "\u001b[?25hDownloading fastapi-0.111.1-py3-none-any.whl (92 kB)\n",
            "\u001b[2K   \u001b[90m━━━━━━━━━━━━━━━━━━━━━━━━━━━━━━━━━━━━━━━━\u001b[0m \u001b[32m92.2/92.2 kB\u001b[0m \u001b[31m7.4 MB/s\u001b[0m eta \u001b[36m0:00:00\u001b[0m\n",
            "\u001b[?25hDownloading kubernetes-30.1.0-py2.py3-none-any.whl (1.7 MB)\n",
            "\u001b[2K   \u001b[90m━━━━━━━━━━━━━━━━━━━━━━━━━━━━━━━━━━━━━━━━\u001b[0m \u001b[32m1.7/1.7 MB\u001b[0m \u001b[31m65.3 MB/s\u001b[0m eta \u001b[36m0:00:00\u001b[0m\n",
            "\u001b[?25hDownloading mmh3-4.1.0-cp310-cp310-manylinux_2_5_x86_64.manylinux1_x86_64.manylinux_2_17_x86_64.manylinux2014_x86_64.whl (67 kB)\n",
            "\u001b[2K   \u001b[90m━━━━━━━━━━━━━━━━━━━━━━━━━━━━━━━━━━━━━━━━\u001b[0m \u001b[32m67.6/67.6 kB\u001b[0m \u001b[31m5.0 MB/s\u001b[0m eta \u001b[36m0:00:00\u001b[0m\n",
            "\u001b[?25hDownloading opentelemetry_api-1.26.0-py3-none-any.whl (61 kB)\n",
            "\u001b[2K   \u001b[90m━━━━━━━━━━━━━━━━━━━━━━━━━━━━━━━━━━━━━━━━\u001b[0m \u001b[32m61.5/61.5 kB\u001b[0m \u001b[31m4.9 MB/s\u001b[0m eta \u001b[36m0:00:00\u001b[0m\n",
            "\u001b[?25hDownloading opentelemetry_exporter_otlp_proto_grpc-1.26.0-py3-none-any.whl (18 kB)\n",
            "Downloading opentelemetry_exporter_otlp_proto_common-1.26.0-py3-none-any.whl (17 kB)\n",
            "Downloading opentelemetry_proto-1.26.0-py3-none-any.whl (52 kB)\n",
            "\u001b[2K   \u001b[90m━━━━━━━━━━━━━━━━━━━━━━━━━━━━━━━━━━━━━━━━\u001b[0m \u001b[32m52.5/52.5 kB\u001b[0m \u001b[31m4.1 MB/s\u001b[0m eta \u001b[36m0:00:00\u001b[0m\n",
            "\u001b[?25hDownloading opentelemetry_instrumentation_fastapi-0.47b0-py3-none-any.whl (11 kB)\n",
            "Downloading opentelemetry_instrumentation-0.47b0-py3-none-any.whl (29 kB)\n",
            "Downloading opentelemetry_instrumentation_asgi-0.47b0-py3-none-any.whl (15 kB)\n",
            "Downloading opentelemetry_semantic_conventions-0.47b0-py3-none-any.whl (138 kB)\n",
            "\u001b[2K   \u001b[90m━━━━━━━━━━━━━━━━━━━━━━━━━━━━━━━━━━━━━━━━\u001b[0m \u001b[32m138.0/138.0 kB\u001b[0m \u001b[31m11.3 MB/s\u001b[0m eta \u001b[36m0:00:00\u001b[0m\n",
            "\u001b[?25hDownloading opentelemetry_util_http-0.47b0-py3-none-any.whl (6.9 kB)\n",
            "Downloading opentelemetry_sdk-1.26.0-py3-none-any.whl (109 kB)\n",
            "\u001b[2K   \u001b[90m━━━━━━━━━━━━━━━━━━━━━━━━━━━━━━━━━━━━━━━━\u001b[0m \u001b[32m109.5/109.5 kB\u001b[0m \u001b[31m8.2 MB/s\u001b[0m eta \u001b[36m0:00:00\u001b[0m\n",
            "\u001b[?25hDownloading overrides-7.7.0-py3-none-any.whl (17 kB)\n",
            "Downloading posthog-3.5.0-py2.py3-none-any.whl (41 kB)\n",
            "\u001b[2K   \u001b[90m━━━━━━━━━━━━━━━━━━━━━━━━━━━━━━━━━━━━━━━━\u001b[0m \u001b[32m41.3/41.3 kB\u001b[0m \u001b[31m2.6 MB/s\u001b[0m eta \u001b[36m0:00:00\u001b[0m\n",
            "\u001b[?25hDownloading uvicorn-0.30.3-py3-none-any.whl (62 kB)\n",
            "\u001b[2K   \u001b[90m━━━━━━━━━━━━━━━━━━━━━━━━━━━━━━━━━━━━━━━━\u001b[0m \u001b[32m62.8/62.8 kB\u001b[0m \u001b[31m4.1 MB/s\u001b[0m eta \u001b[36m0:00:00\u001b[0m\n",
            "\u001b[?25hDownloading email_validator-2.2.0-py3-none-any.whl (33 kB)\n",
            "Downloading fastapi_cli-0.0.4-py3-none-any.whl (9.5 kB)\n",
            "Downloading httptools-0.6.1-cp310-cp310-manylinux_2_5_x86_64.manylinux1_x86_64.manylinux_2_17_x86_64.manylinux2014_x86_64.whl (341 kB)\n",
            "\u001b[2K   \u001b[90m━━━━━━━━━━━━━━━━━━━━━━━━━━━━━━━━━━━━━━━━\u001b[0m \u001b[32m341.4/341.4 kB\u001b[0m \u001b[31m24.7 MB/s\u001b[0m eta \u001b[36m0:00:00\u001b[0m\n",
            "\u001b[?25hDownloading monotonic-1.6-py2.py3-none-any.whl (8.2 kB)\n",
            "Downloading python_dotenv-1.0.1-py3-none-any.whl (19 kB)\n",
            "Downloading starlette-0.37.2-py3-none-any.whl (71 kB)\n",
            "\u001b[2K   \u001b[90m━━━━━━━━━━━━━━━━━━━━━━━━━━━━━━━━━━━━━━━━\u001b[0m \u001b[32m71.9/71.9 kB\u001b[0m \u001b[31m4.9 MB/s\u001b[0m eta \u001b[36m0:00:00\u001b[0m\n",
            "\u001b[?25hDownloading uvloop-0.19.0-cp310-cp310-manylinux_2_17_x86_64.manylinux2014_x86_64.whl (3.4 MB)\n",
            "\u001b[2K   \u001b[90m━━━━━━━━━━━━━━━━━━━━━━━━━━━━━━━━━━━━━━━━\u001b[0m \u001b[32m3.4/3.4 MB\u001b[0m \u001b[31m67.0 MB/s\u001b[0m eta \u001b[36m0:00:00\u001b[0m\n",
            "\u001b[?25hDownloading watchfiles-0.22.0-cp310-cp310-manylinux_2_17_x86_64.manylinux2014_x86_64.whl (1.2 MB)\n",
            "\u001b[2K   \u001b[90m━━━━━━━━━━━━━━━━━━━━━━━━━━━━━━━━━━━━━━━━\u001b[0m \u001b[32m1.2/1.2 MB\u001b[0m \u001b[31m46.8 MB/s\u001b[0m eta \u001b[36m0:00:00\u001b[0m\n",
            "\u001b[?25hDownloading websockets-12.0-cp310-cp310-manylinux_2_5_x86_64.manylinux1_x86_64.manylinux_2_17_x86_64.manylinux2014_x86_64.whl (130 kB)\n",
            "\u001b[2K   \u001b[90m━━━━━━━━━━━━━━━━━━━━━━━━━━━━━━━━━━━━━━━━\u001b[0m \u001b[32m130.2/130.2 kB\u001b[0m \u001b[31m11.2 MB/s\u001b[0m eta \u001b[36m0:00:00\u001b[0m\n",
            "\u001b[?25hDownloading asgiref-3.8.1-py3-none-any.whl (23 kB)\n",
            "Downloading dnspython-2.6.1-py3-none-any.whl (307 kB)\n",
            "\u001b[2K   \u001b[90m━━━━━━━━━━━━━━━━━━━━━━━━━━━━━━━━━━━━━━━━\u001b[0m \u001b[32m307.7/307.7 kB\u001b[0m \u001b[31m20.1 MB/s\u001b[0m eta \u001b[36m0:00:00\u001b[0m\n",
            "\u001b[?25hBuilding wheels for collected packages: pypika\n",
            "  Building wheel for pypika (pyproject.toml) ... \u001b[?25l\u001b[?25hdone\n",
            "  Created wheel for pypika: filename=PyPika-0.48.9-py2.py3-none-any.whl size=53724 sha256=41a1669a31f5609e5532a475da46d3795f8e8f10cb3e310d3dd94cc6c03dfa52\n",
            "  Stored in directory: /root/.cache/pip/wheels/e1/26/51/d0bffb3d2fd82256676d7ad3003faea3bd6dddc9577af665f4\n",
            "Successfully built pypika\n",
            "Installing collected packages: pypika, monotonic, mmh3, websockets, uvloop, uvicorn, python-dotenv, overrides, opentelemetry-util-http, opentelemetry-proto, httptools, dnspython, chroma-hnswlib, bcrypt, asgiref, watchfiles, starlette, posthog, opentelemetry-exporter-otlp-proto-common, opentelemetry-api, email_validator, opentelemetry-semantic-conventions, opentelemetry-instrumentation, kubernetes, opentelemetry-sdk, opentelemetry-instrumentation-asgi, fastapi-cli, opentelemetry-instrumentation-fastapi, opentelemetry-exporter-otlp-proto-grpc, fastapi, chromadb\n",
            "Successfully installed asgiref-3.8.1 bcrypt-4.2.0 chroma-hnswlib-0.7.6 chromadb-0.5.5 dnspython-2.6.1 email_validator-2.2.0 fastapi-0.111.1 fastapi-cli-0.0.4 httptools-0.6.1 kubernetes-30.1.0 mmh3-4.1.0 monotonic-1.6 opentelemetry-api-1.26.0 opentelemetry-exporter-otlp-proto-common-1.26.0 opentelemetry-exporter-otlp-proto-grpc-1.26.0 opentelemetry-instrumentation-0.47b0 opentelemetry-instrumentation-asgi-0.47b0 opentelemetry-instrumentation-fastapi-0.47b0 opentelemetry-proto-1.26.0 opentelemetry-sdk-1.26.0 opentelemetry-semantic-conventions-0.47b0 opentelemetry-util-http-0.47b0 overrides-7.7.0 posthog-3.5.0 pypika-0.48.9 python-dotenv-1.0.1 starlette-0.37.2 uvicorn-0.30.3 uvloop-0.19.0 watchfiles-0.22.0 websockets-12.0\n"
          ]
        }
      ],
      "source": [
        "!pip install chromadb"
      ]
    },
    {
      "cell_type": "code",
      "execution_count": null,
      "metadata": {
        "id": "UWohXrVgX5j4"
      },
      "outputs": [],
      "source": [
        "Table=[]\n",
        "for element in raw_pdf_elements:\n",
        "  if \"unstructured.documents.elements.Table\" in str(type(element)):\n",
        "            Table.append(str(element))"
      ]
    },
    {
      "cell_type": "code",
      "execution_count": null,
      "metadata": {
        "colab": {
          "base_uri": "https://localhost:8080/"
        },
        "id": "kG-bGuWp4o_e",
        "outputId": "24745045-8c26-4fb5-be7b-71ecb4e07f33"
      },
      "outputs": [
        {
          "name": "stderr",
          "output_type": "stream",
          "text": [
            "/usr/local/lib/python3.10/dist-packages/langchain_core/_api/deprecation.py:139: LangChainDeprecationWarning: The class `Chroma` was deprecated in LangChain 0.2.9 and will be removed in 0.4. An updated version of the class exists in the langchain-chroma package and should be used instead. To use it run `pip install -U langchain-chroma` and import as `from langchain_chroma import Chroma`.\n",
            "  warn_deprecated(\n"
          ]
        }
      ],
      "source": [
        "def create_multi_vector_retriever(vectorstore, text_summaries, texts, table_summaries, tables, image_summaries, images):\n",
        "    \"\"\"\n",
        "    Create retriever that indexes summaries, but returns raw images or texts\n",
        "    \"\"\"\n",
        "\n",
        "    # Initialize the storage layer\n",
        "    store = InMemoryStore()\n",
        "    id_key = \"doc_id\"\n",
        "\n",
        "    # Create the multi-vector retriever\n",
        "    retriever = MultiVectorRetriever(\n",
        "        vectorstore=vectorstore,\n",
        "        docstore=store,\n",
        "        id_key=id_key,\n",
        "    )\n",
        "\n",
        "\n",
        "    # Helper function to add documents to the vectorstore and docstore\n",
        "    def add_documents(retriever, doc_summaries, doc_contents):\n",
        "\n",
        "      doc_ids = [str(uuid.uuid4()) for _ in doc_contents]\n",
        "\n",
        "      summary_docs = [\n",
        "              Document(page_content=s, metadata={id_key: doc_ids[i]})\n",
        "              for i, s in enumerate(doc_summaries)\n",
        "          ]\n",
        "\n",
        "      retriever.vectorstore.add_documents(summary_docs)\n",
        "      retriever.docstore.mset(list(zip(doc_ids, doc_contents)))\n",
        "\n",
        "      # Add texts, tables, and images\n",
        "      # Check that text_summaries is not empty before adding\n",
        "      if text_summaries:\n",
        "          add_documents(retriever, text_summaries, texts)\n",
        "      # Check that table_summaries is not empty before adding\n",
        "      if table_summaries:\n",
        "          add_documents(retriever, table_summaries, tab)\n",
        "      # Check that image_summaries is not empty before adding\n",
        "      if image_summaries:\n",
        "          add_documents(retriever, image_summaries, img)\n",
        "\n",
        "    return retriever\n",
        "\n",
        "vectorstore = Chroma(\n",
        "    collection_name=\"mm_rag\", embedding_function=embeddings\n",
        ")\n",
        "\n",
        "# Create retriever\n",
        "retriever_multi_vector_img = create_multi_vector_retriever(\n",
        "    vectorstore,\n",
        "    text_summaries,\n",
        "    Text,\n",
        "    table_summaries,\n",
        "    Table,\n",
        "    image_summaries,\n",
        "    img_base64_list,\n",
        ")"
      ]
    },
    {
      "cell_type": "code",
      "execution_count": null,
      "metadata": {
        "colab": {
          "base_uri": "https://localhost:8080/"
        },
        "id": "1P2e_PGaYA9t",
        "outputId": "742e0a63-8464-42c3-d362-f5761333d17f"
      },
      "outputs": [
        {
          "data": {
            "text/plain": [
              "MultiVectorRetriever(vectorstore=<langchain_community.vectorstores.chroma.Chroma object at 0x79068fdff730>, docstore=<langchain_core.stores.InMemoryStore object at 0x79068f478ac0>)"
            ]
          },
          "execution_count": 54,
          "metadata": {},
          "output_type": "execute_result"
        }
      ],
      "source": [
        "retriever_multi_vector_img"
      ]
    },
    {
      "cell_type": "code",
      "execution_count": null,
      "metadata": {
        "id": "rgp379CtYDa5"
      },
      "outputs": [],
      "source": [
        "import io\n",
        "import re\n",
        "\n",
        "from IPython.display import HTML, display\n",
        "from PIL import Image"
      ]
    },
    {
      "cell_type": "code",
      "execution_count": null,
      "metadata": {
        "id": "NmpI1Pi4YGmw"
      },
      "outputs": [],
      "source": [
        "def plt_img_base64(img_base64):\n",
        "    \"\"\"Disply base64 encoded string as image\"\"\"\n",
        "    # Create an HTML img tag with the base64 string as the source\n",
        "    image_html = f'<img src=\"data:image/jpeg;base64,{img_base64}\" />'\n",
        "    # Display the image by rendering the HTML\n",
        "    display(HTML(image_html))"
      ]
    },
    {
      "cell_type": "code",
      "execution_count": null,
      "metadata": {
        "colab": {
          "base_uri": "https://localhost:8080/",
          "height": 793
        },
        "collapsed": true,
        "id": "CoDN78xvYL7x",
        "outputId": "f1d9c356-ffe0-4baf-9be7-b7342deebfe7"
      },
      "outputs": [
        {
          "data": {
            "text/html": [
              "<img src=\"data:image/jpeg;base64,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\" />"
            ],
            "text/plain": [
              "<IPython.core.display.HTML object>"
            ]
          },
          "metadata": {},
          "output_type": "display_data"
        }
      ],
      "source": [
        "plt_img_base64(img_base64_list[0])"
      ]
    },
    {
      "cell_type": "code",
      "execution_count": null,
      "metadata": {
        "id": "7HfcHz-IYUac"
      },
      "outputs": [],
      "source": [
        "def looks_like_base64(sb):\n",
        "    \"\"\"Check if the string looks like base64\"\"\"\n",
        "    return re.match(\"^[A-Za-z0-9+/]+[=]{0,2}$\", sb) is not None\n"
      ]
    },
    {
      "cell_type": "code",
      "execution_count": null,
      "metadata": {
        "id": "dgu3xdjrYWjq"
      },
      "outputs": [],
      "source": [
        "def is_image_data(b64data):\n",
        "    \"\"\"\n",
        "    Check if the base64 data is an image by looking at the start of the data\n",
        "    \"\"\"\n",
        "    image_signatures = {\n",
        "        b\"\\xFF\\xD8\\xFF\": \"jpg\",\n",
        "        b\"\\x89\\x50\\x4E\\x47\\x0D\\x0A\\x1A\\x0A\": \"png\",\n",
        "        b\"\\x47\\x49\\x46\\x38\": \"gif\",\n",
        "        b\"\\x52\\x49\\x46\\x46\": \"webp\",\n",
        "    }\n",
        "    try:\n",
        "        header = base64.b64decode(b64data)[:8]  # Decode and get the first 8 bytes\n",
        "        for sig, format in image_signatures.items():\n",
        "            if header.startswith(sig):\n",
        "                return True\n",
        "        return False\n",
        "    except Exception:\n",
        "        return False"
      ]
    },
    {
      "cell_type": "code",
      "execution_count": null,
      "metadata": {
        "id": "2J93zFFEYYxr"
      },
      "outputs": [],
      "source": [
        "def resize_base64_image(base64_string, size=(128, 128)):\n",
        "    \"\"\"\n",
        "    Resize an image encoded as a Base64 string\n",
        "    \"\"\"\n",
        "    # Decode the Base64 string\n",
        "    img_data = base64.b64decode(base64_string)\n",
        "    img = Image.open(io.BytesIO(img_data))\n",
        "\n",
        "    # Resize the image\n",
        "    resized_img = img.resize(size, Image.LANCZOS)\n",
        "\n",
        "    # Save the resized image to a bytes buffer\n",
        "    buffered = io.BytesIO()\n",
        "    resized_img.save(buffered, format=img.format)\n",
        "\n",
        "    # Encode the resized image to Base64\n",
        "    return base64.b64encode(buffered.getvalue()).decode(\"utf-8\")"
      ]
    },
    {
      "cell_type": "code",
      "execution_count": null,
      "metadata": {
        "id": "8K-MQ8QqYa5c"
      },
      "outputs": [],
      "source": [
        "def split_image_text_types(docs):\n",
        "    \"\"\"\n",
        "    Split base64-encoded images and texts\n",
        "    \"\"\"\n",
        "    b64_images = []\n",
        "    texts = []\n",
        "\n",
        "    for doc in docs:\n",
        "        # Check if the document is of type Document and extract page_content if so\n",
        "        if isinstance(doc, Document):\n",
        "            doc = doc.page_content\n",
        "        if looks_like_base64(doc) and is_image_data(doc):\n",
        "            doc = resize_base64_image(doc, size=(1300, 600))\n",
        "            b64_images.append(doc)\n",
        "        else:\n",
        "            texts.append(doc)\n",
        "\n",
        "    return {\"images\": b64_images, \"texts\": texts}"
      ]
    },
    {
      "cell_type": "code",
      "execution_count": null,
      "metadata": {
        "id": "KrA34dS2YdjQ"
      },
      "outputs": [],
      "source": [
        "def img_prompt_func(data_dict):\n",
        "    \"\"\"\n",
        "    Join the context into a single string\n",
        "    \"\"\"\n",
        "    #print(data_dict)\n",
        "    formatted_texts = \"\\n\".join(data_dict[\"context\"][\"texts\"])\n",
        "    messages = []\n",
        "\n",
        "    # Adding image(s) to the messages if present\n",
        "    if data_dict[\"context\"][\"images\"]:\n",
        "        for image in data_dict[\"context\"][\"images\"]:\n",
        "            image_message = {\n",
        "                \"type\": \"image_url\",\n",
        "                \"image_url\": {\"url\": f\"data:image/jpeg;base64,{image}\"},\n",
        "            }\n",
        "            messages.append(image_message)\n",
        "\n",
        "    # Adding the text for analysis\n",
        "    text_message = {\n",
        "        \"type\": \"text\",\n",
        "        \"text\": (\n",
        "            \"You are a helpful assistant.\\n\"\n",
        "            \"You will be given a mixed info(s) .\\n\"\n",
        "            \"Use this information to provide relevant information to the user question. \\n\"\n",
        "            f\"User-provided question: {data_dict['question']}\\n\\n\"\n",
        "            \"Text and / or tables:\\n\"\n",
        "            f\"{formatted_texts}\"\n",
        "        ),\n",
        "    }\n",
        "    messages.append(text_message)\n",
        "    return [HumanMessage(content=messages)]"
      ]
    },
    {
      "cell_type": "code",
      "execution_count": null,
      "metadata": {
        "id": "ANX0dmpUYgYv"
      },
      "outputs": [],
      "source": [
        "from langchain_core.runnables import RunnableLambda, RunnablePassthrough"
      ]
    },
    {
      "cell_type": "code",
      "execution_count": null,
      "metadata": {
        "id": "Q9FMv5DsYgea"
      },
      "outputs": [],
      "source": [
        "def multi_modal_rag_chain(retriever):\n",
        "    \"\"\"\n",
        "    Multi-modal RAG chain\n",
        "    \"\"\"\n",
        "\n",
        "    # Multi-modal LLM\n",
        "\n",
        "    model =ChatGoogleGenerativeAI(model=\"gemini-1.5-flash\", google_api_key=GOOGLE_API_KEY,max_output_tokens=512)\n",
        "\n",
        "\n",
        "    # RAG pipeline\n",
        "    chain = (\n",
        "        {\n",
        "            \"context\": retriever | RunnableLambda(split_image_text_types),\n",
        "            \"question\": RunnablePassthrough(),\n",
        "        }\n",
        "        | RunnableLambda(img_prompt_func)\n",
        "        | model\n",
        "        | StrOutputParser()\n",
        "    )\n",
        "\n",
        "    return chain"
      ]
    },
    {
      "cell_type": "code",
      "execution_count": null,
      "metadata": {
        "id": "vRTkRrMnYghd"
      },
      "outputs": [],
      "source": [
        "chain_multimodal_rag = multi_modal_rag_chain(retriever_multi_vector_img)"
      ]
    },
    {
      "cell_type": "code",
      "execution_count": null,
      "metadata": {
        "colab": {
          "base_uri": "https://localhost:8080/"
        },
        "id": "dwmI82IWYgjt",
        "outputId": "8941a505-7bbe-45d0-cd9f-c303839c6700"
      },
      "outputs": [
        {
          "data": {
            "text/plain": [
              "{\n",
              "  context: MultiVectorRetriever(vectorstore=<langchain_community.vectorstores.chroma.Chroma object at 0x79068fdff730>, docstore=<langchain_core.stores.InMemoryStore object at 0x79068f478ac0>)\n",
              "           | RunnableLambda(split_image_text_types),\n",
              "  question: RunnablePassthrough()\n",
              "}\n",
              "| RunnableLambda(img_prompt_func)\n",
              "| ChatGoogleGenerativeAI(model='models/gemini-1.5-flash', google_api_key=SecretStr('**********'), max_output_tokens=512, client=<google.ai.generativelanguage_v1beta.services.generative_service.client.GenerativeServiceClient object at 0x79068fdfd9c0>, async_client=<google.ai.generativelanguage_v1beta.services.generative_service.async_client.GenerativeServiceAsyncClient object at 0x79068fdff3a0>, default_metadata=())\n",
              "| StrOutputParser()"
            ]
          },
          "execution_count": 66,
          "metadata": {},
          "output_type": "execute_result"
        }
      ],
      "source": [
        "chain_multimodal_rag"
      ]
    },
    {
      "cell_type": "code",
      "execution_count": null,
      "metadata": {
        "id": "PQMy60ZMYgmO"
      },
      "outputs": [],
      "source": [
        "query = \"what is the candlestick?\"\n",
        "docs = retriever_multi_vector_img.invoke(query)"
      ]
    },
    {
      "cell_type": "code",
      "execution_count": null,
      "metadata": {
        "colab": {
          "base_uri": "https://localhost:8080/"
        },
        "id": "awJNnAmzY7Z0",
        "outputId": "da62f97a-5ee2-4e53-c7e2-4bf9d30bb73b"
      },
      "outputs": [
        {
          "data": {
            "text/plain": [
              "[]"
            ]
          },
          "execution_count": 68,
          "metadata": {},
          "output_type": "execute_result"
        }
      ],
      "source": [
        "retriever_multi_vector_img.invoke(query)"
      ]
    },
    {
      "cell_type": "code",
      "execution_count": null,
      "metadata": {
        "colab": {
          "base_uri": "https://localhost:8080/",
          "height": 37
        },
        "id": "e0QsYKCVY7dP",
        "outputId": "d2367d32-da6e-48ef-8b87-4daebf18dbc3"
      },
      "outputs": [
        {
          "data": {
            "text/html": [
              "<img src=\"data:image/jpeg;base64,[]\" />"
            ],
            "text/plain": [
              "<IPython.core.display.HTML object>"
            ]
          },
          "metadata": {},
          "output_type": "display_data"
        }
      ],
      "source": [
        "plt_img_base64(docs)"
      ]
    },
    {
      "cell_type": "code",
      "execution_count": null,
      "metadata": {
        "id": "7jS54sJZY7gL"
      },
      "outputs": [],
      "source": [
        "query=\"Why do Candlesticks Work?\""
      ]
    },
    {
      "cell_type": "code",
      "execution_count": null,
      "metadata": {
        "id": "ymmUz_XvY7kA"
      },
      "outputs": [],
      "source": []
    },
    {
      "cell_type": "code",
      "execution_count": null,
      "metadata": {
        "colab": {
          "base_uri": "https://localhost:8080/"
        },
        "id": "OyA3kKtRZLU6",
        "outputId": "eedaaf31-1d47-44a7-d361-701d48aeb4ef"
      },
      "outputs": [
        {
          "name": "stdout",
          "output_type": "stream",
          "text": [
            "Please provide me with the text and/or tables containing the information about candlesticks. I need that context to explain why candlesticks work. \n",
            "\n"
          ]
        }
      ],
      "source": [
        "print(chain_multimodal_rag.invoke(query))"
      ]
    },
    {
      "cell_type": "code",
      "execution_count": null,
      "metadata": {
        "id": "Gnq6ZtpMcd0a"
      },
      "outputs": [],
      "source": []
    }
  ],
  "metadata": {
    "colab": {
      "provenance": []
    },
    "kernelspec": {
      "display_name": "Python 3",
      "name": "python3"
    },
    "language_info": {
      "name": "python"
    },
    "widgets": {
      "application/vnd.jupyter.widget-state+json": {
        "00921c7c31dc43f6bd21f194b3fa16c9": {
          "model_module": "@jupyter-widgets/base",
          "model_module_version": "1.2.0",
          "model_name": "LayoutModel",
          "state": {
            "_model_module": "@jupyter-widgets/base",
            "_model_module_version": "1.2.0",
            "_model_name": "LayoutModel",
            "_view_count": null,
            "_view_module": "@jupyter-widgets/base",
            "_view_module_version": "1.2.0",
            "_view_name": "LayoutView",
            "align_content": null,
            "align_items": null,
            "align_self": null,
            "border": null,
            "bottom": null,
            "display": null,
            "flex": null,
            "flex_flow": null,
            "grid_area": null,
            "grid_auto_columns": null,
            "grid_auto_flow": null,
            "grid_auto_rows": null,
            "grid_column": null,
            "grid_gap": null,
            "grid_row": null,
            "grid_template_areas": null,
            "grid_template_columns": null,
            "grid_template_rows": null,
            "height": null,
            "justify_content": null,
            "justify_items": null,
            "left": null,
            "margin": null,
            "max_height": null,
            "max_width": null,
            "min_height": null,
            "min_width": null,
            "object_fit": null,
            "object_position": null,
            "order": null,
            "overflow": null,
            "overflow_x": null,
            "overflow_y": null,
            "padding": null,
            "right": null,
            "top": null,
            "visibility": null,
            "width": null
          }
        },
        "013be449fe1046c7b305bcdbc5bb0b4d": {
          "model_module": "@jupyter-widgets/base",
          "model_module_version": "1.2.0",
          "model_name": "LayoutModel",
          "state": {
            "_model_module": "@jupyter-widgets/base",
            "_model_module_version": "1.2.0",
            "_model_name": "LayoutModel",
            "_view_count": null,
            "_view_module": "@jupyter-widgets/base",
            "_view_module_version": "1.2.0",
            "_view_name": "LayoutView",
            "align_content": null,
            "align_items": null,
            "align_self": null,
            "border": null,
            "bottom": null,
            "display": null,
            "flex": null,
            "flex_flow": null,
            "grid_area": null,
            "grid_auto_columns": null,
            "grid_auto_flow": null,
            "grid_auto_rows": null,
            "grid_column": null,
            "grid_gap": null,
            "grid_row": null,
            "grid_template_areas": null,
            "grid_template_columns": null,
            "grid_template_rows": null,
            "height": null,
            "justify_content": null,
            "justify_items": null,
            "left": null,
            "margin": null,
            "max_height": null,
            "max_width": null,
            "min_height": null,
            "min_width": null,
            "object_fit": null,
            "object_position": null,
            "order": null,
            "overflow": null,
            "overflow_x": null,
            "overflow_y": null,
            "padding": null,
            "right": null,
            "top": null,
            "visibility": null,
            "width": null
          }
        },
        "029ad1b0249d463695cd24d104003e0b": {
          "model_module": "@jupyter-widgets/controls",
          "model_module_version": "1.5.0",
          "model_name": "HTMLModel",
          "state": {
            "_dom_classes": [],
            "_model_module": "@jupyter-widgets/controls",
            "_model_module_version": "1.5.0",
            "_model_name": "HTMLModel",
            "_view_count": null,
            "_view_module": "@jupyter-widgets/controls",
            "_view_module_version": "1.5.0",
            "_view_name": "HTMLView",
            "description": "",
            "description_tooltip": null,
            "layout": "IPY_MODEL_8bbdf890119044d1bd5d0357c1fcccf3",
            "placeholder": "​",
            "style": "IPY_MODEL_6578fa56b3f640abb1ff47f32cd21553",
            "value": " 190/190 [00:00&lt;00:00, 6.94kB/s]"
          }
        },
        "04c82df48ca042b3a66851cd7e389987": {
          "model_module": "@jupyter-widgets/controls",
          "model_module_version": "1.5.0",
          "model_name": "HBoxModel",
          "state": {
            "_dom_classes": [],
            "_model_module": "@jupyter-widgets/controls",
            "_model_module_version": "1.5.0",
            "_model_name": "HBoxModel",
            "_view_count": null,
            "_view_module": "@jupyter-widgets/controls",
            "_view_module_version": "1.5.0",
            "_view_name": "HBoxView",
            "box_style": "",
            "children": [
              "IPY_MODEL_d09b7c8ef366481e833738c009d8f338",
              "IPY_MODEL_33d42f27887e498db65e51e2837bc973",
              "IPY_MODEL_69cf70e921644a7a906790274f9a0173"
            ],
            "layout": "IPY_MODEL_013be449fe1046c7b305bcdbc5bb0b4d"
          }
        },
        "061da184f0c24513a257f2a7843b3962": {
          "model_module": "@jupyter-widgets/controls",
          "model_module_version": "1.5.0",
          "model_name": "ProgressStyleModel",
          "state": {
            "_model_module": "@jupyter-widgets/controls",
            "_model_module_version": "1.5.0",
            "_model_name": "ProgressStyleModel",
            "_view_count": null,
            "_view_module": "@jupyter-widgets/base",
            "_view_module_version": "1.2.0",
            "_view_name": "StyleView",
            "bar_color": null,
            "description_width": ""
          }
        },
        "0e3ddb0f24914816961b84a409a7241d": {
          "model_module": "@jupyter-widgets/controls",
          "model_module_version": "1.5.0",
          "model_name": "FloatProgressModel",
          "state": {
            "_dom_classes": [],
            "_model_module": "@jupyter-widgets/controls",
            "_model_module_version": "1.5.0",
            "_model_name": "FloatProgressModel",
            "_view_count": null,
            "_view_module": "@jupyter-widgets/controls",
            "_view_module_version": "1.5.0",
            "_view_name": "ProgressView",
            "bar_style": "success",
            "description": "",
            "description_tooltip": null,
            "layout": "IPY_MODEL_a6b1cc82e283471da84ea934eb03265a",
            "max": 466021,
            "min": 0,
            "orientation": "horizontal",
            "style": "IPY_MODEL_33bb508231774c0eb1a4b9ceba7299f4",
            "value": 466021
          }
        },
        "0fc040b13a1d448cac2d20bef9ce1a99": {
          "model_module": "@jupyter-widgets/controls",
          "model_module_version": "1.5.0",
          "model_name": "HTMLModel",
          "state": {
            "_dom_classes": [],
            "_model_module": "@jupyter-widgets/controls",
            "_model_module_version": "1.5.0",
            "_model_name": "HTMLModel",
            "_view_count": null,
            "_view_module": "@jupyter-widgets/controls",
            "_view_module_version": "1.5.0",
            "_view_name": "HTMLView",
            "description": "",
            "description_tooltip": null,
            "layout": "IPY_MODEL_c69bd30c89ea4821bf725abe4ccc2b6b",
            "placeholder": "​",
            "style": "IPY_MODEL_c016b6226fc34107a98194c5102199f2",
            "value": "modules.json: 100%"
          }
        },
        "10025bd634484cffbe4899e60f991314": {
          "model_module": "@jupyter-widgets/base",
          "model_module_version": "1.2.0",
          "model_name": "LayoutModel",
          "state": {
            "_model_module": "@jupyter-widgets/base",
            "_model_module_version": "1.2.0",
            "_model_name": "LayoutModel",
            "_view_count": null,
            "_view_module": "@jupyter-widgets/base",
            "_view_module_version": "1.2.0",
            "_view_name": "LayoutView",
            "align_content": null,
            "align_items": null,
            "align_self": null,
            "border": null,
            "bottom": null,
            "display": null,
            "flex": null,
            "flex_flow": null,
            "grid_area": null,
            "grid_auto_columns": null,
            "grid_auto_flow": null,
            "grid_auto_rows": null,
            "grid_column": null,
            "grid_gap": null,
            "grid_row": null,
            "grid_template_areas": null,
            "grid_template_columns": null,
            "grid_template_rows": null,
            "height": null,
            "justify_content": null,
            "justify_items": null,
            "left": null,
            "margin": null,
            "max_height": null,
            "max_width": null,
            "min_height": null,
            "min_width": null,
            "object_fit": null,
            "object_position": null,
            "order": null,
            "overflow": null,
            "overflow_x": null,
            "overflow_y": null,
            "padding": null,
            "right": null,
            "top": null,
            "visibility": null,
            "width": null
          }
        },
        "136058d177b3473bafe0465d481fa629": {
          "model_module": "@jupyter-widgets/base",
          "model_module_version": "1.2.0",
          "model_name": "LayoutModel",
          "state": {
            "_model_module": "@jupyter-widgets/base",
            "_model_module_version": "1.2.0",
            "_model_name": "LayoutModel",
            "_view_count": null,
            "_view_module": "@jupyter-widgets/base",
            "_view_module_version": "1.2.0",
            "_view_name": "LayoutView",
            "align_content": null,
            "align_items": null,
            "align_self": null,
            "border": null,
            "bottom": null,
            "display": null,
            "flex": null,
            "flex_flow": null,
            "grid_area": null,
            "grid_auto_columns": null,
            "grid_auto_flow": null,
            "grid_auto_rows": null,
            "grid_column": null,
            "grid_gap": null,
            "grid_row": null,
            "grid_template_areas": null,
            "grid_template_columns": null,
            "grid_template_rows": null,
            "height": null,
            "justify_content": null,
            "justify_items": null,
            "left": null,
            "margin": null,
            "max_height": null,
            "max_width": null,
            "min_height": null,
            "min_width": null,
            "object_fit": null,
            "object_position": null,
            "order": null,
            "overflow": null,
            "overflow_x": null,
            "overflow_y": null,
            "padding": null,
            "right": null,
            "top": null,
            "visibility": null,
            "width": null
          }
        },
        "145593d25b86445e83d3a0bffc378812": {
          "model_module": "@jupyter-widgets/controls",
          "model_module_version": "1.5.0",
          "model_name": "HTMLModel",
          "state": {
            "_dom_classes": [],
            "_model_module": "@jupyter-widgets/controls",
            "_model_module_version": "1.5.0",
            "_model_name": "HTMLModel",
            "_view_count": null,
            "_view_module": "@jupyter-widgets/controls",
            "_view_module_version": "1.5.0",
            "_view_name": "HTMLView",
            "description": "",
            "description_tooltip": null,
            "layout": "IPY_MODEL_956e4cb2e1a442d8a12997c7ec6847e7",
            "placeholder": "​",
            "style": "IPY_MODEL_3c5020b82434470aa4f5e9b3e514f45f",
            "value": " 466k/466k [00:00&lt;00:00, 17.9MB/s]"
          }
        },
        "16ee7db247884e2ca7b72efde7ff6dd2": {
          "model_module": "@jupyter-widgets/controls",
          "model_module_version": "1.5.0",
          "model_name": "HBoxModel",
          "state": {
            "_dom_classes": [],
            "_model_module": "@jupyter-widgets/controls",
            "_model_module_version": "1.5.0",
            "_model_name": "HBoxModel",
            "_view_count": null,
            "_view_module": "@jupyter-widgets/controls",
            "_view_module_version": "1.5.0",
            "_view_name": "HBoxView",
            "box_style": "",
            "children": [
              "IPY_MODEL_8b23e99eac6746748403a1b5299d11f8",
              "IPY_MODEL_eb4209d737f7468db678cb85a3532df3",
              "IPY_MODEL_3af63b8104334588ae3c34794f1b9332"
            ],
            "layout": "IPY_MODEL_573f88b7674543ca845f440f90d84906"
          }
        },
        "1ab4ae591a974047a2ed5ef1a9c6c565": {
          "model_module": "@jupyter-widgets/base",
          "model_module_version": "1.2.0",
          "model_name": "LayoutModel",
          "state": {
            "_model_module": "@jupyter-widgets/base",
            "_model_module_version": "1.2.0",
            "_model_name": "LayoutModel",
            "_view_count": null,
            "_view_module": "@jupyter-widgets/base",
            "_view_module_version": "1.2.0",
            "_view_name": "LayoutView",
            "align_content": null,
            "align_items": null,
            "align_self": null,
            "border": null,
            "bottom": null,
            "display": null,
            "flex": null,
            "flex_flow": null,
            "grid_area": null,
            "grid_auto_columns": null,
            "grid_auto_flow": null,
            "grid_auto_rows": null,
            "grid_column": null,
            "grid_gap": null,
            "grid_row": null,
            "grid_template_areas": null,
            "grid_template_columns": null,
            "grid_template_rows": null,
            "height": null,
            "justify_content": null,
            "justify_items": null,
            "left": null,
            "margin": null,
            "max_height": null,
            "max_width": null,
            "min_height": null,
            "min_width": null,
            "object_fit": null,
            "object_position": null,
            "order": null,
            "overflow": null,
            "overflow_x": null,
            "overflow_y": null,
            "padding": null,
            "right": null,
            "top": null,
            "visibility": null,
            "width": null
          }
        },
        "1b8575c46b9f4f6095f71d52224940c4": {
          "model_module": "@jupyter-widgets/base",
          "model_module_version": "1.2.0",
          "model_name": "LayoutModel",
          "state": {
            "_model_module": "@jupyter-widgets/base",
            "_model_module_version": "1.2.0",
            "_model_name": "LayoutModel",
            "_view_count": null,
            "_view_module": "@jupyter-widgets/base",
            "_view_module_version": "1.2.0",
            "_view_name": "LayoutView",
            "align_content": null,
            "align_items": null,
            "align_self": null,
            "border": null,
            "bottom": null,
            "display": null,
            "flex": null,
            "flex_flow": null,
            "grid_area": null,
            "grid_auto_columns": null,
            "grid_auto_flow": null,
            "grid_auto_rows": null,
            "grid_column": null,
            "grid_gap": null,
            "grid_row": null,
            "grid_template_areas": null,
            "grid_template_columns": null,
            "grid_template_rows": null,
            "height": null,
            "justify_content": null,
            "justify_items": null,
            "left": null,
            "margin": null,
            "max_height": null,
            "max_width": null,
            "min_height": null,
            "min_width": null,
            "object_fit": null,
            "object_position": null,
            "order": null,
            "overflow": null,
            "overflow_x": null,
            "overflow_y": null,
            "padding": null,
            "right": null,
            "top": null,
            "visibility": null,
            "width": null
          }
        },
        "1c5b086db4054eb382432d26f3556a18": {
          "model_module": "@jupyter-widgets/controls",
          "model_module_version": "1.5.0",
          "model_name": "DescriptionStyleModel",
          "state": {
            "_model_module": "@jupyter-widgets/controls",
            "_model_module_version": "1.5.0",
            "_model_name": "DescriptionStyleModel",
            "_view_count": null,
            "_view_module": "@jupyter-widgets/base",
            "_view_module_version": "1.2.0",
            "_view_name": "StyleView",
            "description_width": ""
          }
        },
        "1cf5bbaf36d149c8acc4d81780b7a25a": {
          "model_module": "@jupyter-widgets/controls",
          "model_module_version": "1.5.0",
          "model_name": "FloatProgressModel",
          "state": {
            "_dom_classes": [],
            "_model_module": "@jupyter-widgets/controls",
            "_model_module_version": "1.5.0",
            "_model_name": "FloatProgressModel",
            "_view_count": null,
            "_view_module": "@jupyter-widgets/controls",
            "_view_module_version": "1.5.0",
            "_view_name": "ProgressView",
            "bar_style": "success",
            "description": "",
            "description_tooltip": null,
            "layout": "IPY_MODEL_d73877cd6b6549798920cf8a1d1e4930",
            "max": 363,
            "min": 0,
            "orientation": "horizontal",
            "style": "IPY_MODEL_fe73f327ad0f40478b259333b2946496",
            "value": 363
          }
        },
        "1d1b913821c544b3963dd3c425e6fe38": {
          "model_module": "@jupyter-widgets/controls",
          "model_module_version": "1.5.0",
          "model_name": "DescriptionStyleModel",
          "state": {
            "_model_module": "@jupyter-widgets/controls",
            "_model_module_version": "1.5.0",
            "_model_name": "DescriptionStyleModel",
            "_view_count": null,
            "_view_module": "@jupyter-widgets/base",
            "_view_module_version": "1.2.0",
            "_view_name": "StyleView",
            "description_width": ""
          }
        },
        "212abece866a4fd48994093927c3bccf": {
          "model_module": "@jupyter-widgets/base",
          "model_module_version": "1.2.0",
          "model_name": "LayoutModel",
          "state": {
            "_model_module": "@jupyter-widgets/base",
            "_model_module_version": "1.2.0",
            "_model_name": "LayoutModel",
            "_view_count": null,
            "_view_module": "@jupyter-widgets/base",
            "_view_module_version": "1.2.0",
            "_view_name": "LayoutView",
            "align_content": null,
            "align_items": null,
            "align_self": null,
            "border": null,
            "bottom": null,
            "display": null,
            "flex": null,
            "flex_flow": null,
            "grid_area": null,
            "grid_auto_columns": null,
            "grid_auto_flow": null,
            "grid_auto_rows": null,
            "grid_column": null,
            "grid_gap": null,
            "grid_row": null,
            "grid_template_areas": null,
            "grid_template_columns": null,
            "grid_template_rows": null,
            "height": null,
            "justify_content": null,
            "justify_items": null,
            "left": null,
            "margin": null,
            "max_height": null,
            "max_width": null,
            "min_height": null,
            "min_width": null,
            "object_fit": null,
            "object_position": null,
            "order": null,
            "overflow": null,
            "overflow_x": null,
            "overflow_y": null,
            "padding": null,
            "right": null,
            "top": null,
            "visibility": null,
            "width": null
          }
        },
        "23b7fa4c2b2544f0b3b17815a26f6091": {
          "model_module": "@jupyter-widgets/controls",
          "model_module_version": "1.5.0",
          "model_name": "HTMLModel",
          "state": {
            "_dom_classes": [],
            "_model_module": "@jupyter-widgets/controls",
            "_model_module_version": "1.5.0",
            "_model_name": "HTMLModel",
            "_view_count": null,
            "_view_module": "@jupyter-widgets/controls",
            "_view_module_version": "1.5.0",
            "_view_name": "HTMLView",
            "description": "",
            "description_tooltip": null,
            "layout": "IPY_MODEL_58816af8cf284fe88030d40d284279df",
            "placeholder": "​",
            "style": "IPY_MODEL_7d570138ba5545cfaca6540b6304c9bf",
            "value": "yolox_l0.05.onnx: 100%"
          }
        },
        "23f96467d3f04df1a761a0993ad4081a": {
          "model_module": "@jupyter-widgets/base",
          "model_module_version": "1.2.0",
          "model_name": "LayoutModel",
          "state": {
            "_model_module": "@jupyter-widgets/base",
            "_model_module_version": "1.2.0",
            "_model_name": "LayoutModel",
            "_view_count": null,
            "_view_module": "@jupyter-widgets/base",
            "_view_module_version": "1.2.0",
            "_view_name": "LayoutView",
            "align_content": null,
            "align_items": null,
            "align_self": null,
            "border": null,
            "bottom": null,
            "display": null,
            "flex": null,
            "flex_flow": null,
            "grid_area": null,
            "grid_auto_columns": null,
            "grid_auto_flow": null,
            "grid_auto_rows": null,
            "grid_column": null,
            "grid_gap": null,
            "grid_row": null,
            "grid_template_areas": null,
            "grid_template_columns": null,
            "grid_template_rows": null,
            "height": null,
            "justify_content": null,
            "justify_items": null,
            "left": null,
            "margin": null,
            "max_height": null,
            "max_width": null,
            "min_height": null,
            "min_width": null,
            "object_fit": null,
            "object_position": null,
            "order": null,
            "overflow": null,
            "overflow_x": null,
            "overflow_y": null,
            "padding": null,
            "right": null,
            "top": null,
            "visibility": null,
            "width": null
          }
        },
        "256083674de14d6e95ecbc5ec5b5351c": {
          "model_module": "@jupyter-widgets/controls",
          "model_module_version": "1.5.0",
          "model_name": "HTMLModel",
          "state": {
            "_dom_classes": [],
            "_model_module": "@jupyter-widgets/controls",
            "_model_module_version": "1.5.0",
            "_model_name": "HTMLModel",
            "_view_count": null,
            "_view_module": "@jupyter-widgets/controls",
            "_view_module_version": "1.5.0",
            "_view_name": "HTMLView",
            "description": "",
            "description_tooltip": null,
            "layout": "IPY_MODEL_fcc01ecbd0184b6095a7f4eb81d9c713",
            "placeholder": "​",
            "style": "IPY_MODEL_308c5af1869840edaa7cf73895a638c9",
            "value": " 349/349 [00:00&lt;00:00, 683B/s]"
          }
        },
        "2612f7706bdd40ffbdd425bf59b65e36": {
          "model_module": "@jupyter-widgets/controls",
          "model_module_version": "1.5.0",
          "model_name": "HTMLModel",
          "state": {
            "_dom_classes": [],
            "_model_module": "@jupyter-widgets/controls",
            "_model_module_version": "1.5.0",
            "_model_name": "HTMLModel",
            "_view_count": null,
            "_view_module": "@jupyter-widgets/controls",
            "_view_module_version": "1.5.0",
            "_view_name": "HTMLView",
            "description": "",
            "description_tooltip": null,
            "layout": "IPY_MODEL_a561c12e62684634a5c6f0803f237fb1",
            "placeholder": "​",
            "style": "IPY_MODEL_707f2485143b4750adf07f76b6d70d37",
            "value": "special_tokens_map.json: 100%"
          }
        },
        "2db523ba495b41b8a6a203ac30ea1194": {
          "model_module": "@jupyter-widgets/controls",
          "model_module_version": "1.5.0",
          "model_name": "DescriptionStyleModel",
          "state": {
            "_model_module": "@jupyter-widgets/controls",
            "_model_module_version": "1.5.0",
            "_model_name": "DescriptionStyleModel",
            "_view_count": null,
            "_view_module": "@jupyter-widgets/base",
            "_view_module_version": "1.2.0",
            "_view_name": "StyleView",
            "description_width": ""
          }
        },
        "2dec8bf736534adf9e47b913176dd098": {
          "model_module": "@jupyter-widgets/controls",
          "model_module_version": "1.5.0",
          "model_name": "HTMLModel",
          "state": {
            "_dom_classes": [],
            "_model_module": "@jupyter-widgets/controls",
            "_model_module_version": "1.5.0",
            "_model_name": "HTMLModel",
            "_view_count": null,
            "_view_module": "@jupyter-widgets/controls",
            "_view_module_version": "1.5.0",
            "_view_name": "HTMLView",
            "description": "",
            "description_tooltip": null,
            "layout": "IPY_MODEL_f14f65317d02475cbd2f63ec8661569c",
            "placeholder": "​",
            "style": "IPY_MODEL_6bb3a56ad43d4e58963ba8226b7e25bf",
            "value": "vocab.txt: 100%"
          }
        },
        "308c5af1869840edaa7cf73895a638c9": {
          "model_module": "@jupyter-widgets/controls",
          "model_module_version": "1.5.0",
          "model_name": "DescriptionStyleModel",
          "state": {
            "_model_module": "@jupyter-widgets/controls",
            "_model_module_version": "1.5.0",
            "_model_name": "DescriptionStyleModel",
            "_view_count": null,
            "_view_module": "@jupyter-widgets/base",
            "_view_module_version": "1.2.0",
            "_view_name": "StyleView",
            "description_width": ""
          }
        },
        "314c71cac18b48edb3402cae96e53f08": {
          "model_module": "@jupyter-widgets/base",
          "model_module_version": "1.2.0",
          "model_name": "LayoutModel",
          "state": {
            "_model_module": "@jupyter-widgets/base",
            "_model_module_version": "1.2.0",
            "_model_name": "LayoutModel",
            "_view_count": null,
            "_view_module": "@jupyter-widgets/base",
            "_view_module_version": "1.2.0",
            "_view_name": "LayoutView",
            "align_content": null,
            "align_items": null,
            "align_self": null,
            "border": null,
            "bottom": null,
            "display": null,
            "flex": null,
            "flex_flow": null,
            "grid_area": null,
            "grid_auto_columns": null,
            "grid_auto_flow": null,
            "grid_auto_rows": null,
            "grid_column": null,
            "grid_gap": null,
            "grid_row": null,
            "grid_template_areas": null,
            "grid_template_columns": null,
            "grid_template_rows": null,
            "height": null,
            "justify_content": null,
            "justify_items": null,
            "left": null,
            "margin": null,
            "max_height": null,
            "max_width": null,
            "min_height": null,
            "min_width": null,
            "object_fit": null,
            "object_position": null,
            "order": null,
            "overflow": null,
            "overflow_x": null,
            "overflow_y": null,
            "padding": null,
            "right": null,
            "top": null,
            "visibility": null,
            "width": null
          }
        },
        "31ec0af439774194b0eab41edfd0e6fe": {
          "model_module": "@jupyter-widgets/base",
          "model_module_version": "1.2.0",
          "model_name": "LayoutModel",
          "state": {
            "_model_module": "@jupyter-widgets/base",
            "_model_module_version": "1.2.0",
            "_model_name": "LayoutModel",
            "_view_count": null,
            "_view_module": "@jupyter-widgets/base",
            "_view_module_version": "1.2.0",
            "_view_name": "LayoutView",
            "align_content": null,
            "align_items": null,
            "align_self": null,
            "border": null,
            "bottom": null,
            "display": null,
            "flex": null,
            "flex_flow": null,
            "grid_area": null,
            "grid_auto_columns": null,
            "grid_auto_flow": null,
            "grid_auto_rows": null,
            "grid_column": null,
            "grid_gap": null,
            "grid_row": null,
            "grid_template_areas": null,
            "grid_template_columns": null,
            "grid_template_rows": null,
            "height": null,
            "justify_content": null,
            "justify_items": null,
            "left": null,
            "margin": null,
            "max_height": null,
            "max_width": null,
            "min_height": null,
            "min_width": null,
            "object_fit": null,
            "object_position": null,
            "order": null,
            "overflow": null,
            "overflow_x": null,
            "overflow_y": null,
            "padding": null,
            "right": null,
            "top": null,
            "visibility": null,
            "width": null
          }
        },
        "33bb508231774c0eb1a4b9ceba7299f4": {
          "model_module": "@jupyter-widgets/controls",
          "model_module_version": "1.5.0",
          "model_name": "ProgressStyleModel",
          "state": {
            "_model_module": "@jupyter-widgets/controls",
            "_model_module_version": "1.5.0",
            "_model_name": "ProgressStyleModel",
            "_view_count": null,
            "_view_module": "@jupyter-widgets/base",
            "_view_module_version": "1.2.0",
            "_view_name": "StyleView",
            "bar_color": null,
            "description_width": ""
          }
        },
        "33d42f27887e498db65e51e2837bc973": {
          "model_module": "@jupyter-widgets/controls",
          "model_module_version": "1.5.0",
          "model_name": "FloatProgressModel",
          "state": {
            "_dom_classes": [],
            "_model_module": "@jupyter-widgets/controls",
            "_model_module_version": "1.5.0",
            "_model_name": "FloatProgressModel",
            "_view_count": null,
            "_view_module": "@jupyter-widgets/controls",
            "_view_module_version": "1.5.0",
            "_view_name": "ProgressView",
            "bar_style": "success",
            "description": "",
            "description_tooltip": null,
            "layout": "IPY_MODEL_212abece866a4fd48994093927c3bccf",
            "max": 437971872,
            "min": 0,
            "orientation": "horizontal",
            "style": "IPY_MODEL_fba88004e8a645eb9e674e261ad87aae",
            "value": 437971872
          }
        },
        "3af63b8104334588ae3c34794f1b9332": {
          "model_module": "@jupyter-widgets/controls",
          "model_module_version": "1.5.0",
          "model_name": "HTMLModel",
          "state": {
            "_dom_classes": [],
            "_model_module": "@jupyter-widgets/controls",
            "_model_module_version": "1.5.0",
            "_model_name": "HTMLModel",
            "_view_count": null,
            "_view_module": "@jupyter-widgets/controls",
            "_view_module_version": "1.5.0",
            "_view_name": "HTMLView",
            "description": "",
            "description_tooltip": null,
            "layout": "IPY_MODEL_9905e2c58bb74a55b84e6b9759edbeee",
            "placeholder": "​",
            "style": "IPY_MODEL_ea9ec4c93b1c4cbba9439016ec6775ca",
            "value": " 10.6k/10.6k [00:00&lt;00:00, 500kB/s]"
          }
        },
        "3b93dd3772654d98ad9509b49859920e": {
          "model_module": "@jupyter-widgets/base",
          "model_module_version": "1.2.0",
          "model_name": "LayoutModel",
          "state": {
            "_model_module": "@jupyter-widgets/base",
            "_model_module_version": "1.2.0",
            "_model_name": "LayoutModel",
            "_view_count": null,
            "_view_module": "@jupyter-widgets/base",
            "_view_module_version": "1.2.0",
            "_view_name": "LayoutView",
            "align_content": null,
            "align_items": null,
            "align_self": null,
            "border": null,
            "bottom": null,
            "display": null,
            "flex": null,
            "flex_flow": null,
            "grid_area": null,
            "grid_auto_columns": null,
            "grid_auto_flow": null,
            "grid_auto_rows": null,
            "grid_column": null,
            "grid_gap": null,
            "grid_row": null,
            "grid_template_areas": null,
            "grid_template_columns": null,
            "grid_template_rows": null,
            "height": null,
            "justify_content": null,
            "justify_items": null,
            "left": null,
            "margin": null,
            "max_height": null,
            "max_width": null,
            "min_height": null,
            "min_width": null,
            "object_fit": null,
            "object_position": null,
            "order": null,
            "overflow": null,
            "overflow_x": null,
            "overflow_y": null,
            "padding": null,
            "right": null,
            "top": null,
            "visibility": null,
            "width": null
          }
        },
        "3c5020b82434470aa4f5e9b3e514f45f": {
          "model_module": "@jupyter-widgets/controls",
          "model_module_version": "1.5.0",
          "model_name": "DescriptionStyleModel",
          "state": {
            "_model_module": "@jupyter-widgets/controls",
            "_model_module_version": "1.5.0",
            "_model_name": "DescriptionStyleModel",
            "_view_count": null,
            "_view_module": "@jupyter-widgets/base",
            "_view_module_version": "1.2.0",
            "_view_name": "StyleView",
            "description_width": ""
          }
        },
        "4015041ac29a499f8d6c8eb7d3f5e3a1": {
          "model_module": "@jupyter-widgets/controls",
          "model_module_version": "1.5.0",
          "model_name": "HTMLModel",
          "state": {
            "_dom_classes": [],
            "_model_module": "@jupyter-widgets/controls",
            "_model_module_version": "1.5.0",
            "_model_name": "HTMLModel",
            "_view_count": null,
            "_view_module": "@jupyter-widgets/controls",
            "_view_module_version": "1.5.0",
            "_view_name": "HTMLView",
            "description": "",
            "description_tooltip": null,
            "layout": "IPY_MODEL_4d18665d71f64a9cbf87ecc855563ecf",
            "placeholder": "​",
            "style": "IPY_MODEL_61d6354064a94d619419b5f9cdb5ca78",
            "value": " 116/116 [00:00&lt;00:00, 5.57kB/s]"
          }
        },
        "46a3f8f4f79d4da997eb05df4cbf3296": {
          "model_module": "@jupyter-widgets/controls",
          "model_module_version": "1.5.0",
          "model_name": "FloatProgressModel",
          "state": {
            "_dom_classes": [],
            "_model_module": "@jupyter-widgets/controls",
            "_model_module_version": "1.5.0",
            "_model_name": "FloatProgressModel",
            "_view_count": null,
            "_view_module": "@jupyter-widgets/controls",
            "_view_module_version": "1.5.0",
            "_view_name": "ProgressView",
            "bar_style": "success",
            "description": "",
            "description_tooltip": null,
            "layout": "IPY_MODEL_98a578bd4b8c4a7a932470c8d5f7ebc5",
            "max": 216625723,
            "min": 0,
            "orientation": "horizontal",
            "style": "IPY_MODEL_b99f48d23b4e4a90a99a36d9216ffe44",
            "value": 216625723
          }
        },
        "4be60070589f47d4be86f908fdb2c208": {
          "model_module": "@jupyter-widgets/controls",
          "model_module_version": "1.5.0",
          "model_name": "HTMLModel",
          "state": {
            "_dom_classes": [],
            "_model_module": "@jupyter-widgets/controls",
            "_model_module_version": "1.5.0",
            "_model_name": "HTMLModel",
            "_view_count": null,
            "_view_module": "@jupyter-widgets/controls",
            "_view_module_version": "1.5.0",
            "_view_name": "HTMLView",
            "description": "",
            "description_tooltip": null,
            "layout": "IPY_MODEL_b1eba74f474f4ac28108341c8375d0e4",
            "placeholder": "​",
            "style": "IPY_MODEL_b7b462ba00404979a05afc619e19f1aa",
            "value": "tokenizer.json: 100%"
          }
        },
        "4d18665d71f64a9cbf87ecc855563ecf": {
          "model_module": "@jupyter-widgets/base",
          "model_module_version": "1.2.0",
          "model_name": "LayoutModel",
          "state": {
            "_model_module": "@jupyter-widgets/base",
            "_model_module_version": "1.2.0",
            "_model_name": "LayoutModel",
            "_view_count": null,
            "_view_module": "@jupyter-widgets/base",
            "_view_module_version": "1.2.0",
            "_view_name": "LayoutView",
            "align_content": null,
            "align_items": null,
            "align_self": null,
            "border": null,
            "bottom": null,
            "display": null,
            "flex": null,
            "flex_flow": null,
            "grid_area": null,
            "grid_auto_columns": null,
            "grid_auto_flow": null,
            "grid_auto_rows": null,
            "grid_column": null,
            "grid_gap": null,
            "grid_row": null,
            "grid_template_areas": null,
            "grid_template_columns": null,
            "grid_template_rows": null,
            "height": null,
            "justify_content": null,
            "justify_items": null,
            "left": null,
            "margin": null,
            "max_height": null,
            "max_width": null,
            "min_height": null,
            "min_width": null,
            "object_fit": null,
            "object_position": null,
            "order": null,
            "overflow": null,
            "overflow_x": null,
            "overflow_y": null,
            "padding": null,
            "right": null,
            "top": null,
            "visibility": null,
            "width": null
          }
        },
        "4fa56ac2a93546d0b55b36ad8bb3a24d": {
          "model_module": "@jupyter-widgets/controls",
          "model_module_version": "1.5.0",
          "model_name": "ProgressStyleModel",
          "state": {
            "_model_module": "@jupyter-widgets/controls",
            "_model_module_version": "1.5.0",
            "_model_name": "ProgressStyleModel",
            "_view_count": null,
            "_view_module": "@jupyter-widgets/base",
            "_view_module_version": "1.2.0",
            "_view_name": "StyleView",
            "bar_color": null,
            "description_width": ""
          }
        },
        "510eef9a75cf48ed811d893c18466e14": {
          "model_module": "@jupyter-widgets/controls",
          "model_module_version": "1.5.0",
          "model_name": "ProgressStyleModel",
          "state": {
            "_model_module": "@jupyter-widgets/controls",
            "_model_module_version": "1.5.0",
            "_model_name": "ProgressStyleModel",
            "_view_count": null,
            "_view_module": "@jupyter-widgets/base",
            "_view_module_version": "1.2.0",
            "_view_name": "StyleView",
            "bar_color": null,
            "description_width": ""
          }
        },
        "573f88b7674543ca845f440f90d84906": {
          "model_module": "@jupyter-widgets/base",
          "model_module_version": "1.2.0",
          "model_name": "LayoutModel",
          "state": {
            "_model_module": "@jupyter-widgets/base",
            "_model_module_version": "1.2.0",
            "_model_name": "LayoutModel",
            "_view_count": null,
            "_view_module": "@jupyter-widgets/base",
            "_view_module_version": "1.2.0",
            "_view_name": "LayoutView",
            "align_content": null,
            "align_items": null,
            "align_self": null,
            "border": null,
            "bottom": null,
            "display": null,
            "flex": null,
            "flex_flow": null,
            "grid_area": null,
            "grid_auto_columns": null,
            "grid_auto_flow": null,
            "grid_auto_rows": null,
            "grid_column": null,
            "grid_gap": null,
            "grid_row": null,
            "grid_template_areas": null,
            "grid_template_columns": null,
            "grid_template_rows": null,
            "height": null,
            "justify_content": null,
            "justify_items": null,
            "left": null,
            "margin": null,
            "max_height": null,
            "max_width": null,
            "min_height": null,
            "min_width": null,
            "object_fit": null,
            "object_position": null,
            "order": null,
            "overflow": null,
            "overflow_x": null,
            "overflow_y": null,
            "padding": null,
            "right": null,
            "top": null,
            "visibility": null,
            "width": null
          }
        },
        "579342ed25eb491ca8dfc9ba1578c4af": {
          "model_module": "@jupyter-widgets/base",
          "model_module_version": "1.2.0",
          "model_name": "LayoutModel",
          "state": {
            "_model_module": "@jupyter-widgets/base",
            "_model_module_version": "1.2.0",
            "_model_name": "LayoutModel",
            "_view_count": null,
            "_view_module": "@jupyter-widgets/base",
            "_view_module_version": "1.2.0",
            "_view_name": "LayoutView",
            "align_content": null,
            "align_items": null,
            "align_self": null,
            "border": null,
            "bottom": null,
            "display": null,
            "flex": null,
            "flex_flow": null,
            "grid_area": null,
            "grid_auto_columns": null,
            "grid_auto_flow": null,
            "grid_auto_rows": null,
            "grid_column": null,
            "grid_gap": null,
            "grid_row": null,
            "grid_template_areas": null,
            "grid_template_columns": null,
            "grid_template_rows": null,
            "height": null,
            "justify_content": null,
            "justify_items": null,
            "left": null,
            "margin": null,
            "max_height": null,
            "max_width": null,
            "min_height": null,
            "min_width": null,
            "object_fit": null,
            "object_position": null,
            "order": null,
            "overflow": null,
            "overflow_x": null,
            "overflow_y": null,
            "padding": null,
            "right": null,
            "top": null,
            "visibility": null,
            "width": null
          }
        },
        "58816af8cf284fe88030d40d284279df": {
          "model_module": "@jupyter-widgets/base",
          "model_module_version": "1.2.0",
          "model_name": "LayoutModel",
          "state": {
            "_model_module": "@jupyter-widgets/base",
            "_model_module_version": "1.2.0",
            "_model_name": "LayoutModel",
            "_view_count": null,
            "_view_module": "@jupyter-widgets/base",
            "_view_module_version": "1.2.0",
            "_view_name": "LayoutView",
            "align_content": null,
            "align_items": null,
            "align_self": null,
            "border": null,
            "bottom": null,
            "display": null,
            "flex": null,
            "flex_flow": null,
            "grid_area": null,
            "grid_auto_columns": null,
            "grid_auto_flow": null,
            "grid_auto_rows": null,
            "grid_column": null,
            "grid_gap": null,
            "grid_row": null,
            "grid_template_areas": null,
            "grid_template_columns": null,
            "grid_template_rows": null,
            "height": null,
            "justify_content": null,
            "justify_items": null,
            "left": null,
            "margin": null,
            "max_height": null,
            "max_width": null,
            "min_height": null,
            "min_width": null,
            "object_fit": null,
            "object_position": null,
            "order": null,
            "overflow": null,
            "overflow_x": null,
            "overflow_y": null,
            "padding": null,
            "right": null,
            "top": null,
            "visibility": null,
            "width": null
          }
        },
        "5964c2c98cf945028703bbfe9b8d9423": {
          "model_module": "@jupyter-widgets/controls",
          "model_module_version": "1.5.0",
          "model_name": "ProgressStyleModel",
          "state": {
            "_model_module": "@jupyter-widgets/controls",
            "_model_module_version": "1.5.0",
            "_model_name": "ProgressStyleModel",
            "_view_count": null,
            "_view_module": "@jupyter-widgets/base",
            "_view_module_version": "1.2.0",
            "_view_name": "StyleView",
            "bar_color": null,
            "description_width": ""
          }
        },
        "59b1c5fd65144827a4ee313598a28a72": {
          "model_module": "@jupyter-widgets/controls",
          "model_module_version": "1.5.0",
          "model_name": "HTMLModel",
          "state": {
            "_dom_classes": [],
            "_model_module": "@jupyter-widgets/controls",
            "_model_module_version": "1.5.0",
            "_model_name": "HTMLModel",
            "_view_count": null,
            "_view_module": "@jupyter-widgets/controls",
            "_view_module_version": "1.5.0",
            "_view_name": "HTMLView",
            "description": "",
            "description_tooltip": null,
            "layout": "IPY_MODEL_ad1d6809dda04c1b8d4dff7d455b4990",
            "placeholder": "​",
            "style": "IPY_MODEL_1d1b913821c544b3963dd3c425e6fe38",
            "value": " 363/363 [00:00&lt;00:00, 11.2kB/s]"
          }
        },
        "5bbe5d275c7e45849ff66a5f05e4977b": {
          "model_module": "@jupyter-widgets/controls",
          "model_module_version": "1.5.0",
          "model_name": "DescriptionStyleModel",
          "state": {
            "_model_module": "@jupyter-widgets/controls",
            "_model_module_version": "1.5.0",
            "_model_name": "DescriptionStyleModel",
            "_view_count": null,
            "_view_module": "@jupyter-widgets/base",
            "_view_module_version": "1.2.0",
            "_view_name": "StyleView",
            "description_width": ""
          }
        },
        "5bf18aa9681f43dd8cb3ad60c4dd65c0": {
          "model_module": "@jupyter-widgets/base",
          "model_module_version": "1.2.0",
          "model_name": "LayoutModel",
          "state": {
            "_model_module": "@jupyter-widgets/base",
            "_model_module_version": "1.2.0",
            "_model_name": "LayoutModel",
            "_view_count": null,
            "_view_module": "@jupyter-widgets/base",
            "_view_module_version": "1.2.0",
            "_view_name": "LayoutView",
            "align_content": null,
            "align_items": null,
            "align_self": null,
            "border": null,
            "bottom": null,
            "display": null,
            "flex": null,
            "flex_flow": null,
            "grid_area": null,
            "grid_auto_columns": null,
            "grid_auto_flow": null,
            "grid_auto_rows": null,
            "grid_column": null,
            "grid_gap": null,
            "grid_row": null,
            "grid_template_areas": null,
            "grid_template_columns": null,
            "grid_template_rows": null,
            "height": null,
            "justify_content": null,
            "justify_items": null,
            "left": null,
            "margin": null,
            "max_height": null,
            "max_width": null,
            "min_height": null,
            "min_width": null,
            "object_fit": null,
            "object_position": null,
            "order": null,
            "overflow": null,
            "overflow_x": null,
            "overflow_y": null,
            "padding": null,
            "right": null,
            "top": null,
            "visibility": null,
            "width": null
          }
        },
        "5e04dd7a3f2f4ad8887674e5419cf8d1": {
          "model_module": "@jupyter-widgets/controls",
          "model_module_version": "1.5.0",
          "model_name": "HTMLModel",
          "state": {
            "_dom_classes": [],
            "_model_module": "@jupyter-widgets/controls",
            "_model_module_version": "1.5.0",
            "_model_name": "HTMLModel",
            "_view_count": null,
            "_view_module": "@jupyter-widgets/controls",
            "_view_module_version": "1.5.0",
            "_view_name": "HTMLView",
            "description": "",
            "description_tooltip": null,
            "layout": "IPY_MODEL_cc9ceafefc6e483791d716733f97d256",
            "placeholder": "​",
            "style": "IPY_MODEL_2db523ba495b41b8a6a203ac30ea1194",
            "value": "config_sentence_transformers.json: 100%"
          }
        },
        "61d6354064a94d619419b5f9cdb5ca78": {
          "model_module": "@jupyter-widgets/controls",
          "model_module_version": "1.5.0",
          "model_name": "DescriptionStyleModel",
          "state": {
            "_model_module": "@jupyter-widgets/controls",
            "_model_module_version": "1.5.0",
            "_model_name": "DescriptionStyleModel",
            "_view_count": null,
            "_view_module": "@jupyter-widgets/base",
            "_view_module_version": "1.2.0",
            "_view_name": "StyleView",
            "description_width": ""
          }
        },
        "634afdb5530a4875b115b4a05ac59465": {
          "model_module": "@jupyter-widgets/base",
          "model_module_version": "1.2.0",
          "model_name": "LayoutModel",
          "state": {
            "_model_module": "@jupyter-widgets/base",
            "_model_module_version": "1.2.0",
            "_model_name": "LayoutModel",
            "_view_count": null,
            "_view_module": "@jupyter-widgets/base",
            "_view_module_version": "1.2.0",
            "_view_name": "LayoutView",
            "align_content": null,
            "align_items": null,
            "align_self": null,
            "border": null,
            "bottom": null,
            "display": null,
            "flex": null,
            "flex_flow": null,
            "grid_area": null,
            "grid_auto_columns": null,
            "grid_auto_flow": null,
            "grid_auto_rows": null,
            "grid_column": null,
            "grid_gap": null,
            "grid_row": null,
            "grid_template_areas": null,
            "grid_template_columns": null,
            "grid_template_rows": null,
            "height": null,
            "justify_content": null,
            "justify_items": null,
            "left": null,
            "margin": null,
            "max_height": null,
            "max_width": null,
            "min_height": null,
            "min_width": null,
            "object_fit": null,
            "object_position": null,
            "order": null,
            "overflow": null,
            "overflow_x": null,
            "overflow_y": null,
            "padding": null,
            "right": null,
            "top": null,
            "visibility": null,
            "width": null
          }
        },
        "63ce6a6d11fb41deb8cc05a319ce2eea": {
          "model_module": "@jupyter-widgets/base",
          "model_module_version": "1.2.0",
          "model_name": "LayoutModel",
          "state": {
            "_model_module": "@jupyter-widgets/base",
            "_model_module_version": "1.2.0",
            "_model_name": "LayoutModel",
            "_view_count": null,
            "_view_module": "@jupyter-widgets/base",
            "_view_module_version": "1.2.0",
            "_view_name": "LayoutView",
            "align_content": null,
            "align_items": null,
            "align_self": null,
            "border": null,
            "bottom": null,
            "display": null,
            "flex": null,
            "flex_flow": null,
            "grid_area": null,
            "grid_auto_columns": null,
            "grid_auto_flow": null,
            "grid_auto_rows": null,
            "grid_column": null,
            "grid_gap": null,
            "grid_row": null,
            "grid_template_areas": null,
            "grid_template_columns": null,
            "grid_template_rows": null,
            "height": null,
            "justify_content": null,
            "justify_items": null,
            "left": null,
            "margin": null,
            "max_height": null,
            "max_width": null,
            "min_height": null,
            "min_width": null,
            "object_fit": null,
            "object_position": null,
            "order": null,
            "overflow": null,
            "overflow_x": null,
            "overflow_y": null,
            "padding": null,
            "right": null,
            "top": null,
            "visibility": null,
            "width": null
          }
        },
        "6578fa56b3f640abb1ff47f32cd21553": {
          "model_module": "@jupyter-widgets/controls",
          "model_module_version": "1.5.0",
          "model_name": "DescriptionStyleModel",
          "state": {
            "_model_module": "@jupyter-widgets/controls",
            "_model_module_version": "1.5.0",
            "_model_name": "DescriptionStyleModel",
            "_view_count": null,
            "_view_module": "@jupyter-widgets/base",
            "_view_module_version": "1.2.0",
            "_view_name": "StyleView",
            "description_width": ""
          }
        },
        "6704c11438ba400a85102eaddad7fc95": {
          "model_module": "@jupyter-widgets/controls",
          "model_module_version": "1.5.0",
          "model_name": "HTMLModel",
          "state": {
            "_dom_classes": [],
            "_model_module": "@jupyter-widgets/controls",
            "_model_module_version": "1.5.0",
            "_model_name": "HTMLModel",
            "_view_count": null,
            "_view_module": "@jupyter-widgets/controls",
            "_view_module_version": "1.5.0",
            "_view_name": "HTMLView",
            "description": "",
            "description_tooltip": null,
            "layout": "IPY_MODEL_5bf18aa9681f43dd8cb3ad60c4dd65c0",
            "placeholder": "​",
            "style": "IPY_MODEL_1c5b086db4054eb382432d26f3556a18",
            "value": " 239/239 [00:00&lt;00:00, 8.26kB/s]"
          }
        },
        "680058ac44f346a3a5bebe3851e176f6": {
          "model_module": "@jupyter-widgets/controls",
          "model_module_version": "1.5.0",
          "model_name": "FloatProgressModel",
          "state": {
            "_dom_classes": [],
            "_model_module": "@jupyter-widgets/controls",
            "_model_module_version": "1.5.0",
            "_model_name": "FloatProgressModel",
            "_view_count": null,
            "_view_module": "@jupyter-widgets/controls",
            "_view_module_version": "1.5.0",
            "_view_name": "ProgressView",
            "bar_style": "success",
            "description": "",
            "description_tooltip": null,
            "layout": "IPY_MODEL_6de74d005bd54fcb906414efef808a33",
            "max": 349,
            "min": 0,
            "orientation": "horizontal",
            "style": "IPY_MODEL_510eef9a75cf48ed811d893c18466e14",
            "value": 349
          }
        },
        "69522ab1808a4997ba6fcc854894917a": {
          "model_module": "@jupyter-widgets/controls",
          "model_module_version": "1.5.0",
          "model_name": "HBoxModel",
          "state": {
            "_dom_classes": [],
            "_model_module": "@jupyter-widgets/controls",
            "_model_module_version": "1.5.0",
            "_model_name": "HBoxModel",
            "_view_count": null,
            "_view_module": "@jupyter-widgets/controls",
            "_view_module_version": "1.5.0",
            "_view_name": "HBoxView",
            "box_style": "",
            "children": [
              "IPY_MODEL_2612f7706bdd40ffbdd425bf59b65e36",
              "IPY_MODEL_b26f9a2a4ade41399e92b48d43e35f37",
              "IPY_MODEL_6704c11438ba400a85102eaddad7fc95"
            ],
            "layout": "IPY_MODEL_579342ed25eb491ca8dfc9ba1578c4af"
          }
        },
        "69c32839e8954765916e4127555d95ef": {
          "model_module": "@jupyter-widgets/base",
          "model_module_version": "1.2.0",
          "model_name": "LayoutModel",
          "state": {
            "_model_module": "@jupyter-widgets/base",
            "_model_module_version": "1.2.0",
            "_model_name": "LayoutModel",
            "_view_count": null,
            "_view_module": "@jupyter-widgets/base",
            "_view_module_version": "1.2.0",
            "_view_name": "LayoutView",
            "align_content": null,
            "align_items": null,
            "align_self": null,
            "border": null,
            "bottom": null,
            "display": null,
            "flex": null,
            "flex_flow": null,
            "grid_area": null,
            "grid_auto_columns": null,
            "grid_auto_flow": null,
            "grid_auto_rows": null,
            "grid_column": null,
            "grid_gap": null,
            "grid_row": null,
            "grid_template_areas": null,
            "grid_template_columns": null,
            "grid_template_rows": null,
            "height": null,
            "justify_content": null,
            "justify_items": null,
            "left": null,
            "margin": null,
            "max_height": null,
            "max_width": null,
            "min_height": null,
            "min_width": null,
            "object_fit": null,
            "object_position": null,
            "order": null,
            "overflow": null,
            "overflow_x": null,
            "overflow_y": null,
            "padding": null,
            "right": null,
            "top": null,
            "visibility": null,
            "width": null
          }
        },
        "69cf70e921644a7a906790274f9a0173": {
          "model_module": "@jupyter-widgets/controls",
          "model_module_version": "1.5.0",
          "model_name": "HTMLModel",
          "state": {
            "_dom_classes": [],
            "_model_module": "@jupyter-widgets/controls",
            "_model_module_version": "1.5.0",
            "_model_name": "HTMLModel",
            "_view_count": null,
            "_view_module": "@jupyter-widgets/controls",
            "_view_module_version": "1.5.0",
            "_view_name": "HTMLView",
            "description": "",
            "description_tooltip": null,
            "layout": "IPY_MODEL_ca91b099f2364419873827096087a90f",
            "placeholder": "​",
            "style": "IPY_MODEL_e003859c8256484d80722d684c08b9ec",
            "value": " 438M/438M [00:02&lt;00:00, 245MB/s]"
          }
        },
        "6bb3a56ad43d4e58963ba8226b7e25bf": {
          "model_module": "@jupyter-widgets/controls",
          "model_module_version": "1.5.0",
          "model_name": "DescriptionStyleModel",
          "state": {
            "_model_module": "@jupyter-widgets/controls",
            "_model_module_version": "1.5.0",
            "_model_name": "DescriptionStyleModel",
            "_view_count": null,
            "_view_module": "@jupyter-widgets/base",
            "_view_module_version": "1.2.0",
            "_view_name": "StyleView",
            "description_width": ""
          }
        },
        "6de74d005bd54fcb906414efef808a33": {
          "model_module": "@jupyter-widgets/base",
          "model_module_version": "1.2.0",
          "model_name": "LayoutModel",
          "state": {
            "_model_module": "@jupyter-widgets/base",
            "_model_module_version": "1.2.0",
            "_model_name": "LayoutModel",
            "_view_count": null,
            "_view_module": "@jupyter-widgets/base",
            "_view_module_version": "1.2.0",
            "_view_name": "LayoutView",
            "align_content": null,
            "align_items": null,
            "align_self": null,
            "border": null,
            "bottom": null,
            "display": null,
            "flex": null,
            "flex_flow": null,
            "grid_area": null,
            "grid_auto_columns": null,
            "grid_auto_flow": null,
            "grid_auto_rows": null,
            "grid_column": null,
            "grid_gap": null,
            "grid_row": null,
            "grid_template_areas": null,
            "grid_template_columns": null,
            "grid_template_rows": null,
            "height": null,
            "justify_content": null,
            "justify_items": null,
            "left": null,
            "margin": null,
            "max_height": null,
            "max_width": null,
            "min_height": null,
            "min_width": null,
            "object_fit": null,
            "object_position": null,
            "order": null,
            "overflow": null,
            "overflow_x": null,
            "overflow_y": null,
            "padding": null,
            "right": null,
            "top": null,
            "visibility": null,
            "width": null
          }
        },
        "6f368db130e649808b6a44a3c8815a99": {
          "model_module": "@jupyter-widgets/controls",
          "model_module_version": "1.5.0",
          "model_name": "DescriptionStyleModel",
          "state": {
            "_model_module": "@jupyter-widgets/controls",
            "_model_module_version": "1.5.0",
            "_model_name": "DescriptionStyleModel",
            "_view_count": null,
            "_view_module": "@jupyter-widgets/base",
            "_view_module_version": "1.2.0",
            "_view_name": "StyleView",
            "description_width": ""
          }
        },
        "7001f2b8ff3b4152a194e10d33379401": {
          "model_module": "@jupyter-widgets/base",
          "model_module_version": "1.2.0",
          "model_name": "LayoutModel",
          "state": {
            "_model_module": "@jupyter-widgets/base",
            "_model_module_version": "1.2.0",
            "_model_name": "LayoutModel",
            "_view_count": null,
            "_view_module": "@jupyter-widgets/base",
            "_view_module_version": "1.2.0",
            "_view_name": "LayoutView",
            "align_content": null,
            "align_items": null,
            "align_self": null,
            "border": null,
            "bottom": null,
            "display": null,
            "flex": null,
            "flex_flow": null,
            "grid_area": null,
            "grid_auto_columns": null,
            "grid_auto_flow": null,
            "grid_auto_rows": null,
            "grid_column": null,
            "grid_gap": null,
            "grid_row": null,
            "grid_template_areas": null,
            "grid_template_columns": null,
            "grid_template_rows": null,
            "height": null,
            "justify_content": null,
            "justify_items": null,
            "left": null,
            "margin": null,
            "max_height": null,
            "max_width": null,
            "min_height": null,
            "min_width": null,
            "object_fit": null,
            "object_position": null,
            "order": null,
            "overflow": null,
            "overflow_x": null,
            "overflow_y": null,
            "padding": null,
            "right": null,
            "top": null,
            "visibility": null,
            "width": null
          }
        },
        "707f2485143b4750adf07f76b6d70d37": {
          "model_module": "@jupyter-widgets/controls",
          "model_module_version": "1.5.0",
          "model_name": "DescriptionStyleModel",
          "state": {
            "_model_module": "@jupyter-widgets/controls",
            "_model_module_version": "1.5.0",
            "_model_name": "DescriptionStyleModel",
            "_view_count": null,
            "_view_module": "@jupyter-widgets/base",
            "_view_module_version": "1.2.0",
            "_view_name": "StyleView",
            "description_width": ""
          }
        },
        "73a2633cdb9b4d84b8ca5ebacebdb636": {
          "model_module": "@jupyter-widgets/base",
          "model_module_version": "1.2.0",
          "model_name": "LayoutModel",
          "state": {
            "_model_module": "@jupyter-widgets/base",
            "_model_module_version": "1.2.0",
            "_model_name": "LayoutModel",
            "_view_count": null,
            "_view_module": "@jupyter-widgets/base",
            "_view_module_version": "1.2.0",
            "_view_name": "LayoutView",
            "align_content": null,
            "align_items": null,
            "align_self": null,
            "border": null,
            "bottom": null,
            "display": null,
            "flex": null,
            "flex_flow": null,
            "grid_area": null,
            "grid_auto_columns": null,
            "grid_auto_flow": null,
            "grid_auto_rows": null,
            "grid_column": null,
            "grid_gap": null,
            "grid_row": null,
            "grid_template_areas": null,
            "grid_template_columns": null,
            "grid_template_rows": null,
            "height": null,
            "justify_content": null,
            "justify_items": null,
            "left": null,
            "margin": null,
            "max_height": null,
            "max_width": null,
            "min_height": null,
            "min_width": null,
            "object_fit": null,
            "object_position": null,
            "order": null,
            "overflow": null,
            "overflow_x": null,
            "overflow_y": null,
            "padding": null,
            "right": null,
            "top": null,
            "visibility": null,
            "width": null
          }
        },
        "7953eb7ed5144a9496488c4456c45042": {
          "model_module": "@jupyter-widgets/controls",
          "model_module_version": "1.5.0",
          "model_name": "HBoxModel",
          "state": {
            "_dom_classes": [],
            "_model_module": "@jupyter-widgets/controls",
            "_model_module_version": "1.5.0",
            "_model_name": "HBoxModel",
            "_view_count": null,
            "_view_module": "@jupyter-widgets/controls",
            "_view_module_version": "1.5.0",
            "_view_name": "HBoxView",
            "box_style": "",
            "children": [
              "IPY_MODEL_23b7fa4c2b2544f0b3b17815a26f6091",
              "IPY_MODEL_46a3f8f4f79d4da997eb05df4cbf3296",
              "IPY_MODEL_f3f8713c725144289c2a9877513e2b60"
            ],
            "layout": "IPY_MODEL_8148c526acbc45a1811ea5503f6a1962"
          }
        },
        "7ae96ad61e89461c8fb58e342e0c135c": {
          "model_module": "@jupyter-widgets/controls",
          "model_module_version": "1.5.0",
          "model_name": "HBoxModel",
          "state": {
            "_dom_classes": [],
            "_model_module": "@jupyter-widgets/controls",
            "_model_module_version": "1.5.0",
            "_model_name": "HBoxModel",
            "_view_count": null,
            "_view_module": "@jupyter-widgets/controls",
            "_view_module_version": "1.5.0",
            "_view_name": "HBoxView",
            "box_style": "",
            "children": [
              "IPY_MODEL_8e5f02e7412e45bf982c9e2a96be5d60",
              "IPY_MODEL_88d472e41c7849d2907b778e8b73f2b6",
              "IPY_MODEL_029ad1b0249d463695cd24d104003e0b"
            ],
            "layout": "IPY_MODEL_69c32839e8954765916e4127555d95ef"
          }
        },
        "7c30634c0be94c01b78b47144d40a29a": {
          "model_module": "@jupyter-widgets/base",
          "model_module_version": "1.2.0",
          "model_name": "LayoutModel",
          "state": {
            "_model_module": "@jupyter-widgets/base",
            "_model_module_version": "1.2.0",
            "_model_name": "LayoutModel",
            "_view_count": null,
            "_view_module": "@jupyter-widgets/base",
            "_view_module_version": "1.2.0",
            "_view_name": "LayoutView",
            "align_content": null,
            "align_items": null,
            "align_self": null,
            "border": null,
            "bottom": null,
            "display": null,
            "flex": null,
            "flex_flow": null,
            "grid_area": null,
            "grid_auto_columns": null,
            "grid_auto_flow": null,
            "grid_auto_rows": null,
            "grid_column": null,
            "grid_gap": null,
            "grid_row": null,
            "grid_template_areas": null,
            "grid_template_columns": null,
            "grid_template_rows": null,
            "height": null,
            "justify_content": null,
            "justify_items": null,
            "left": null,
            "margin": null,
            "max_height": null,
            "max_width": null,
            "min_height": null,
            "min_width": null,
            "object_fit": null,
            "object_position": null,
            "order": null,
            "overflow": null,
            "overflow_x": null,
            "overflow_y": null,
            "padding": null,
            "right": null,
            "top": null,
            "visibility": null,
            "width": null
          }
        },
        "7d570138ba5545cfaca6540b6304c9bf": {
          "model_module": "@jupyter-widgets/controls",
          "model_module_version": "1.5.0",
          "model_name": "DescriptionStyleModel",
          "state": {
            "_model_module": "@jupyter-widgets/controls",
            "_model_module_version": "1.5.0",
            "_model_name": "DescriptionStyleModel",
            "_view_count": null,
            "_view_module": "@jupyter-widgets/base",
            "_view_module_version": "1.2.0",
            "_view_name": "StyleView",
            "description_width": ""
          }
        },
        "7e98ffb3744944c98f7c0007cef4ccb6": {
          "model_module": "@jupyter-widgets/controls",
          "model_module_version": "1.5.0",
          "model_name": "FloatProgressModel",
          "state": {
            "_dom_classes": [],
            "_model_module": "@jupyter-widgets/controls",
            "_model_module_version": "1.5.0",
            "_model_name": "FloatProgressModel",
            "_view_count": null,
            "_view_module": "@jupyter-widgets/controls",
            "_view_module_version": "1.5.0",
            "_view_name": "ProgressView",
            "bar_style": "success",
            "description": "",
            "description_tooltip": null,
            "layout": "IPY_MODEL_f69731b22b0c4c8fa69c8095f698b875",
            "max": 116,
            "min": 0,
            "orientation": "horizontal",
            "style": "IPY_MODEL_ffd7db656869457a8e0251865e3824a1",
            "value": 116
          }
        },
        "8148c526acbc45a1811ea5503f6a1962": {
          "model_module": "@jupyter-widgets/base",
          "model_module_version": "1.2.0",
          "model_name": "LayoutModel",
          "state": {
            "_model_module": "@jupyter-widgets/base",
            "_model_module_version": "1.2.0",
            "_model_name": "LayoutModel",
            "_view_count": null,
            "_view_module": "@jupyter-widgets/base",
            "_view_module_version": "1.2.0",
            "_view_name": "LayoutView",
            "align_content": null,
            "align_items": null,
            "align_self": null,
            "border": null,
            "bottom": null,
            "display": null,
            "flex": null,
            "flex_flow": null,
            "grid_area": null,
            "grid_auto_columns": null,
            "grid_auto_flow": null,
            "grid_auto_rows": null,
            "grid_column": null,
            "grid_gap": null,
            "grid_row": null,
            "grid_template_areas": null,
            "grid_template_columns": null,
            "grid_template_rows": null,
            "height": null,
            "justify_content": null,
            "justify_items": null,
            "left": null,
            "margin": null,
            "max_height": null,
            "max_width": null,
            "min_height": null,
            "min_width": null,
            "object_fit": null,
            "object_position": null,
            "order": null,
            "overflow": null,
            "overflow_x": null,
            "overflow_y": null,
            "padding": null,
            "right": null,
            "top": null,
            "visibility": null,
            "width": null
          }
        },
        "87bbc1346e2d4ea991095a24c5e6bc0b": {
          "model_module": "@jupyter-widgets/controls",
          "model_module_version": "1.5.0",
          "model_name": "HTMLModel",
          "state": {
            "_dom_classes": [],
            "_model_module": "@jupyter-widgets/controls",
            "_model_module_version": "1.5.0",
            "_model_name": "HTMLModel",
            "_view_count": null,
            "_view_module": "@jupyter-widgets/controls",
            "_view_module_version": "1.5.0",
            "_view_name": "HTMLView",
            "description": "",
            "description_tooltip": null,
            "layout": "IPY_MODEL_94a3fc097cba4d15bc2e40e4a94b7002",
            "placeholder": "​",
            "style": "IPY_MODEL_e22abbcd1df64d31bb764a653bc2bb2c",
            "value": " 53.0/53.0 [00:00&lt;00:00, 2.71kB/s]"
          }
        },
        "88d472e41c7849d2907b778e8b73f2b6": {
          "model_module": "@jupyter-widgets/controls",
          "model_module_version": "1.5.0",
          "model_name": "FloatProgressModel",
          "state": {
            "_dom_classes": [],
            "_model_module": "@jupyter-widgets/controls",
            "_model_module_version": "1.5.0",
            "_model_name": "FloatProgressModel",
            "_view_count": null,
            "_view_module": "@jupyter-widgets/controls",
            "_view_module_version": "1.5.0",
            "_view_name": "ProgressView",
            "bar_style": "success",
            "description": "",
            "description_tooltip": null,
            "layout": "IPY_MODEL_136058d177b3473bafe0465d481fa629",
            "max": 190,
            "min": 0,
            "orientation": "horizontal",
            "style": "IPY_MODEL_bf3cc33327ef4e699b7cd76674e43c4d",
            "value": 190
          }
        },
        "8b23e99eac6746748403a1b5299d11f8": {
          "model_module": "@jupyter-widgets/controls",
          "model_module_version": "1.5.0",
          "model_name": "HTMLModel",
          "state": {
            "_dom_classes": [],
            "_model_module": "@jupyter-widgets/controls",
            "_model_module_version": "1.5.0",
            "_model_name": "HTMLModel",
            "_view_count": null,
            "_view_module": "@jupyter-widgets/controls",
            "_view_module_version": "1.5.0",
            "_view_name": "HTMLView",
            "description": "",
            "description_tooltip": null,
            "layout": "IPY_MODEL_9b05a6b499844b7c89b88aa456900f79",
            "placeholder": "​",
            "style": "IPY_MODEL_6f368db130e649808b6a44a3c8815a99",
            "value": "README.md: 100%"
          }
        },
        "8bbdf890119044d1bd5d0357c1fcccf3": {
          "model_module": "@jupyter-widgets/base",
          "model_module_version": "1.2.0",
          "model_name": "LayoutModel",
          "state": {
            "_model_module": "@jupyter-widgets/base",
            "_model_module_version": "1.2.0",
            "_model_name": "LayoutModel",
            "_view_count": null,
            "_view_module": "@jupyter-widgets/base",
            "_view_module_version": "1.2.0",
            "_view_name": "LayoutView",
            "align_content": null,
            "align_items": null,
            "align_self": null,
            "border": null,
            "bottom": null,
            "display": null,
            "flex": null,
            "flex_flow": null,
            "grid_area": null,
            "grid_auto_columns": null,
            "grid_auto_flow": null,
            "grid_auto_rows": null,
            "grid_column": null,
            "grid_gap": null,
            "grid_row": null,
            "grid_template_areas": null,
            "grid_template_columns": null,
            "grid_template_rows": null,
            "height": null,
            "justify_content": null,
            "justify_items": null,
            "left": null,
            "margin": null,
            "max_height": null,
            "max_width": null,
            "min_height": null,
            "min_width": null,
            "object_fit": null,
            "object_position": null,
            "order": null,
            "overflow": null,
            "overflow_x": null,
            "overflow_y": null,
            "padding": null,
            "right": null,
            "top": null,
            "visibility": null,
            "width": null
          }
        },
        "8c8c454032d74316b3ef3fda0493f2f8": {
          "model_module": "@jupyter-widgets/controls",
          "model_module_version": "1.5.0",
          "model_name": "ProgressStyleModel",
          "state": {
            "_model_module": "@jupyter-widgets/controls",
            "_model_module_version": "1.5.0",
            "_model_name": "ProgressStyleModel",
            "_view_count": null,
            "_view_module": "@jupyter-widgets/base",
            "_view_module_version": "1.2.0",
            "_view_name": "StyleView",
            "bar_color": null,
            "description_width": ""
          }
        },
        "8d46763ed2cc472dbc2cda409c26f01d": {
          "model_module": "@jupyter-widgets/base",
          "model_module_version": "1.2.0",
          "model_name": "LayoutModel",
          "state": {
            "_model_module": "@jupyter-widgets/base",
            "_model_module_version": "1.2.0",
            "_model_name": "LayoutModel",
            "_view_count": null,
            "_view_module": "@jupyter-widgets/base",
            "_view_module_version": "1.2.0",
            "_view_name": "LayoutView",
            "align_content": null,
            "align_items": null,
            "align_self": null,
            "border": null,
            "bottom": null,
            "display": null,
            "flex": null,
            "flex_flow": null,
            "grid_area": null,
            "grid_auto_columns": null,
            "grid_auto_flow": null,
            "grid_auto_rows": null,
            "grid_column": null,
            "grid_gap": null,
            "grid_row": null,
            "grid_template_areas": null,
            "grid_template_columns": null,
            "grid_template_rows": null,
            "height": null,
            "justify_content": null,
            "justify_items": null,
            "left": null,
            "margin": null,
            "max_height": null,
            "max_width": null,
            "min_height": null,
            "min_width": null,
            "object_fit": null,
            "object_position": null,
            "order": null,
            "overflow": null,
            "overflow_x": null,
            "overflow_y": null,
            "padding": null,
            "right": null,
            "top": null,
            "visibility": null,
            "width": null
          }
        },
        "8e5f02e7412e45bf982c9e2a96be5d60": {
          "model_module": "@jupyter-widgets/controls",
          "model_module_version": "1.5.0",
          "model_name": "HTMLModel",
          "state": {
            "_dom_classes": [],
            "_model_module": "@jupyter-widgets/controls",
            "_model_module_version": "1.5.0",
            "_model_name": "HTMLModel",
            "_view_count": null,
            "_view_module": "@jupyter-widgets/controls",
            "_view_module_version": "1.5.0",
            "_view_name": "HTMLView",
            "description": "",
            "description_tooltip": null,
            "layout": "IPY_MODEL_10025bd634484cffbe4899e60f991314",
            "placeholder": "​",
            "style": "IPY_MODEL_8f850680c1204d25860be8614ef5b6d6",
            "value": "1_Pooling/config.json: 100%"
          }
        },
        "8f850680c1204d25860be8614ef5b6d6": {
          "model_module": "@jupyter-widgets/controls",
          "model_module_version": "1.5.0",
          "model_name": "DescriptionStyleModel",
          "state": {
            "_model_module": "@jupyter-widgets/controls",
            "_model_module_version": "1.5.0",
            "_model_name": "DescriptionStyleModel",
            "_view_count": null,
            "_view_module": "@jupyter-widgets/base",
            "_view_module_version": "1.2.0",
            "_view_name": "StyleView",
            "description_width": ""
          }
        },
        "94a3fc097cba4d15bc2e40e4a94b7002": {
          "model_module": "@jupyter-widgets/base",
          "model_module_version": "1.2.0",
          "model_name": "LayoutModel",
          "state": {
            "_model_module": "@jupyter-widgets/base",
            "_model_module_version": "1.2.0",
            "_model_name": "LayoutModel",
            "_view_count": null,
            "_view_module": "@jupyter-widgets/base",
            "_view_module_version": "1.2.0",
            "_view_name": "LayoutView",
            "align_content": null,
            "align_items": null,
            "align_self": null,
            "border": null,
            "bottom": null,
            "display": null,
            "flex": null,
            "flex_flow": null,
            "grid_area": null,
            "grid_auto_columns": null,
            "grid_auto_flow": null,
            "grid_auto_rows": null,
            "grid_column": null,
            "grid_gap": null,
            "grid_row": null,
            "grid_template_areas": null,
            "grid_template_columns": null,
            "grid_template_rows": null,
            "height": null,
            "justify_content": null,
            "justify_items": null,
            "left": null,
            "margin": null,
            "max_height": null,
            "max_width": null,
            "min_height": null,
            "min_width": null,
            "object_fit": null,
            "object_position": null,
            "order": null,
            "overflow": null,
            "overflow_x": null,
            "overflow_y": null,
            "padding": null,
            "right": null,
            "top": null,
            "visibility": null,
            "width": null
          }
        },
        "956e4cb2e1a442d8a12997c7ec6847e7": {
          "model_module": "@jupyter-widgets/base",
          "model_module_version": "1.2.0",
          "model_name": "LayoutModel",
          "state": {
            "_model_module": "@jupyter-widgets/base",
            "_model_module_version": "1.2.0",
            "_model_name": "LayoutModel",
            "_view_count": null,
            "_view_module": "@jupyter-widgets/base",
            "_view_module_version": "1.2.0",
            "_view_name": "LayoutView",
            "align_content": null,
            "align_items": null,
            "align_self": null,
            "border": null,
            "bottom": null,
            "display": null,
            "flex": null,
            "flex_flow": null,
            "grid_area": null,
            "grid_auto_columns": null,
            "grid_auto_flow": null,
            "grid_auto_rows": null,
            "grid_column": null,
            "grid_gap": null,
            "grid_row": null,
            "grid_template_areas": null,
            "grid_template_columns": null,
            "grid_template_rows": null,
            "height": null,
            "justify_content": null,
            "justify_items": null,
            "left": null,
            "margin": null,
            "max_height": null,
            "max_width": null,
            "min_height": null,
            "min_width": null,
            "object_fit": null,
            "object_position": null,
            "order": null,
            "overflow": null,
            "overflow_x": null,
            "overflow_y": null,
            "padding": null,
            "right": null,
            "top": null,
            "visibility": null,
            "width": null
          }
        },
        "963d004fa30141fda681e077aad9638d": {
          "model_module": "@jupyter-widgets/controls",
          "model_module_version": "1.5.0",
          "model_name": "FloatProgressModel",
          "state": {
            "_dom_classes": [],
            "_model_module": "@jupyter-widgets/controls",
            "_model_module_version": "1.5.0",
            "_model_name": "FloatProgressModel",
            "_view_count": null,
            "_view_module": "@jupyter-widgets/controls",
            "_view_module_version": "1.5.0",
            "_view_name": "ProgressView",
            "bar_style": "success",
            "description": "",
            "description_tooltip": null,
            "layout": "IPY_MODEL_23f96467d3f04df1a761a0993ad4081a",
            "max": 53,
            "min": 0,
            "orientation": "horizontal",
            "style": "IPY_MODEL_4fa56ac2a93546d0b55b36ad8bb3a24d",
            "value": 53
          }
        },
        "98650a36be714e3a975a9df6847a373f": {
          "model_module": "@jupyter-widgets/controls",
          "model_module_version": "1.5.0",
          "model_name": "DescriptionStyleModel",
          "state": {
            "_model_module": "@jupyter-widgets/controls",
            "_model_module_version": "1.5.0",
            "_model_name": "DescriptionStyleModel",
            "_view_count": null,
            "_view_module": "@jupyter-widgets/base",
            "_view_module_version": "1.2.0",
            "_view_name": "StyleView",
            "description_width": ""
          }
        },
        "98a578bd4b8c4a7a932470c8d5f7ebc5": {
          "model_module": "@jupyter-widgets/base",
          "model_module_version": "1.2.0",
          "model_name": "LayoutModel",
          "state": {
            "_model_module": "@jupyter-widgets/base",
            "_model_module_version": "1.2.0",
            "_model_name": "LayoutModel",
            "_view_count": null,
            "_view_module": "@jupyter-widgets/base",
            "_view_module_version": "1.2.0",
            "_view_name": "LayoutView",
            "align_content": null,
            "align_items": null,
            "align_self": null,
            "border": null,
            "bottom": null,
            "display": null,
            "flex": null,
            "flex_flow": null,
            "grid_area": null,
            "grid_auto_columns": null,
            "grid_auto_flow": null,
            "grid_auto_rows": null,
            "grid_column": null,
            "grid_gap": null,
            "grid_row": null,
            "grid_template_areas": null,
            "grid_template_columns": null,
            "grid_template_rows": null,
            "height": null,
            "justify_content": null,
            "justify_items": null,
            "left": null,
            "margin": null,
            "max_height": null,
            "max_width": null,
            "min_height": null,
            "min_width": null,
            "object_fit": null,
            "object_position": null,
            "order": null,
            "overflow": null,
            "overflow_x": null,
            "overflow_y": null,
            "padding": null,
            "right": null,
            "top": null,
            "visibility": null,
            "width": null
          }
        },
        "9905e2c58bb74a55b84e6b9759edbeee": {
          "model_module": "@jupyter-widgets/base",
          "model_module_version": "1.2.0",
          "model_name": "LayoutModel",
          "state": {
            "_model_module": "@jupyter-widgets/base",
            "_model_module_version": "1.2.0",
            "_model_name": "LayoutModel",
            "_view_count": null,
            "_view_module": "@jupyter-widgets/base",
            "_view_module_version": "1.2.0",
            "_view_name": "LayoutView",
            "align_content": null,
            "align_items": null,
            "align_self": null,
            "border": null,
            "bottom": null,
            "display": null,
            "flex": null,
            "flex_flow": null,
            "grid_area": null,
            "grid_auto_columns": null,
            "grid_auto_flow": null,
            "grid_auto_rows": null,
            "grid_column": null,
            "grid_gap": null,
            "grid_row": null,
            "grid_template_areas": null,
            "grid_template_columns": null,
            "grid_template_rows": null,
            "height": null,
            "justify_content": null,
            "justify_items": null,
            "left": null,
            "margin": null,
            "max_height": null,
            "max_width": null,
            "min_height": null,
            "min_width": null,
            "object_fit": null,
            "object_position": null,
            "order": null,
            "overflow": null,
            "overflow_x": null,
            "overflow_y": null,
            "padding": null,
            "right": null,
            "top": null,
            "visibility": null,
            "width": null
          }
        },
        "9b05a6b499844b7c89b88aa456900f79": {
          "model_module": "@jupyter-widgets/base",
          "model_module_version": "1.2.0",
          "model_name": "LayoutModel",
          "state": {
            "_model_module": "@jupyter-widgets/base",
            "_model_module_version": "1.2.0",
            "_model_name": "LayoutModel",
            "_view_count": null,
            "_view_module": "@jupyter-widgets/base",
            "_view_module_version": "1.2.0",
            "_view_name": "LayoutView",
            "align_content": null,
            "align_items": null,
            "align_self": null,
            "border": null,
            "bottom": null,
            "display": null,
            "flex": null,
            "flex_flow": null,
            "grid_area": null,
            "grid_auto_columns": null,
            "grid_auto_flow": null,
            "grid_auto_rows": null,
            "grid_column": null,
            "grid_gap": null,
            "grid_row": null,
            "grid_template_areas": null,
            "grid_template_columns": null,
            "grid_template_rows": null,
            "height": null,
            "justify_content": null,
            "justify_items": null,
            "left": null,
            "margin": null,
            "max_height": null,
            "max_width": null,
            "min_height": null,
            "min_width": null,
            "object_fit": null,
            "object_position": null,
            "order": null,
            "overflow": null,
            "overflow_x": null,
            "overflow_y": null,
            "padding": null,
            "right": null,
            "top": null,
            "visibility": null,
            "width": null
          }
        },
        "9f408c9cf0324408b282b1a6e8fe8684": {
          "model_module": "@jupyter-widgets/base",
          "model_module_version": "1.2.0",
          "model_name": "LayoutModel",
          "state": {
            "_model_module": "@jupyter-widgets/base",
            "_model_module_version": "1.2.0",
            "_model_name": "LayoutModel",
            "_view_count": null,
            "_view_module": "@jupyter-widgets/base",
            "_view_module_version": "1.2.0",
            "_view_name": "LayoutView",
            "align_content": null,
            "align_items": null,
            "align_self": null,
            "border": null,
            "bottom": null,
            "display": null,
            "flex": null,
            "flex_flow": null,
            "grid_area": null,
            "grid_auto_columns": null,
            "grid_auto_flow": null,
            "grid_auto_rows": null,
            "grid_column": null,
            "grid_gap": null,
            "grid_row": null,
            "grid_template_areas": null,
            "grid_template_columns": null,
            "grid_template_rows": null,
            "height": null,
            "justify_content": null,
            "justify_items": null,
            "left": null,
            "margin": null,
            "max_height": null,
            "max_width": null,
            "min_height": null,
            "min_width": null,
            "object_fit": null,
            "object_position": null,
            "order": null,
            "overflow": null,
            "overflow_x": null,
            "overflow_y": null,
            "padding": null,
            "right": null,
            "top": null,
            "visibility": null,
            "width": null
          }
        },
        "9fafbdae9bce49b99bab7fb57f8ffec8": {
          "model_module": "@jupyter-widgets/controls",
          "model_module_version": "1.5.0",
          "model_name": "DescriptionStyleModel",
          "state": {
            "_model_module": "@jupyter-widgets/controls",
            "_model_module_version": "1.5.0",
            "_model_name": "DescriptionStyleModel",
            "_view_count": null,
            "_view_module": "@jupyter-widgets/base",
            "_view_module_version": "1.2.0",
            "_view_name": "StyleView",
            "description_width": ""
          }
        },
        "a561c12e62684634a5c6f0803f237fb1": {
          "model_module": "@jupyter-widgets/base",
          "model_module_version": "1.2.0",
          "model_name": "LayoutModel",
          "state": {
            "_model_module": "@jupyter-widgets/base",
            "_model_module_version": "1.2.0",
            "_model_name": "LayoutModel",
            "_view_count": null,
            "_view_module": "@jupyter-widgets/base",
            "_view_module_version": "1.2.0",
            "_view_name": "LayoutView",
            "align_content": null,
            "align_items": null,
            "align_self": null,
            "border": null,
            "bottom": null,
            "display": null,
            "flex": null,
            "flex_flow": null,
            "grid_area": null,
            "grid_auto_columns": null,
            "grid_auto_flow": null,
            "grid_auto_rows": null,
            "grid_column": null,
            "grid_gap": null,
            "grid_row": null,
            "grid_template_areas": null,
            "grid_template_columns": null,
            "grid_template_rows": null,
            "height": null,
            "justify_content": null,
            "justify_items": null,
            "left": null,
            "margin": null,
            "max_height": null,
            "max_width": null,
            "min_height": null,
            "min_width": null,
            "object_fit": null,
            "object_position": null,
            "order": null,
            "overflow": null,
            "overflow_x": null,
            "overflow_y": null,
            "padding": null,
            "right": null,
            "top": null,
            "visibility": null,
            "width": null
          }
        },
        "a5c9b64973b14e549cff34c7c559a23e": {
          "model_module": "@jupyter-widgets/base",
          "model_module_version": "1.2.0",
          "model_name": "LayoutModel",
          "state": {
            "_model_module": "@jupyter-widgets/base",
            "_model_module_version": "1.2.0",
            "_model_name": "LayoutModel",
            "_view_count": null,
            "_view_module": "@jupyter-widgets/base",
            "_view_module_version": "1.2.0",
            "_view_name": "LayoutView",
            "align_content": null,
            "align_items": null,
            "align_self": null,
            "border": null,
            "bottom": null,
            "display": null,
            "flex": null,
            "flex_flow": null,
            "grid_area": null,
            "grid_auto_columns": null,
            "grid_auto_flow": null,
            "grid_auto_rows": null,
            "grid_column": null,
            "grid_gap": null,
            "grid_row": null,
            "grid_template_areas": null,
            "grid_template_columns": null,
            "grid_template_rows": null,
            "height": null,
            "justify_content": null,
            "justify_items": null,
            "left": null,
            "margin": null,
            "max_height": null,
            "max_width": null,
            "min_height": null,
            "min_width": null,
            "object_fit": null,
            "object_position": null,
            "order": null,
            "overflow": null,
            "overflow_x": null,
            "overflow_y": null,
            "padding": null,
            "right": null,
            "top": null,
            "visibility": null,
            "width": null
          }
        },
        "a6b1cc82e283471da84ea934eb03265a": {
          "model_module": "@jupyter-widgets/base",
          "model_module_version": "1.2.0",
          "model_name": "LayoutModel",
          "state": {
            "_model_module": "@jupyter-widgets/base",
            "_model_module_version": "1.2.0",
            "_model_name": "LayoutModel",
            "_view_count": null,
            "_view_module": "@jupyter-widgets/base",
            "_view_module_version": "1.2.0",
            "_view_name": "LayoutView",
            "align_content": null,
            "align_items": null,
            "align_self": null,
            "border": null,
            "bottom": null,
            "display": null,
            "flex": null,
            "flex_flow": null,
            "grid_area": null,
            "grid_auto_columns": null,
            "grid_auto_flow": null,
            "grid_auto_rows": null,
            "grid_column": null,
            "grid_gap": null,
            "grid_row": null,
            "grid_template_areas": null,
            "grid_template_columns": null,
            "grid_template_rows": null,
            "height": null,
            "justify_content": null,
            "justify_items": null,
            "left": null,
            "margin": null,
            "max_height": null,
            "max_width": null,
            "min_height": null,
            "min_width": null,
            "object_fit": null,
            "object_position": null,
            "order": null,
            "overflow": null,
            "overflow_x": null,
            "overflow_y": null,
            "padding": null,
            "right": null,
            "top": null,
            "visibility": null,
            "width": null
          }
        },
        "ad1d6809dda04c1b8d4dff7d455b4990": {
          "model_module": "@jupyter-widgets/base",
          "model_module_version": "1.2.0",
          "model_name": "LayoutModel",
          "state": {
            "_model_module": "@jupyter-widgets/base",
            "_model_module_version": "1.2.0",
            "_model_name": "LayoutModel",
            "_view_count": null,
            "_view_module": "@jupyter-widgets/base",
            "_view_module_version": "1.2.0",
            "_view_name": "LayoutView",
            "align_content": null,
            "align_items": null,
            "align_self": null,
            "border": null,
            "bottom": null,
            "display": null,
            "flex": null,
            "flex_flow": null,
            "grid_area": null,
            "grid_auto_columns": null,
            "grid_auto_flow": null,
            "grid_auto_rows": null,
            "grid_column": null,
            "grid_gap": null,
            "grid_row": null,
            "grid_template_areas": null,
            "grid_template_columns": null,
            "grid_template_rows": null,
            "height": null,
            "justify_content": null,
            "justify_items": null,
            "left": null,
            "margin": null,
            "max_height": null,
            "max_width": null,
            "min_height": null,
            "min_width": null,
            "object_fit": null,
            "object_position": null,
            "order": null,
            "overflow": null,
            "overflow_x": null,
            "overflow_y": null,
            "padding": null,
            "right": null,
            "top": null,
            "visibility": null,
            "width": null
          }
        },
        "aff24fcd4de943c4bcd44a0f681aea7c": {
          "model_module": "@jupyter-widgets/controls",
          "model_module_version": "1.5.0",
          "model_name": "HBoxModel",
          "state": {
            "_dom_classes": [],
            "_model_module": "@jupyter-widgets/controls",
            "_model_module_version": "1.5.0",
            "_model_name": "HBoxModel",
            "_view_count": null,
            "_view_module": "@jupyter-widgets/controls",
            "_view_module_version": "1.5.0",
            "_view_name": "HBoxView",
            "box_style": "",
            "children": [
              "IPY_MODEL_d19dd8b1a44c49c4b6d2d5bf8c179629",
              "IPY_MODEL_963d004fa30141fda681e077aad9638d",
              "IPY_MODEL_87bbc1346e2d4ea991095a24c5e6bc0b"
            ],
            "layout": "IPY_MODEL_1ab4ae591a974047a2ed5ef1a9c6c565"
          }
        },
        "b1713354875241288ebf2aa0eec41653": {
          "model_module": "@jupyter-widgets/controls",
          "model_module_version": "1.5.0",
          "model_name": "ProgressStyleModel",
          "state": {
            "_model_module": "@jupyter-widgets/controls",
            "_model_module_version": "1.5.0",
            "_model_name": "ProgressStyleModel",
            "_view_count": null,
            "_view_module": "@jupyter-widgets/base",
            "_view_module_version": "1.2.0",
            "_view_name": "StyleView",
            "bar_color": null,
            "description_width": ""
          }
        },
        "b1eba74f474f4ac28108341c8375d0e4": {
          "model_module": "@jupyter-widgets/base",
          "model_module_version": "1.2.0",
          "model_name": "LayoutModel",
          "state": {
            "_model_module": "@jupyter-widgets/base",
            "_model_module_version": "1.2.0",
            "_model_name": "LayoutModel",
            "_view_count": null,
            "_view_module": "@jupyter-widgets/base",
            "_view_module_version": "1.2.0",
            "_view_name": "LayoutView",
            "align_content": null,
            "align_items": null,
            "align_self": null,
            "border": null,
            "bottom": null,
            "display": null,
            "flex": null,
            "flex_flow": null,
            "grid_area": null,
            "grid_auto_columns": null,
            "grid_auto_flow": null,
            "grid_auto_rows": null,
            "grid_column": null,
            "grid_gap": null,
            "grid_row": null,
            "grid_template_areas": null,
            "grid_template_columns": null,
            "grid_template_rows": null,
            "height": null,
            "justify_content": null,
            "justify_items": null,
            "left": null,
            "margin": null,
            "max_height": null,
            "max_width": null,
            "min_height": null,
            "min_width": null,
            "object_fit": null,
            "object_position": null,
            "order": null,
            "overflow": null,
            "overflow_x": null,
            "overflow_y": null,
            "padding": null,
            "right": null,
            "top": null,
            "visibility": null,
            "width": null
          }
        },
        "b2065c38df2e45b086e31beec572863f": {
          "model_module": "@jupyter-widgets/base",
          "model_module_version": "1.2.0",
          "model_name": "LayoutModel",
          "state": {
            "_model_module": "@jupyter-widgets/base",
            "_model_module_version": "1.2.0",
            "_model_name": "LayoutModel",
            "_view_count": null,
            "_view_module": "@jupyter-widgets/base",
            "_view_module_version": "1.2.0",
            "_view_name": "LayoutView",
            "align_content": null,
            "align_items": null,
            "align_self": null,
            "border": null,
            "bottom": null,
            "display": null,
            "flex": null,
            "flex_flow": null,
            "grid_area": null,
            "grid_auto_columns": null,
            "grid_auto_flow": null,
            "grid_auto_rows": null,
            "grid_column": null,
            "grid_gap": null,
            "grid_row": null,
            "grid_template_areas": null,
            "grid_template_columns": null,
            "grid_template_rows": null,
            "height": null,
            "justify_content": null,
            "justify_items": null,
            "left": null,
            "margin": null,
            "max_height": null,
            "max_width": null,
            "min_height": null,
            "min_width": null,
            "object_fit": null,
            "object_position": null,
            "order": null,
            "overflow": null,
            "overflow_x": null,
            "overflow_y": null,
            "padding": null,
            "right": null,
            "top": null,
            "visibility": null,
            "width": null
          }
        },
        "b26f9a2a4ade41399e92b48d43e35f37": {
          "model_module": "@jupyter-widgets/controls",
          "model_module_version": "1.5.0",
          "model_name": "FloatProgressModel",
          "state": {
            "_dom_classes": [],
            "_model_module": "@jupyter-widgets/controls",
            "_model_module_version": "1.5.0",
            "_model_name": "FloatProgressModel",
            "_view_count": null,
            "_view_module": "@jupyter-widgets/controls",
            "_view_module_version": "1.5.0",
            "_view_name": "ProgressView",
            "bar_style": "success",
            "description": "",
            "description_tooltip": null,
            "layout": "IPY_MODEL_3b93dd3772654d98ad9509b49859920e",
            "max": 239,
            "min": 0,
            "orientation": "horizontal",
            "style": "IPY_MODEL_8c8c454032d74316b3ef3fda0493f2f8",
            "value": 239
          }
        },
        "b7b462ba00404979a05afc619e19f1aa": {
          "model_module": "@jupyter-widgets/controls",
          "model_module_version": "1.5.0",
          "model_name": "DescriptionStyleModel",
          "state": {
            "_model_module": "@jupyter-widgets/controls",
            "_model_module_version": "1.5.0",
            "_model_name": "DescriptionStyleModel",
            "_view_count": null,
            "_view_module": "@jupyter-widgets/base",
            "_view_module_version": "1.2.0",
            "_view_name": "StyleView",
            "description_width": ""
          }
        },
        "b99f48d23b4e4a90a99a36d9216ffe44": {
          "model_module": "@jupyter-widgets/controls",
          "model_module_version": "1.5.0",
          "model_name": "ProgressStyleModel",
          "state": {
            "_model_module": "@jupyter-widgets/controls",
            "_model_module_version": "1.5.0",
            "_model_name": "ProgressStyleModel",
            "_view_count": null,
            "_view_module": "@jupyter-widgets/base",
            "_view_module_version": "1.2.0",
            "_view_name": "StyleView",
            "bar_color": null,
            "description_width": ""
          }
        },
        "b9a92668770d4a7182119ec29ce20bb8": {
          "model_module": "@jupyter-widgets/base",
          "model_module_version": "1.2.0",
          "model_name": "LayoutModel",
          "state": {
            "_model_module": "@jupyter-widgets/base",
            "_model_module_version": "1.2.0",
            "_model_name": "LayoutModel",
            "_view_count": null,
            "_view_module": "@jupyter-widgets/base",
            "_view_module_version": "1.2.0",
            "_view_name": "LayoutView",
            "align_content": null,
            "align_items": null,
            "align_self": null,
            "border": null,
            "bottom": null,
            "display": null,
            "flex": null,
            "flex_flow": null,
            "grid_area": null,
            "grid_auto_columns": null,
            "grid_auto_flow": null,
            "grid_auto_rows": null,
            "grid_column": null,
            "grid_gap": null,
            "grid_row": null,
            "grid_template_areas": null,
            "grid_template_columns": null,
            "grid_template_rows": null,
            "height": null,
            "justify_content": null,
            "justify_items": null,
            "left": null,
            "margin": null,
            "max_height": null,
            "max_width": null,
            "min_height": null,
            "min_width": null,
            "object_fit": null,
            "object_position": null,
            "order": null,
            "overflow": null,
            "overflow_x": null,
            "overflow_y": null,
            "padding": null,
            "right": null,
            "top": null,
            "visibility": null,
            "width": null
          }
        },
        "bf3cc33327ef4e699b7cd76674e43c4d": {
          "model_module": "@jupyter-widgets/controls",
          "model_module_version": "1.5.0",
          "model_name": "ProgressStyleModel",
          "state": {
            "_model_module": "@jupyter-widgets/controls",
            "_model_module_version": "1.5.0",
            "_model_name": "ProgressStyleModel",
            "_view_count": null,
            "_view_module": "@jupyter-widgets/base",
            "_view_module_version": "1.2.0",
            "_view_name": "StyleView",
            "bar_color": null,
            "description_width": ""
          }
        },
        "c016b6226fc34107a98194c5102199f2": {
          "model_module": "@jupyter-widgets/controls",
          "model_module_version": "1.5.0",
          "model_name": "DescriptionStyleModel",
          "state": {
            "_model_module": "@jupyter-widgets/controls",
            "_model_module_version": "1.5.0",
            "_model_name": "DescriptionStyleModel",
            "_view_count": null,
            "_view_module": "@jupyter-widgets/base",
            "_view_module_version": "1.2.0",
            "_view_name": "StyleView",
            "description_width": ""
          }
        },
        "c238d3e4447e4b07b4ef4cc50ce83614": {
          "model_module": "@jupyter-widgets/controls",
          "model_module_version": "1.5.0",
          "model_name": "HTMLModel",
          "state": {
            "_dom_classes": [],
            "_model_module": "@jupyter-widgets/controls",
            "_model_module_version": "1.5.0",
            "_model_name": "HTMLModel",
            "_view_count": null,
            "_view_module": "@jupyter-widgets/controls",
            "_view_module_version": "1.5.0",
            "_view_name": "HTMLView",
            "description": "",
            "description_tooltip": null,
            "layout": "IPY_MODEL_c2737422c3f744d895b86c465bfe3c9d",
            "placeholder": "​",
            "style": "IPY_MODEL_d708dd5a5f674ee591ceb6af2776f6fd",
            "value": " 232k/232k [00:00&lt;00:00, 7.99MB/s]"
          }
        },
        "c2737422c3f744d895b86c465bfe3c9d": {
          "model_module": "@jupyter-widgets/base",
          "model_module_version": "1.2.0",
          "model_name": "LayoutModel",
          "state": {
            "_model_module": "@jupyter-widgets/base",
            "_model_module_version": "1.2.0",
            "_model_name": "LayoutModel",
            "_view_count": null,
            "_view_module": "@jupyter-widgets/base",
            "_view_module_version": "1.2.0",
            "_view_name": "LayoutView",
            "align_content": null,
            "align_items": null,
            "align_self": null,
            "border": null,
            "bottom": null,
            "display": null,
            "flex": null,
            "flex_flow": null,
            "grid_area": null,
            "grid_auto_columns": null,
            "grid_auto_flow": null,
            "grid_auto_rows": null,
            "grid_column": null,
            "grid_gap": null,
            "grid_row": null,
            "grid_template_areas": null,
            "grid_template_columns": null,
            "grid_template_rows": null,
            "height": null,
            "justify_content": null,
            "justify_items": null,
            "left": null,
            "margin": null,
            "max_height": null,
            "max_width": null,
            "min_height": null,
            "min_width": null,
            "object_fit": null,
            "object_position": null,
            "order": null,
            "overflow": null,
            "overflow_x": null,
            "overflow_y": null,
            "padding": null,
            "right": null,
            "top": null,
            "visibility": null,
            "width": null
          }
        },
        "c51064697c924405a314651c840e05a5": {
          "model_module": "@jupyter-widgets/controls",
          "model_module_version": "1.5.0",
          "model_name": "HTMLModel",
          "state": {
            "_dom_classes": [],
            "_model_module": "@jupyter-widgets/controls",
            "_model_module_version": "1.5.0",
            "_model_name": "HTMLModel",
            "_view_count": null,
            "_view_module": "@jupyter-widgets/controls",
            "_view_module_version": "1.5.0",
            "_view_name": "HTMLView",
            "description": "",
            "description_tooltip": null,
            "layout": "IPY_MODEL_ebbbd8d7eef441e1851795be63ae5c62",
            "placeholder": "​",
            "style": "IPY_MODEL_c79cdb44b614452790debf70a43ecf9d",
            "value": "config.json: 100%"
          }
        },
        "c69bd30c89ea4821bf725abe4ccc2b6b": {
          "model_module": "@jupyter-widgets/base",
          "model_module_version": "1.2.0",
          "model_name": "LayoutModel",
          "state": {
            "_model_module": "@jupyter-widgets/base",
            "_model_module_version": "1.2.0",
            "_model_name": "LayoutModel",
            "_view_count": null,
            "_view_module": "@jupyter-widgets/base",
            "_view_module_version": "1.2.0",
            "_view_name": "LayoutView",
            "align_content": null,
            "align_items": null,
            "align_self": null,
            "border": null,
            "bottom": null,
            "display": null,
            "flex": null,
            "flex_flow": null,
            "grid_area": null,
            "grid_auto_columns": null,
            "grid_auto_flow": null,
            "grid_auto_rows": null,
            "grid_column": null,
            "grid_gap": null,
            "grid_row": null,
            "grid_template_areas": null,
            "grid_template_columns": null,
            "grid_template_rows": null,
            "height": null,
            "justify_content": null,
            "justify_items": null,
            "left": null,
            "margin": null,
            "max_height": null,
            "max_width": null,
            "min_height": null,
            "min_width": null,
            "object_fit": null,
            "object_position": null,
            "order": null,
            "overflow": null,
            "overflow_x": null,
            "overflow_y": null,
            "padding": null,
            "right": null,
            "top": null,
            "visibility": null,
            "width": null
          }
        },
        "c6e3cfabe0264dd3999dbda25d0c2e38": {
          "model_module": "@jupyter-widgets/controls",
          "model_module_version": "1.5.0",
          "model_name": "HBoxModel",
          "state": {
            "_dom_classes": [],
            "_model_module": "@jupyter-widgets/controls",
            "_model_module_version": "1.5.0",
            "_model_name": "HBoxModel",
            "_view_count": null,
            "_view_module": "@jupyter-widgets/controls",
            "_view_module_version": "1.5.0",
            "_view_name": "HBoxView",
            "box_style": "",
            "children": [
              "IPY_MODEL_0fc040b13a1d448cac2d20bef9ce1a99",
              "IPY_MODEL_680058ac44f346a3a5bebe3851e176f6",
              "IPY_MODEL_256083674de14d6e95ecbc5ec5b5351c"
            ],
            "layout": "IPY_MODEL_b9a92668770d4a7182119ec29ce20bb8"
          }
        },
        "c79cdb44b614452790debf70a43ecf9d": {
          "model_module": "@jupyter-widgets/controls",
          "model_module_version": "1.5.0",
          "model_name": "DescriptionStyleModel",
          "state": {
            "_model_module": "@jupyter-widgets/controls",
            "_model_module_version": "1.5.0",
            "_model_name": "DescriptionStyleModel",
            "_view_count": null,
            "_view_module": "@jupyter-widgets/base",
            "_view_module_version": "1.2.0",
            "_view_name": "StyleView",
            "description_width": ""
          }
        },
        "c8ec429253644737ad73ed644b751738": {
          "model_module": "@jupyter-widgets/controls",
          "model_module_version": "1.5.0",
          "model_name": "HTMLModel",
          "state": {
            "_dom_classes": [],
            "_model_module": "@jupyter-widgets/controls",
            "_model_module_version": "1.5.0",
            "_model_name": "HTMLModel",
            "_view_count": null,
            "_view_module": "@jupyter-widgets/controls",
            "_view_module_version": "1.5.0",
            "_view_name": "HTMLView",
            "description": "",
            "description_tooltip": null,
            "layout": "IPY_MODEL_8d46763ed2cc472dbc2cda409c26f01d",
            "placeholder": "​",
            "style": "IPY_MODEL_fd8b2287b848444aa20cb60efb491589",
            "value": "tokenizer_config.json: 100%"
          }
        },
        "ca91b099f2364419873827096087a90f": {
          "model_module": "@jupyter-widgets/base",
          "model_module_version": "1.2.0",
          "model_name": "LayoutModel",
          "state": {
            "_model_module": "@jupyter-widgets/base",
            "_model_module_version": "1.2.0",
            "_model_name": "LayoutModel",
            "_view_count": null,
            "_view_module": "@jupyter-widgets/base",
            "_view_module_version": "1.2.0",
            "_view_name": "LayoutView",
            "align_content": null,
            "align_items": null,
            "align_self": null,
            "border": null,
            "bottom": null,
            "display": null,
            "flex": null,
            "flex_flow": null,
            "grid_area": null,
            "grid_auto_columns": null,
            "grid_auto_flow": null,
            "grid_auto_rows": null,
            "grid_column": null,
            "grid_gap": null,
            "grid_row": null,
            "grid_template_areas": null,
            "grid_template_columns": null,
            "grid_template_rows": null,
            "height": null,
            "justify_content": null,
            "justify_items": null,
            "left": null,
            "margin": null,
            "max_height": null,
            "max_width": null,
            "min_height": null,
            "min_width": null,
            "object_fit": null,
            "object_position": null,
            "order": null,
            "overflow": null,
            "overflow_x": null,
            "overflow_y": null,
            "padding": null,
            "right": null,
            "top": null,
            "visibility": null,
            "width": null
          }
        },
        "cc9ceafefc6e483791d716733f97d256": {
          "model_module": "@jupyter-widgets/base",
          "model_module_version": "1.2.0",
          "model_name": "LayoutModel",
          "state": {
            "_model_module": "@jupyter-widgets/base",
            "_model_module_version": "1.2.0",
            "_model_name": "LayoutModel",
            "_view_count": null,
            "_view_module": "@jupyter-widgets/base",
            "_view_module_version": "1.2.0",
            "_view_name": "LayoutView",
            "align_content": null,
            "align_items": null,
            "align_self": null,
            "border": null,
            "bottom": null,
            "display": null,
            "flex": null,
            "flex_flow": null,
            "grid_area": null,
            "grid_auto_columns": null,
            "grid_auto_flow": null,
            "grid_auto_rows": null,
            "grid_column": null,
            "grid_gap": null,
            "grid_row": null,
            "grid_template_areas": null,
            "grid_template_columns": null,
            "grid_template_rows": null,
            "height": null,
            "justify_content": null,
            "justify_items": null,
            "left": null,
            "margin": null,
            "max_height": null,
            "max_width": null,
            "min_height": null,
            "min_width": null,
            "object_fit": null,
            "object_position": null,
            "order": null,
            "overflow": null,
            "overflow_x": null,
            "overflow_y": null,
            "padding": null,
            "right": null,
            "top": null,
            "visibility": null,
            "width": null
          }
        },
        "d0991b1e202f418da4fd144f64763ce4": {
          "model_module": "@jupyter-widgets/controls",
          "model_module_version": "1.5.0",
          "model_name": "HBoxModel",
          "state": {
            "_dom_classes": [],
            "_model_module": "@jupyter-widgets/controls",
            "_model_module_version": "1.5.0",
            "_model_name": "HBoxModel",
            "_view_count": null,
            "_view_module": "@jupyter-widgets/controls",
            "_view_module_version": "1.5.0",
            "_view_name": "HBoxView",
            "box_style": "",
            "children": [
              "IPY_MODEL_c51064697c924405a314651c840e05a5",
              "IPY_MODEL_d7572245f9c74c8ca9782a7ac4243d1c",
              "IPY_MODEL_ea3b0d18c9d84c7989461081bf9f5eeb"
            ],
            "layout": "IPY_MODEL_00921c7c31dc43f6bd21f194b3fa16c9"
          }
        },
        "d09b7c8ef366481e833738c009d8f338": {
          "model_module": "@jupyter-widgets/controls",
          "model_module_version": "1.5.0",
          "model_name": "HTMLModel",
          "state": {
            "_dom_classes": [],
            "_model_module": "@jupyter-widgets/controls",
            "_model_module_version": "1.5.0",
            "_model_name": "HTMLModel",
            "_view_count": null,
            "_view_module": "@jupyter-widgets/controls",
            "_view_module_version": "1.5.0",
            "_view_name": "HTMLView",
            "description": "",
            "description_tooltip": null,
            "layout": "IPY_MODEL_7001f2b8ff3b4152a194e10d33379401",
            "placeholder": "​",
            "style": "IPY_MODEL_5bbe5d275c7e45849ff66a5f05e4977b",
            "value": "model.safetensors: 100%"
          }
        },
        "d19dd8b1a44c49c4b6d2d5bf8c179629": {
          "model_module": "@jupyter-widgets/controls",
          "model_module_version": "1.5.0",
          "model_name": "HTMLModel",
          "state": {
            "_dom_classes": [],
            "_model_module": "@jupyter-widgets/controls",
            "_model_module_version": "1.5.0",
            "_model_name": "HTMLModel",
            "_view_count": null,
            "_view_module": "@jupyter-widgets/controls",
            "_view_module_version": "1.5.0",
            "_view_name": "HTMLView",
            "description": "",
            "description_tooltip": null,
            "layout": "IPY_MODEL_7c30634c0be94c01b78b47144d40a29a",
            "placeholder": "​",
            "style": "IPY_MODEL_98650a36be714e3a975a9df6847a373f",
            "value": "sentence_bert_config.json: 100%"
          }
        },
        "d1e082888dbb4b18a6227682c7131d65": {
          "model_module": "@jupyter-widgets/controls",
          "model_module_version": "1.5.0",
          "model_name": "HBoxModel",
          "state": {
            "_dom_classes": [],
            "_model_module": "@jupyter-widgets/controls",
            "_model_module_version": "1.5.0",
            "_model_name": "HBoxModel",
            "_view_count": null,
            "_view_module": "@jupyter-widgets/controls",
            "_view_module_version": "1.5.0",
            "_view_name": "HBoxView",
            "box_style": "",
            "children": [
              "IPY_MODEL_5e04dd7a3f2f4ad8887674e5419cf8d1",
              "IPY_MODEL_7e98ffb3744944c98f7c0007cef4ccb6",
              "IPY_MODEL_4015041ac29a499f8d6c8eb7d3f5e3a1"
            ],
            "layout": "IPY_MODEL_73a2633cdb9b4d84b8ca5ebacebdb636"
          }
        },
        "d386c001f21c48d1b5f4603b407138e0": {
          "model_module": "@jupyter-widgets/controls",
          "model_module_version": "1.5.0",
          "model_name": "DescriptionStyleModel",
          "state": {
            "_model_module": "@jupyter-widgets/controls",
            "_model_module_version": "1.5.0",
            "_model_name": "DescriptionStyleModel",
            "_view_count": null,
            "_view_module": "@jupyter-widgets/base",
            "_view_module_version": "1.2.0",
            "_view_name": "StyleView",
            "description_width": ""
          }
        },
        "d708dd5a5f674ee591ceb6af2776f6fd": {
          "model_module": "@jupyter-widgets/controls",
          "model_module_version": "1.5.0",
          "model_name": "DescriptionStyleModel",
          "state": {
            "_model_module": "@jupyter-widgets/controls",
            "_model_module_version": "1.5.0",
            "_model_name": "DescriptionStyleModel",
            "_view_count": null,
            "_view_module": "@jupyter-widgets/base",
            "_view_module_version": "1.2.0",
            "_view_name": "StyleView",
            "description_width": ""
          }
        },
        "d73877cd6b6549798920cf8a1d1e4930": {
          "model_module": "@jupyter-widgets/base",
          "model_module_version": "1.2.0",
          "model_name": "LayoutModel",
          "state": {
            "_model_module": "@jupyter-widgets/base",
            "_model_module_version": "1.2.0",
            "_model_name": "LayoutModel",
            "_view_count": null,
            "_view_module": "@jupyter-widgets/base",
            "_view_module_version": "1.2.0",
            "_view_name": "LayoutView",
            "align_content": null,
            "align_items": null,
            "align_self": null,
            "border": null,
            "bottom": null,
            "display": null,
            "flex": null,
            "flex_flow": null,
            "grid_area": null,
            "grid_auto_columns": null,
            "grid_auto_flow": null,
            "grid_auto_rows": null,
            "grid_column": null,
            "grid_gap": null,
            "grid_row": null,
            "grid_template_areas": null,
            "grid_template_columns": null,
            "grid_template_rows": null,
            "height": null,
            "justify_content": null,
            "justify_items": null,
            "left": null,
            "margin": null,
            "max_height": null,
            "max_width": null,
            "min_height": null,
            "min_width": null,
            "object_fit": null,
            "object_position": null,
            "order": null,
            "overflow": null,
            "overflow_x": null,
            "overflow_y": null,
            "padding": null,
            "right": null,
            "top": null,
            "visibility": null,
            "width": null
          }
        },
        "d7572245f9c74c8ca9782a7ac4243d1c": {
          "model_module": "@jupyter-widgets/controls",
          "model_module_version": "1.5.0",
          "model_name": "FloatProgressModel",
          "state": {
            "_dom_classes": [],
            "_model_module": "@jupyter-widgets/controls",
            "_model_module_version": "1.5.0",
            "_model_name": "FloatProgressModel",
            "_view_count": null,
            "_view_module": "@jupyter-widgets/controls",
            "_view_module_version": "1.5.0",
            "_view_name": "ProgressView",
            "bar_style": "success",
            "description": "",
            "description_tooltip": null,
            "layout": "IPY_MODEL_314c71cac18b48edb3402cae96e53f08",
            "max": 571,
            "min": 0,
            "orientation": "horizontal",
            "style": "IPY_MODEL_b1713354875241288ebf2aa0eec41653",
            "value": 571
          }
        },
        "e003859c8256484d80722d684c08b9ec": {
          "model_module": "@jupyter-widgets/controls",
          "model_module_version": "1.5.0",
          "model_name": "DescriptionStyleModel",
          "state": {
            "_model_module": "@jupyter-widgets/controls",
            "_model_module_version": "1.5.0",
            "_model_name": "DescriptionStyleModel",
            "_view_count": null,
            "_view_module": "@jupyter-widgets/base",
            "_view_module_version": "1.2.0",
            "_view_name": "StyleView",
            "description_width": ""
          }
        },
        "e22abbcd1df64d31bb764a653bc2bb2c": {
          "model_module": "@jupyter-widgets/controls",
          "model_module_version": "1.5.0",
          "model_name": "DescriptionStyleModel",
          "state": {
            "_model_module": "@jupyter-widgets/controls",
            "_model_module_version": "1.5.0",
            "_model_name": "DescriptionStyleModel",
            "_view_count": null,
            "_view_module": "@jupyter-widgets/base",
            "_view_module_version": "1.2.0",
            "_view_name": "StyleView",
            "description_width": ""
          }
        },
        "e76595e4dbe34ff5a707dfc98fdbeef1": {
          "model_module": "@jupyter-widgets/controls",
          "model_module_version": "1.5.0",
          "model_name": "HBoxModel",
          "state": {
            "_dom_classes": [],
            "_model_module": "@jupyter-widgets/controls",
            "_model_module_version": "1.5.0",
            "_model_name": "HBoxModel",
            "_view_count": null,
            "_view_module": "@jupyter-widgets/controls",
            "_view_module_version": "1.5.0",
            "_view_name": "HBoxView",
            "box_style": "",
            "children": [
              "IPY_MODEL_4be60070589f47d4be86f908fdb2c208",
              "IPY_MODEL_0e3ddb0f24914816961b84a409a7241d",
              "IPY_MODEL_145593d25b86445e83d3a0bffc378812"
            ],
            "layout": "IPY_MODEL_31ec0af439774194b0eab41edfd0e6fe"
          }
        },
        "ea3b0d18c9d84c7989461081bf9f5eeb": {
          "model_module": "@jupyter-widgets/controls",
          "model_module_version": "1.5.0",
          "model_name": "HTMLModel",
          "state": {
            "_dom_classes": [],
            "_model_module": "@jupyter-widgets/controls",
            "_model_module_version": "1.5.0",
            "_model_name": "HTMLModel",
            "_view_count": null,
            "_view_module": "@jupyter-widgets/controls",
            "_view_module_version": "1.5.0",
            "_view_name": "HTMLView",
            "description": "",
            "description_tooltip": null,
            "layout": "IPY_MODEL_63ce6a6d11fb41deb8cc05a319ce2eea",
            "placeholder": "​",
            "style": "IPY_MODEL_9fafbdae9bce49b99bab7fb57f8ffec8",
            "value": " 571/571 [00:00&lt;00:00, 18.3kB/s]"
          }
        },
        "ea9ec4c93b1c4cbba9439016ec6775ca": {
          "model_module": "@jupyter-widgets/controls",
          "model_module_version": "1.5.0",
          "model_name": "DescriptionStyleModel",
          "state": {
            "_model_module": "@jupyter-widgets/controls",
            "_model_module_version": "1.5.0",
            "_model_name": "DescriptionStyleModel",
            "_view_count": null,
            "_view_module": "@jupyter-widgets/base",
            "_view_module_version": "1.2.0",
            "_view_name": "StyleView",
            "description_width": ""
          }
        },
        "eb4209d737f7468db678cb85a3532df3": {
          "model_module": "@jupyter-widgets/controls",
          "model_module_version": "1.5.0",
          "model_name": "FloatProgressModel",
          "state": {
            "_dom_classes": [],
            "_model_module": "@jupyter-widgets/controls",
            "_model_module_version": "1.5.0",
            "_model_name": "FloatProgressModel",
            "_view_count": null,
            "_view_module": "@jupyter-widgets/controls",
            "_view_module_version": "1.5.0",
            "_view_name": "ProgressView",
            "bar_style": "success",
            "description": "",
            "description_tooltip": null,
            "layout": "IPY_MODEL_9f408c9cf0324408b282b1a6e8fe8684",
            "max": 10621,
            "min": 0,
            "orientation": "horizontal",
            "style": "IPY_MODEL_061da184f0c24513a257f2a7843b3962",
            "value": 10621
          }
        },
        "ebbbd8d7eef441e1851795be63ae5c62": {
          "model_module": "@jupyter-widgets/base",
          "model_module_version": "1.2.0",
          "model_name": "LayoutModel",
          "state": {
            "_model_module": "@jupyter-widgets/base",
            "_model_module_version": "1.2.0",
            "_model_name": "LayoutModel",
            "_view_count": null,
            "_view_module": "@jupyter-widgets/base",
            "_view_module_version": "1.2.0",
            "_view_name": "LayoutView",
            "align_content": null,
            "align_items": null,
            "align_self": null,
            "border": null,
            "bottom": null,
            "display": null,
            "flex": null,
            "flex_flow": null,
            "grid_area": null,
            "grid_auto_columns": null,
            "grid_auto_flow": null,
            "grid_auto_rows": null,
            "grid_column": null,
            "grid_gap": null,
            "grid_row": null,
            "grid_template_areas": null,
            "grid_template_columns": null,
            "grid_template_rows": null,
            "height": null,
            "justify_content": null,
            "justify_items": null,
            "left": null,
            "margin": null,
            "max_height": null,
            "max_width": null,
            "min_height": null,
            "min_width": null,
            "object_fit": null,
            "object_position": null,
            "order": null,
            "overflow": null,
            "overflow_x": null,
            "overflow_y": null,
            "padding": null,
            "right": null,
            "top": null,
            "visibility": null,
            "width": null
          }
        },
        "f14f65317d02475cbd2f63ec8661569c": {
          "model_module": "@jupyter-widgets/base",
          "model_module_version": "1.2.0",
          "model_name": "LayoutModel",
          "state": {
            "_model_module": "@jupyter-widgets/base",
            "_model_module_version": "1.2.0",
            "_model_name": "LayoutModel",
            "_view_count": null,
            "_view_module": "@jupyter-widgets/base",
            "_view_module_version": "1.2.0",
            "_view_name": "LayoutView",
            "align_content": null,
            "align_items": null,
            "align_self": null,
            "border": null,
            "bottom": null,
            "display": null,
            "flex": null,
            "flex_flow": null,
            "grid_area": null,
            "grid_auto_columns": null,
            "grid_auto_flow": null,
            "grid_auto_rows": null,
            "grid_column": null,
            "grid_gap": null,
            "grid_row": null,
            "grid_template_areas": null,
            "grid_template_columns": null,
            "grid_template_rows": null,
            "height": null,
            "justify_content": null,
            "justify_items": null,
            "left": null,
            "margin": null,
            "max_height": null,
            "max_width": null,
            "min_height": null,
            "min_width": null,
            "object_fit": null,
            "object_position": null,
            "order": null,
            "overflow": null,
            "overflow_x": null,
            "overflow_y": null,
            "padding": null,
            "right": null,
            "top": null,
            "visibility": null,
            "width": null
          }
        },
        "f2a3eddb812a40d9aad3d3250571ffba": {
          "model_module": "@jupyter-widgets/controls",
          "model_module_version": "1.5.0",
          "model_name": "HBoxModel",
          "state": {
            "_dom_classes": [],
            "_model_module": "@jupyter-widgets/controls",
            "_model_module_version": "1.5.0",
            "_model_name": "HBoxModel",
            "_view_count": null,
            "_view_module": "@jupyter-widgets/controls",
            "_view_module_version": "1.5.0",
            "_view_name": "HBoxView",
            "box_style": "",
            "children": [
              "IPY_MODEL_c8ec429253644737ad73ed644b751738",
              "IPY_MODEL_1cf5bbaf36d149c8acc4d81780b7a25a",
              "IPY_MODEL_59b1c5fd65144827a4ee313598a28a72"
            ],
            "layout": "IPY_MODEL_a5c9b64973b14e549cff34c7c559a23e"
          }
        },
        "f3bdbc4553404048a8948eda05ab07ec": {
          "model_module": "@jupyter-widgets/controls",
          "model_module_version": "1.5.0",
          "model_name": "FloatProgressModel",
          "state": {
            "_dom_classes": [],
            "_model_module": "@jupyter-widgets/controls",
            "_model_module_version": "1.5.0",
            "_model_name": "FloatProgressModel",
            "_view_count": null,
            "_view_module": "@jupyter-widgets/controls",
            "_view_module_version": "1.5.0",
            "_view_name": "ProgressView",
            "bar_style": "success",
            "description": "",
            "description_tooltip": null,
            "layout": "IPY_MODEL_b2065c38df2e45b086e31beec572863f",
            "max": 231536,
            "min": 0,
            "orientation": "horizontal",
            "style": "IPY_MODEL_5964c2c98cf945028703bbfe9b8d9423",
            "value": 231536
          }
        },
        "f3f8713c725144289c2a9877513e2b60": {
          "model_module": "@jupyter-widgets/controls",
          "model_module_version": "1.5.0",
          "model_name": "HTMLModel",
          "state": {
            "_dom_classes": [],
            "_model_module": "@jupyter-widgets/controls",
            "_model_module_version": "1.5.0",
            "_model_name": "HTMLModel",
            "_view_count": null,
            "_view_module": "@jupyter-widgets/controls",
            "_view_module_version": "1.5.0",
            "_view_name": "HTMLView",
            "description": "",
            "description_tooltip": null,
            "layout": "IPY_MODEL_1b8575c46b9f4f6095f71d52224940c4",
            "placeholder": "​",
            "style": "IPY_MODEL_d386c001f21c48d1b5f4603b407138e0",
            "value": " 217M/217M [00:01&lt;00:00, 171MB/s]"
          }
        },
        "f671e23e5ad843d19376209874fb4223": {
          "model_module": "@jupyter-widgets/controls",
          "model_module_version": "1.5.0",
          "model_name": "HBoxModel",
          "state": {
            "_dom_classes": [],
            "_model_module": "@jupyter-widgets/controls",
            "_model_module_version": "1.5.0",
            "_model_name": "HBoxModel",
            "_view_count": null,
            "_view_module": "@jupyter-widgets/controls",
            "_view_module_version": "1.5.0",
            "_view_name": "HBoxView",
            "box_style": "",
            "children": [
              "IPY_MODEL_2dec8bf736534adf9e47b913176dd098",
              "IPY_MODEL_f3bdbc4553404048a8948eda05ab07ec",
              "IPY_MODEL_c238d3e4447e4b07b4ef4cc50ce83614"
            ],
            "layout": "IPY_MODEL_634afdb5530a4875b115b4a05ac59465"
          }
        },
        "f69731b22b0c4c8fa69c8095f698b875": {
          "model_module": "@jupyter-widgets/base",
          "model_module_version": "1.2.0",
          "model_name": "LayoutModel",
          "state": {
            "_model_module": "@jupyter-widgets/base",
            "_model_module_version": "1.2.0",
            "_model_name": "LayoutModel",
            "_view_count": null,
            "_view_module": "@jupyter-widgets/base",
            "_view_module_version": "1.2.0",
            "_view_name": "LayoutView",
            "align_content": null,
            "align_items": null,
            "align_self": null,
            "border": null,
            "bottom": null,
            "display": null,
            "flex": null,
            "flex_flow": null,
            "grid_area": null,
            "grid_auto_columns": null,
            "grid_auto_flow": null,
            "grid_auto_rows": null,
            "grid_column": null,
            "grid_gap": null,
            "grid_row": null,
            "grid_template_areas": null,
            "grid_template_columns": null,
            "grid_template_rows": null,
            "height": null,
            "justify_content": null,
            "justify_items": null,
            "left": null,
            "margin": null,
            "max_height": null,
            "max_width": null,
            "min_height": null,
            "min_width": null,
            "object_fit": null,
            "object_position": null,
            "order": null,
            "overflow": null,
            "overflow_x": null,
            "overflow_y": null,
            "padding": null,
            "right": null,
            "top": null,
            "visibility": null,
            "width": null
          }
        },
        "fba88004e8a645eb9e674e261ad87aae": {
          "model_module": "@jupyter-widgets/controls",
          "model_module_version": "1.5.0",
          "model_name": "ProgressStyleModel",
          "state": {
            "_model_module": "@jupyter-widgets/controls",
            "_model_module_version": "1.5.0",
            "_model_name": "ProgressStyleModel",
            "_view_count": null,
            "_view_module": "@jupyter-widgets/base",
            "_view_module_version": "1.2.0",
            "_view_name": "StyleView",
            "bar_color": null,
            "description_width": ""
          }
        },
        "fcc01ecbd0184b6095a7f4eb81d9c713": {
          "model_module": "@jupyter-widgets/base",
          "model_module_version": "1.2.0",
          "model_name": "LayoutModel",
          "state": {
            "_model_module": "@jupyter-widgets/base",
            "_model_module_version": "1.2.0",
            "_model_name": "LayoutModel",
            "_view_count": null,
            "_view_module": "@jupyter-widgets/base",
            "_view_module_version": "1.2.0",
            "_view_name": "LayoutView",
            "align_content": null,
            "align_items": null,
            "align_self": null,
            "border": null,
            "bottom": null,
            "display": null,
            "flex": null,
            "flex_flow": null,
            "grid_area": null,
            "grid_auto_columns": null,
            "grid_auto_flow": null,
            "grid_auto_rows": null,
            "grid_column": null,
            "grid_gap": null,
            "grid_row": null,
            "grid_template_areas": null,
            "grid_template_columns": null,
            "grid_template_rows": null,
            "height": null,
            "justify_content": null,
            "justify_items": null,
            "left": null,
            "margin": null,
            "max_height": null,
            "max_width": null,
            "min_height": null,
            "min_width": null,
            "object_fit": null,
            "object_position": null,
            "order": null,
            "overflow": null,
            "overflow_x": null,
            "overflow_y": null,
            "padding": null,
            "right": null,
            "top": null,
            "visibility": null,
            "width": null
          }
        },
        "fd8b2287b848444aa20cb60efb491589": {
          "model_module": "@jupyter-widgets/controls",
          "model_module_version": "1.5.0",
          "model_name": "DescriptionStyleModel",
          "state": {
            "_model_module": "@jupyter-widgets/controls",
            "_model_module_version": "1.5.0",
            "_model_name": "DescriptionStyleModel",
            "_view_count": null,
            "_view_module": "@jupyter-widgets/base",
            "_view_module_version": "1.2.0",
            "_view_name": "StyleView",
            "description_width": ""
          }
        },
        "fe73f327ad0f40478b259333b2946496": {
          "model_module": "@jupyter-widgets/controls",
          "model_module_version": "1.5.0",
          "model_name": "ProgressStyleModel",
          "state": {
            "_model_module": "@jupyter-widgets/controls",
            "_model_module_version": "1.5.0",
            "_model_name": "ProgressStyleModel",
            "_view_count": null,
            "_view_module": "@jupyter-widgets/base",
            "_view_module_version": "1.2.0",
            "_view_name": "StyleView",
            "bar_color": null,
            "description_width": ""
          }
        },
        "ffd7db656869457a8e0251865e3824a1": {
          "model_module": "@jupyter-widgets/controls",
          "model_module_version": "1.5.0",
          "model_name": "ProgressStyleModel",
          "state": {
            "_model_module": "@jupyter-widgets/controls",
            "_model_module_version": "1.5.0",
            "_model_name": "ProgressStyleModel",
            "_view_count": null,
            "_view_module": "@jupyter-widgets/base",
            "_view_module_version": "1.2.0",
            "_view_name": "StyleView",
            "bar_color": null,
            "description_width": ""
          }
        }
      }
    }
  },
  "nbformat": 4,
  "nbformat_minor": 0
}
